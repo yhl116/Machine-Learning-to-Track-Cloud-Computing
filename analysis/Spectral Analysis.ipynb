{
 "cells": [
  {
   "cell_type": "code",
   "execution_count": 1,
   "metadata": {},
   "outputs": [
    {
     "data": {
      "application/javascript": [
       "IPython.OutputArea.prototype._should_scroll = function(lines){\n",
       "    return false;\n",
       "}\n"
      ],
      "text/plain": [
       "<IPython.core.display.Javascript object>"
      ]
     },
     "metadata": {},
     "output_type": "display_data"
    }
   ],
   "source": [
    "%%javascript\n",
    "IPython.OutputArea.prototype._should_scroll = function(lines){\n",
    "    return false;\n",
    "}"
   ]
  },
  {
   "cell_type": "code",
   "execution_count": 2,
   "metadata": {},
   "outputs": [
    {
     "name": "stdout",
     "output_type": "stream",
     "text": [
      "/Users/yeehonglow/Documents/Imperial/Machine-Learning-to-Track-Cloud-Computing\n"
     ]
    }
   ],
   "source": [
    "cd .."
   ]
  },
  {
   "cell_type": "code",
   "execution_count": null,
   "metadata": {},
   "outputs": [],
   "source": [
    "import pandas as pd\n",
    "import matplotlib.pyplot as plt\n",
    "import numpy as np\n",
    "import random\n",
    "from random import randrange\n",
    "import matplotlib.pyplot as plt\n",
    "\n",
    "\n",
    "random.seed(1)\n",
    "x_axis = np.arange(0, 29-1/288, 1/288).tolist()\n",
    "np_cpu = np.load(\"wetransfer-2ee104//google-cpu-full.npy\")\n",
    "\n",
    "# full_cpu is a list of pandas series of the cpu utilisation of all machines\n",
    "# just a lazy way of converting nd-arrays to pd-series\n",
    "full_cpu = []\n",
    "for x in range (0,len(np_cpu)):\n",
    "    full_cpu.append(pd.Series(np_cpu[x], index = x_axis))  "
   ]
  },
  {
   "cell_type": "code",
   "execution_count": null,
   "metadata": {},
   "outputs": [],
   "source": [
    "# we then look at the frequency domain of the \n",
    "\n",
    "def plot_fft(index_list):\n",
    "    from scipy.fftpack import fft\n",
    "    for index in index_list:\n",
    "        autocorrelation = pd.Series([full_cpu[index].autocorr(n) for n in range(len(full_cpu[index]))]).dropna()\n",
    "        T = 1/288\n",
    "        N = len(autocorrelation)\n",
    "        yf = np.abs(np.fft.fft(autocorrelation))\n",
    "        plt.figure(figsize=(20,5))\n",
    "        xf = np.linspace(0.0, 1.0/(2.0*T), N//2)\n",
    "        plt.plot(x_axis[0:len(yf)],yf, color = 'blue')  \n",
    "        plt.title(\"Mean CPU Usage Rate of Machine \" + str(index) + \" vs Days\")  \n",
    "        plt.xlabel(\"Days\")  \n",
    "        plt.ylabel(\"Mean CPU Usage\")  \n",
    "        plt.minorticks_on()\n",
    "        plt.grid(which='major', linestyle='-', linewidth='0.5', color='red')\n",
    "        plt.grid(which='minor', linestyle=':', linewidth='0.5', color='black')\n",
    "        plt.show()"
   ]
  }
 ],
 "metadata": {
  "kernelspec": {
   "display_name": "Python 3",
   "language": "python",
   "name": "python3"
  },
  "language_info": {
   "codemirror_mode": {
    "name": "ipython",
    "version": 3
   },
   "file_extension": ".py",
   "mimetype": "text/x-python",
   "name": "python",
   "nbconvert_exporter": "python",
   "pygments_lexer": "ipython3",
   "version": "3.7.3"
  }
 },
 "nbformat": 4,
 "nbformat_minor": 2
}
