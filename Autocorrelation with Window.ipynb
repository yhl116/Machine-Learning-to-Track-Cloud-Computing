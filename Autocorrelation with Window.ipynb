{
 "cells": [
  {
   "cell_type": "code",
   "execution_count": 1,
   "metadata": {},
   "outputs": [
    {
     "data": {
      "application/javascript": [
       "IPython.OutputArea.prototype._should_scroll = function(lines){\n",
       "    return false;\n",
       "}\n"
      ],
      "text/plain": [
       "<IPython.core.display.Javascript object>"
      ]
     },
     "metadata": {},
     "output_type": "display_data"
    }
   ],
   "source": [
    "%%javascript\n",
    "IPython.OutputArea.prototype._should_scroll = function(lines){\n",
    "    return false;\n",
    "}"
   ]
  },
  {
   "cell_type": "code",
   "execution_count": 2,
   "metadata": {},
   "outputs": [],
   "source": [
    "import pandas as pd\n",
    "import matplotlib.pyplot as plt\n",
    "import numpy as np\n",
    "import random\n",
    "from random import randrange\n",
    "\n",
    "random.seed(1)\n",
    "x_axis = np.arange(0, 29-1/288, 1/288).tolist()\n",
    "np_cpu = np.load(\"wetransfer-2ee104//google-cpu-full.npy\")\n",
    "\n",
    "# full_cpu is a list of pandas series of the cpu utilisation of all machines\n",
    "# just a lazy way of converting nd-arrays to pd-series\n",
    "full_cpu = []\n",
    "for x in range (0,len(np_cpu)):\n",
    "    full_cpu.append(pd.Series(np_cpu[x], index = x_axis))  \n",
    "    \n",
    "random_samples = [34, 150, 352, 365, 416, 464, 475, 501, 565, 1033, 1416, 1537, 1638, 1674, 1768, 1931, 1980, 2201, \n",
    "                  2682, 2834, 3045, 3110, 3439, 3548, 3584, 3632, 3748, 3782, 3818, 3977, 4179, 4363, 4655, 4747, \n",
    "                  4856, 4970, 5200, 5450, 5663, 6014, 6070, 6139, 6219, 6245, 6386, 6443, 6444, 6623, 6788, 6818, \n",
    "                  6915, 7090, 7174, 7191, 7297, 7364, 7530, 7737, 7868, 7993, 8023, 8117, 8123, 8181, 8205, 8278, \n",
    "                  8318, 8330, 8535, 8644, 8870, 8991, 9058, 9116, 9325, 9626, 9650, 9685, 9952, 10311, 10523, 10642,\n",
    "                  10675, 10875, 10891, 10982, 11050, 11089, 11247, 11400, 11518, 11652, 11820, 11821, 11856, 11892,\n",
    "                  12094, 12175, 12185, 12467]   "
   ]
  },
  {
   "cell_type": "code",
   "execution_count": null,
   "metadata": {},
   "outputs": [],
   "source": [
    "def plot_autocorrelation(index_list):\n",
    "    for index in index_list:\n",
    "        autocorrelation = [full_cpu[index].autocorr(n) for n in range(len(full_cpu[index]))]\n",
    "        plt.figure(figsize=(20,5))\n",
    "        plt.plot(x_axis, autocorrelation, color = 'blue')  \n",
    "        plt.title(\"Mean CPU Usage Rate of Machine \" + str(index) + \" vs Days\")  \n",
    "        plt.xlabel(\"Days\")  \n",
    "        plt.ylabel(\"Mean CPU Usage\")  \n",
    "        plt.minorticks_on()\n",
    "        plt.grid(which='major', linestyle='-', linewidth='0.5', color='red')\n",
    "        plt.grid(which='minor', linestyle=':', linewidth='0.5', color='black')\n",
    "        plt.show()"
   ]
  }
 ],
 "metadata": {
  "kernelspec": {
   "display_name": "Python 3",
   "language": "python",
   "name": "python3"
  },
  "language_info": {
   "codemirror_mode": {
    "name": "ipython",
    "version": 3
   },
   "file_extension": ".py",
   "mimetype": "text/x-python",
   "name": "python",
   "nbconvert_exporter": "python",
   "pygments_lexer": "ipython3",
   "version": "3.7.3"
  }
 },
 "nbformat": 4,
 "nbformat_minor": 2
}
