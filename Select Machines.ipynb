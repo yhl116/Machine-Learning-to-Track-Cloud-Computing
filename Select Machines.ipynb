{
 "cells": [
  {
   "cell_type": "code",
   "execution_count": 19,
   "metadata": {},
   "outputs": [
    {
     "data": {
      "application/javascript": [
       "IPython.OutputArea.prototype._should_scroll = function(lines){\n",
       "    return false;\n",
       "}\n"
      ],
      "text/plain": [
       "<IPython.core.display.Javascript object>"
      ]
     },
     "metadata": {},
     "output_type": "display_data"
    }
   ],
   "source": [
    "%%javascript\n",
    "IPython.OutputArea.prototype._should_scroll = function(lines){\n",
    "    return false;\n",
    "}"
   ]
  },
  {
   "cell_type": "code",
   "execution_count": 63,
   "metadata": {},
   "outputs": [],
   "source": [
    "import pandas as pd\n",
    "import matplotlib\n",
    "import matplotlib.pyplot as plt\n",
    "import numpy as np\n",
    "import random\n",
    "from random import randrange\n",
    "import progressbar\n",
    "\n",
    "SELECT_NUMBER = 1000\n",
    "\n",
    "random.seed(1)\n",
    "np_cpu = np.load(\"wetransfer-2ee104//google-cpu-full.npy\")\n",
    "df_cpu = pd.DataFrame(np_cpu).transpose()"
   ]
  },
  {
   "cell_type": "markdown",
   "metadata": {},
   "source": [
    "# All Correlation"
   ]
  },
  {
   "cell_type": "code",
   "execution_count": null,
   "metadata": {},
   "outputs": [],
   "source": [
    "# # uncomment to generate all_cpu_correlation.csv\n",
    "# # all_cpu_correlation is a dataframe with the correlation of all the machines with T = 8350\n",
    "\n",
    "# # computing the correlation between all machines and saving to a csv\n",
    "# all_cpu_correlation = df_cpu.corr()\n",
    "# all_cpu_correlation.to_csv(\"all_cpu_correlation.csv\")\n",
    "# all_cpu_correlation = all_cpu_correlation.abs()\n",
    "# all_cpu_correlation"
   ]
  },
  {
   "cell_type": "code",
   "execution_count": 21,
   "metadata": {},
   "outputs": [
    {
     "data": {
      "text/html": [
       "<div>\n",
       "<style scoped>\n",
       "    .dataframe tbody tr th:only-of-type {\n",
       "        vertical-align: middle;\n",
       "    }\n",
       "\n",
       "    .dataframe tbody tr th {\n",
       "        vertical-align: top;\n",
       "    }\n",
       "\n",
       "    .dataframe thead th {\n",
       "        text-align: right;\n",
       "    }\n",
       "</style>\n",
       "<table border=\"1\" class=\"dataframe\">\n",
       "  <thead>\n",
       "    <tr style=\"text-align: right;\">\n",
       "      <th></th>\n",
       "      <th>0</th>\n",
       "      <th>1</th>\n",
       "      <th>2</th>\n",
       "      <th>3</th>\n",
       "      <th>4</th>\n",
       "      <th>5</th>\n",
       "      <th>6</th>\n",
       "      <th>7</th>\n",
       "      <th>8</th>\n",
       "      <th>9</th>\n",
       "      <th>...</th>\n",
       "      <th>12466</th>\n",
       "      <th>12467</th>\n",
       "      <th>12468</th>\n",
       "      <th>12469</th>\n",
       "      <th>12470</th>\n",
       "      <th>12471</th>\n",
       "      <th>12472</th>\n",
       "      <th>12473</th>\n",
       "      <th>12474</th>\n",
       "      <th>12475</th>\n",
       "    </tr>\n",
       "  </thead>\n",
       "  <tbody>\n",
       "    <tr>\n",
       "      <th>0</th>\n",
       "      <td>1.000000</td>\n",
       "      <td>0.182548</td>\n",
       "      <td>0.293396</td>\n",
       "      <td>0.147556</td>\n",
       "      <td>0.371543</td>\n",
       "      <td>0.434098</td>\n",
       "      <td>0.198072</td>\n",
       "      <td>0.413441</td>\n",
       "      <td>0.296714</td>\n",
       "      <td>0.489531</td>\n",
       "      <td>...</td>\n",
       "      <td>0.013233</td>\n",
       "      <td>0.337846</td>\n",
       "      <td>0.506589</td>\n",
       "      <td>0.326902</td>\n",
       "      <td>0.361901</td>\n",
       "      <td>0.531176</td>\n",
       "      <td>0.364277</td>\n",
       "      <td>0.303356</td>\n",
       "      <td>0.061162</td>\n",
       "      <td>0.363819</td>\n",
       "    </tr>\n",
       "    <tr>\n",
       "      <th>1</th>\n",
       "      <td>0.182548</td>\n",
       "      <td>1.000000</td>\n",
       "      <td>0.243375</td>\n",
       "      <td>0.189525</td>\n",
       "      <td>0.006541</td>\n",
       "      <td>0.171590</td>\n",
       "      <td>0.244268</td>\n",
       "      <td>0.087363</td>\n",
       "      <td>0.352426</td>\n",
       "      <td>0.361932</td>\n",
       "      <td>...</td>\n",
       "      <td>0.155401</td>\n",
       "      <td>0.136400</td>\n",
       "      <td>0.145904</td>\n",
       "      <td>0.137189</td>\n",
       "      <td>0.287106</td>\n",
       "      <td>0.303303</td>\n",
       "      <td>0.174202</td>\n",
       "      <td>0.118051</td>\n",
       "      <td>0.196405</td>\n",
       "      <td>0.302263</td>\n",
       "    </tr>\n",
       "    <tr>\n",
       "      <th>2</th>\n",
       "      <td>0.293396</td>\n",
       "      <td>0.243375</td>\n",
       "      <td>1.000000</td>\n",
       "      <td>0.140648</td>\n",
       "      <td>0.112303</td>\n",
       "      <td>0.053745</td>\n",
       "      <td>0.186293</td>\n",
       "      <td>0.054868</td>\n",
       "      <td>0.186472</td>\n",
       "      <td>0.278411</td>\n",
       "      <td>...</td>\n",
       "      <td>0.026876</td>\n",
       "      <td>0.125050</td>\n",
       "      <td>0.115339</td>\n",
       "      <td>0.140605</td>\n",
       "      <td>0.198736</td>\n",
       "      <td>0.316958</td>\n",
       "      <td>0.217808</td>\n",
       "      <td>0.068587</td>\n",
       "      <td>0.011677</td>\n",
       "      <td>0.156072</td>\n",
       "    </tr>\n",
       "    <tr>\n",
       "      <th>3</th>\n",
       "      <td>0.147556</td>\n",
       "      <td>0.189525</td>\n",
       "      <td>0.140648</td>\n",
       "      <td>1.000000</td>\n",
       "      <td>0.058056</td>\n",
       "      <td>0.253711</td>\n",
       "      <td>0.241811</td>\n",
       "      <td>0.251068</td>\n",
       "      <td>0.339572</td>\n",
       "      <td>0.300277</td>\n",
       "      <td>...</td>\n",
       "      <td>0.232102</td>\n",
       "      <td>0.131432</td>\n",
       "      <td>0.212682</td>\n",
       "      <td>0.250599</td>\n",
       "      <td>0.263887</td>\n",
       "      <td>0.247532</td>\n",
       "      <td>0.298648</td>\n",
       "      <td>0.241237</td>\n",
       "      <td>0.212015</td>\n",
       "      <td>0.180568</td>\n",
       "    </tr>\n",
       "    <tr>\n",
       "      <th>4</th>\n",
       "      <td>0.371543</td>\n",
       "      <td>0.006541</td>\n",
       "      <td>0.112303</td>\n",
       "      <td>0.058056</td>\n",
       "      <td>1.000000</td>\n",
       "      <td>0.014277</td>\n",
       "      <td>0.045071</td>\n",
       "      <td>0.115329</td>\n",
       "      <td>0.105065</td>\n",
       "      <td>0.121746</td>\n",
       "      <td>...</td>\n",
       "      <td>0.329945</td>\n",
       "      <td>0.003419</td>\n",
       "      <td>0.198718</td>\n",
       "      <td>0.068762</td>\n",
       "      <td>0.084708</td>\n",
       "      <td>0.264060</td>\n",
       "      <td>0.211030</td>\n",
       "      <td>0.151725</td>\n",
       "      <td>0.326329</td>\n",
       "      <td>0.050278</td>\n",
       "    </tr>\n",
       "    <tr>\n",
       "      <th>...</th>\n",
       "      <td>...</td>\n",
       "      <td>...</td>\n",
       "      <td>...</td>\n",
       "      <td>...</td>\n",
       "      <td>...</td>\n",
       "      <td>...</td>\n",
       "      <td>...</td>\n",
       "      <td>...</td>\n",
       "      <td>...</td>\n",
       "      <td>...</td>\n",
       "      <td>...</td>\n",
       "      <td>...</td>\n",
       "      <td>...</td>\n",
       "      <td>...</td>\n",
       "      <td>...</td>\n",
       "      <td>...</td>\n",
       "      <td>...</td>\n",
       "      <td>...</td>\n",
       "      <td>...</td>\n",
       "      <td>...</td>\n",
       "      <td>...</td>\n",
       "    </tr>\n",
       "    <tr>\n",
       "      <th>12471</th>\n",
       "      <td>0.531176</td>\n",
       "      <td>0.303303</td>\n",
       "      <td>0.316958</td>\n",
       "      <td>0.247532</td>\n",
       "      <td>0.264060</td>\n",
       "      <td>0.408752</td>\n",
       "      <td>0.334992</td>\n",
       "      <td>0.431348</td>\n",
       "      <td>0.417225</td>\n",
       "      <td>0.535413</td>\n",
       "      <td>...</td>\n",
       "      <td>0.240960</td>\n",
       "      <td>0.273504</td>\n",
       "      <td>0.496323</td>\n",
       "      <td>0.345101</td>\n",
       "      <td>0.502203</td>\n",
       "      <td>1.000000</td>\n",
       "      <td>0.445638</td>\n",
       "      <td>0.316005</td>\n",
       "      <td>0.106159</td>\n",
       "      <td>0.409110</td>\n",
       "    </tr>\n",
       "    <tr>\n",
       "      <th>12472</th>\n",
       "      <td>0.364277</td>\n",
       "      <td>0.174202</td>\n",
       "      <td>0.217808</td>\n",
       "      <td>0.298648</td>\n",
       "      <td>0.211030</td>\n",
       "      <td>0.260090</td>\n",
       "      <td>0.144117</td>\n",
       "      <td>0.277020</td>\n",
       "      <td>0.254723</td>\n",
       "      <td>0.344410</td>\n",
       "      <td>...</td>\n",
       "      <td>0.029994</td>\n",
       "      <td>0.169839</td>\n",
       "      <td>0.366731</td>\n",
       "      <td>0.100655</td>\n",
       "      <td>0.339365</td>\n",
       "      <td>0.445638</td>\n",
       "      <td>1.000000</td>\n",
       "      <td>0.164062</td>\n",
       "      <td>0.050031</td>\n",
       "      <td>0.275456</td>\n",
       "    </tr>\n",
       "    <tr>\n",
       "      <th>12473</th>\n",
       "      <td>0.303356</td>\n",
       "      <td>0.118051</td>\n",
       "      <td>0.068587</td>\n",
       "      <td>0.241237</td>\n",
       "      <td>0.151725</td>\n",
       "      <td>0.477328</td>\n",
       "      <td>0.258073</td>\n",
       "      <td>0.400237</td>\n",
       "      <td>0.392263</td>\n",
       "      <td>0.392945</td>\n",
       "      <td>...</td>\n",
       "      <td>0.408976</td>\n",
       "      <td>0.394879</td>\n",
       "      <td>0.422945</td>\n",
       "      <td>0.379233</td>\n",
       "      <td>0.305568</td>\n",
       "      <td>0.316005</td>\n",
       "      <td>0.164062</td>\n",
       "      <td>1.000000</td>\n",
       "      <td>0.326421</td>\n",
       "      <td>0.262081</td>\n",
       "    </tr>\n",
       "    <tr>\n",
       "      <th>12474</th>\n",
       "      <td>0.061162</td>\n",
       "      <td>0.196405</td>\n",
       "      <td>0.011677</td>\n",
       "      <td>0.212015</td>\n",
       "      <td>0.326329</td>\n",
       "      <td>0.185391</td>\n",
       "      <td>0.253849</td>\n",
       "      <td>0.212569</td>\n",
       "      <td>0.326837</td>\n",
       "      <td>0.271802</td>\n",
       "      <td>...</td>\n",
       "      <td>0.430247</td>\n",
       "      <td>0.196720</td>\n",
       "      <td>0.148528</td>\n",
       "      <td>0.163455</td>\n",
       "      <td>0.279633</td>\n",
       "      <td>0.106159</td>\n",
       "      <td>0.050031</td>\n",
       "      <td>0.326421</td>\n",
       "      <td>1.000000</td>\n",
       "      <td>0.105131</td>\n",
       "    </tr>\n",
       "    <tr>\n",
       "      <th>12475</th>\n",
       "      <td>0.363819</td>\n",
       "      <td>0.302263</td>\n",
       "      <td>0.156072</td>\n",
       "      <td>0.180568</td>\n",
       "      <td>0.050278</td>\n",
       "      <td>0.366999</td>\n",
       "      <td>0.244961</td>\n",
       "      <td>0.259355</td>\n",
       "      <td>0.277205</td>\n",
       "      <td>0.320329</td>\n",
       "      <td>...</td>\n",
       "      <td>0.176269</td>\n",
       "      <td>0.251321</td>\n",
       "      <td>0.379969</td>\n",
       "      <td>0.312604</td>\n",
       "      <td>0.342955</td>\n",
       "      <td>0.409110</td>\n",
       "      <td>0.275456</td>\n",
       "      <td>0.262081</td>\n",
       "      <td>0.105131</td>\n",
       "      <td>1.000000</td>\n",
       "    </tr>\n",
       "  </tbody>\n",
       "</table>\n",
       "<p>12476 rows × 12476 columns</p>\n",
       "</div>"
      ],
      "text/plain": [
       "          0         1         2         3         4         5         6      \\\n",
       "0      1.000000  0.182548  0.293396  0.147556  0.371543  0.434098  0.198072   \n",
       "1      0.182548  1.000000  0.243375  0.189525  0.006541  0.171590  0.244268   \n",
       "2      0.293396  0.243375  1.000000  0.140648  0.112303  0.053745  0.186293   \n",
       "3      0.147556  0.189525  0.140648  1.000000  0.058056  0.253711  0.241811   \n",
       "4      0.371543  0.006541  0.112303  0.058056  1.000000  0.014277  0.045071   \n",
       "...         ...       ...       ...       ...       ...       ...       ...   \n",
       "12471  0.531176  0.303303  0.316958  0.247532  0.264060  0.408752  0.334992   \n",
       "12472  0.364277  0.174202  0.217808  0.298648  0.211030  0.260090  0.144117   \n",
       "12473  0.303356  0.118051  0.068587  0.241237  0.151725  0.477328  0.258073   \n",
       "12474  0.061162  0.196405  0.011677  0.212015  0.326329  0.185391  0.253849   \n",
       "12475  0.363819  0.302263  0.156072  0.180568  0.050278  0.366999  0.244961   \n",
       "\n",
       "          7         8         9      ...     12466     12467     12468  \\\n",
       "0      0.413441  0.296714  0.489531  ...  0.013233  0.337846  0.506589   \n",
       "1      0.087363  0.352426  0.361932  ...  0.155401  0.136400  0.145904   \n",
       "2      0.054868  0.186472  0.278411  ...  0.026876  0.125050  0.115339   \n",
       "3      0.251068  0.339572  0.300277  ...  0.232102  0.131432  0.212682   \n",
       "4      0.115329  0.105065  0.121746  ...  0.329945  0.003419  0.198718   \n",
       "...         ...       ...       ...  ...       ...       ...       ...   \n",
       "12471  0.431348  0.417225  0.535413  ...  0.240960  0.273504  0.496323   \n",
       "12472  0.277020  0.254723  0.344410  ...  0.029994  0.169839  0.366731   \n",
       "12473  0.400237  0.392263  0.392945  ...  0.408976  0.394879  0.422945   \n",
       "12474  0.212569  0.326837  0.271802  ...  0.430247  0.196720  0.148528   \n",
       "12475  0.259355  0.277205  0.320329  ...  0.176269  0.251321  0.379969   \n",
       "\n",
       "          12469     12470     12471     12472     12473     12474     12475  \n",
       "0      0.326902  0.361901  0.531176  0.364277  0.303356  0.061162  0.363819  \n",
       "1      0.137189  0.287106  0.303303  0.174202  0.118051  0.196405  0.302263  \n",
       "2      0.140605  0.198736  0.316958  0.217808  0.068587  0.011677  0.156072  \n",
       "3      0.250599  0.263887  0.247532  0.298648  0.241237  0.212015  0.180568  \n",
       "4      0.068762  0.084708  0.264060  0.211030  0.151725  0.326329  0.050278  \n",
       "...         ...       ...       ...       ...       ...       ...       ...  \n",
       "12471  0.345101  0.502203  1.000000  0.445638  0.316005  0.106159  0.409110  \n",
       "12472  0.100655  0.339365  0.445638  1.000000  0.164062  0.050031  0.275456  \n",
       "12473  0.379233  0.305568  0.316005  0.164062  1.000000  0.326421  0.262081  \n",
       "12474  0.163455  0.279633  0.106159  0.050031  0.326421  1.000000  0.105131  \n",
       "12475  0.312604  0.342955  0.409110  0.275456  0.262081  0.105131  1.000000  \n",
       "\n",
       "[12476 rows x 12476 columns]"
      ]
     },
     "execution_count": 21,
     "metadata": {},
     "output_type": "execute_result"
    }
   ],
   "source": [
    "# loading correlation matrix from csv\n",
    "all_cpu_correlation = pd.read_csv('all_cpu_correlation.csv')\n",
    "\n",
    "column_name_map = {}\n",
    "for x in range (0,12476):\n",
    "    column_name_map[str(x)]= x\n",
    "    \n",
    "all_cpu_correlation = all_cpu_correlation.drop([\"Unnamed: 0\"], axis = 1)\n",
    "\n",
    "# Note that we take the absolute value\n",
    "all_cpu_correlation = all_cpu_correlation.rename(columns = column_name_map).abs()\n",
    "all_cpu_correlation"
   ]
  },
  {
   "cell_type": "code",
   "execution_count": 22,
   "metadata": {},
   "outputs": [
    {
     "name": "stderr",
     "output_type": "stream",
     "text": [
      "/Users/yeehonglow/Library/Python/3.7/lib/python/site-packages/ipykernel_launcher.py:8: FutureWarning: The signature of `Series.to_csv` was aligned to that of `DataFrame.to_csv`, and argument 'header' will change its default value from False to True: please pass an explicit value to suppress this warning.\n",
      "  \n"
     ]
    }
   ],
   "source": [
    "# # uncomment to generate all_correlation_series.csv\n",
    "# all_correlation_ls = all_cpu_correlation.stack().values\n",
    "\n",
    "# # we ignore the 1s because they are self-correlation\n",
    "# all_correlation_ls =  [x for x in all_correlation_ls if x != 1]\n",
    "\n",
    "# # correlation_series is a pd.series with all the correlation between all machines in a list\n",
    "# # it should have a length of 12476 * 12475 = 155638100\n",
    "# correlation_series = pd.Series(all_correlation_ls)\n",
    "# correlation_series.to_csv(\"all_correlation_series.csv\")"
   ]
  },
  {
   "cell_type": "code",
   "execution_count": 56,
   "metadata": {},
   "outputs": [
    {
     "data": {
      "text/plain": [
       "0            0.182548\n",
       "1            0.293396\n",
       "2            0.147556\n",
       "3            0.371543\n",
       "4            0.434098\n",
       "               ...   \n",
       "155638095    0.342955\n",
       "155638096    0.409110\n",
       "155638097    0.275456\n",
       "155638098    0.262081\n",
       "155638099    0.105131\n",
       "Name: 1, Length: 155638100, dtype: float64"
      ]
     },
     "execution_count": 56,
     "metadata": {},
     "output_type": "execute_result"
    }
   ],
   "source": [
    "# loading correlation_series from csv\n",
    "\n",
    "# correlation_series is a pd.series with all the correlation between all machines in a list\n",
    "# it should have a length of 12476 * 12475 = 155638100\n",
    "correlation_series = pd.read_csv(\"all_correlation_series.csv\", header = None)[1]\n",
    "correlation_series"
   ]
  },
  {
   "cell_type": "code",
   "execution_count": 24,
   "metadata": {},
   "outputs": [
    {
     "data": {
      "text/plain": [
       "Text(0, 0.5, 'Number of Occurences')"
      ]
     },
     "execution_count": 24,
     "metadata": {},
     "output_type": "execute_result"
    },
    {
     "name": "stderr",
     "output_type": "stream",
     "text": [
      "findfont: Font family ['normal'] not found. Falling back to DejaVu Sans.\n",
      "findfont: Font family ['normal'] not found. Falling back to DejaVu Sans.\n"
     ]
    },
    {
     "data": {
      "image/png": "[encoded data removed]",
      "text/plain": [
       "<Figure size 1440x720 with 1 Axes>"
      ]
     },
     "metadata": {
      "needs_background": "light"
     },
     "output_type": "display_data"
    }
   ],
   "source": [
    "# plotting the distribution of the all the correlation\n",
    "\n",
    "plt.figure(figsize=(20,10))\n",
    "binning = np.arange(0, 1.05, 0.001).tolist()\n",
    "value_of_each_bin = plt.hist(correlation_series, bins = binning)\n",
    "plt.minorticks_on()\n",
    "font = {'family' : 'normal',\n",
    "        'weight' : 'normal',\n",
    "        'size'   : 15}\n",
    "plt.rc('font', **font)\n",
    "plt.grid(which='major', linestyle='-', linewidth='0.5', color='red')\n",
    "plt.grid(which='minor', linestyle=':', linewidth='0.5', color='black')\n",
    "plt.title(\"All Cross-correlation Distribution\")\n",
    "plt.xlabel(\"Cross-correlation Coefficient\")\n",
    "plt.ylabel(\"Number of Occurences\")\n",
    "# plt.savefig(\"All_Cross-correlation_Distribution\")"
   ]
  },
  {
   "cell_type": "code",
   "execution_count": 25,
   "metadata": {},
   "outputs": [],
   "source": [
    "# look for the 90th percentile\n",
    "\n",
    "percentile_95 = np.percentile(correlation_series.tolist(), 99.9)\n",
    "max_correlation = pd.read_csv(\"df_max_correlation.csv\", header = None)[1]\n",
    "selected_machines_ls = []\n",
    "\n",
    "for index, x in enumerate(max_correlation):\n",
    "    if x > percentile_95:\n",
    "        selected_machines_ls.append(index)"
   ]
  },
  {
   "cell_type": "code",
   "execution_count": 26,
   "metadata": {},
   "outputs": [
    {
     "name": "stdout",
     "output_type": "stream",
     "text": [
      "Mean of all correlation:  0.3183272494564083\n",
      "% of all correlation has a correlation coefficient of > 0.7\n"
     ]
    }
   ],
   "source": [
    "print(\"Mean of all correlation: \", np.mean(correlation_series))\n",
    "print(\"% of all correlation has a correlation coefficient of > 0.7\")"
   ]
  },
  {
   "cell_type": "markdown",
   "metadata": {},
   "source": [
    "# Maximum Correlation"
   ]
  },
  {
   "cell_type": "code",
   "execution_count": 29,
   "metadata": {},
   "outputs": [],
   "source": [
    "# uncomment this block to generate df_max_correlation.csv\n",
    "\n",
    "# we would like to get the largest correlation for each of the machines\n",
    "# note that we use the 2nd largest correlation as the largest correlation is 1 which is the correlation with itself\n",
    "\n",
    "# def second_largest_number(list1):\n",
    "#     k=max(list1[0],list1[1]) \n",
    "#     secondmax=min(list1[0],list1[1]) \n",
    "\n",
    "#     for i in range(2,len(list1)): \n",
    "#         if list1[i]>k: \n",
    "#             secondmax=k\n",
    "#             k=list1[i] \n",
    "#         else: \n",
    "#             if list1[i]>secondmax: \n",
    "#                 secondmax=list1[i]\n",
    "#     return secondmax            \n",
    "\n",
    "# with progressbar.ProgressBar(max_value = len(all_cpu_correlation)) as bar:\n",
    "#     for index,x in enumerate(all_cpu_correlation):\n",
    "#         bar.update(index)\n",
    "#         map_max_correlation[x] = second_largest_number(all_cpu_correlation[x])\n",
    "    \n",
    "# df_max_correlation = pd.Series(map_max_correlation)    \n",
    "# df_max_correlation.to_csv(\"df_max_correlation.csv\")\n",
    "# df_max_correlation"
   ]
  },
  {
   "cell_type": "code",
   "execution_count": 30,
   "metadata": {},
   "outputs": [],
   "source": [
    "# loading max correlation matrix from csv\n",
    "df_max_correlation = pd.read_csv('df_max_correlation.csv', header = None)[1]"
   ]
  },
  {
   "cell_type": "code",
   "execution_count": 31,
   "metadata": {},
   "outputs": [
    {
     "data": {
      "text/plain": [
       "Text(0, 0.5, 'Number of Occuerences')"
      ]
     },
     "execution_count": 31,
     "metadata": {},
     "output_type": "execute_result"
    },
    {
     "data": {
      "image/png": "[encoded data removed]",
      "text/plain": [
       "<Figure size 1440x720 with 1 Axes>"
      ]
     },
     "metadata": {
      "needs_background": "light"
     },
     "output_type": "display_data"
    }
   ],
   "source": [
    "# plotting the distribution of the maximum correlation\n",
    "\n",
    "plt.figure(figsize=(20,10))\n",
    "binning = np.arange(0, 1.05, 0.01).tolist()\n",
    "value_of_each_bin = plt.hist(df_max_correlation, bins = binning)\n",
    "plt.minorticks_on()\n",
    "font = {'family' : 'normal',\n",
    "        'weight' : 'normal',\n",
    "        'size'   : 15}\n",
    "plt.rc('font', **font)\n",
    "plt.grid(which='major', linestyle='-', linewidth='0.5', color='red')\n",
    "plt.grid(which='minor', linestyle=':', linewidth='0.5', color='black')\n",
    "plt.title(\"Maximum Cross-correlation Distribution\")\n",
    "plt.xlabel(\"Cross-correlation Coefficient\")\n",
    "plt.ylabel(\"Number of Occuerences\")\n",
    "# plt.savefig(\"Maximum_Cross-correlation_Distribution\")"
   ]
  },
  {
   "cell_type": "markdown",
   "metadata": {},
   "source": [
    "# Selecting Machines"
   ]
  },
  {
   "cell_type": "code",
   "execution_count": 106,
   "metadata": {},
   "outputs": [
    {
     "data": {
      "text/plain": [
       "9604    0.748106\n",
       "4451    0.748113\n",
       "8736    0.748144\n",
       "6997    0.748154\n",
       "9918    0.748165\n",
       "          ...   \n",
       "8163    0.982081\n",
       "3911    0.994134\n",
       "9959    0.996148\n",
       "4336    0.997112\n",
       "9629    0.997112\n",
       "Name: 1, Length: 1247, dtype: float64"
      ]
     },
     "execution_count": 106,
     "metadata": {},
     "output_type": "execute_result"
    }
   ],
   "source": [
    "# select last 10% of max correlation\n",
    "updated_selected_machines = df_max_correlation.sort_values().iloc[-int(len(df_max_correlation)*0.1):]\n",
    "updated_selected_machines"
   ]
  },
  {
   "cell_type": "code",
   "execution_count": 107,
   "metadata": {},
   "outputs": [
    {
     "data": {
      "text/plain": [
       "8765     0.0\n",
       "924      0.0\n",
       "8688     0.0\n",
       "1280     0.0\n",
       "5324     0.0\n",
       "5090     0.0\n",
       "7692     0.0\n",
       "1302     0.0\n",
       "3857     0.0\n",
       "9774     0.0\n",
       "8763     0.0\n",
       "5430     0.0\n",
       "10155    0.0\n",
       "5012     0.0\n",
       "1478     0.0\n",
       "9659     0.0\n",
       "6630     0.0\n",
       "5074     0.0\n",
       "5784     0.0\n",
       "4922     0.0\n",
       "5506     0.0\n",
       "10182    0.0\n",
       "10518    0.0\n",
       "dtype: float64"
      ]
     },
     "execution_count": 107,
     "metadata": {},
     "output_type": "execute_result"
    }
   ],
   "source": [
    "# take away machines with corrupted data\n",
    "# rejected_machines are machines with only 0 as values for samples 23*288:23*288+5\n",
    "rejected_machines = df_cpu[updated_selected_machines.index].iloc[23*288:23*288+5].abs().sum().sort_values().iloc[:23]\n",
    "rejected_machines"
   ]
  },
  {
   "cell_type": "code",
   "execution_count": 108,
   "metadata": {},
   "outputs": [
    {
     "data": {
      "text/plain": [
       "9604    0.748106\n",
       "4451    0.748113\n",
       "8736    0.748144\n",
       "6997    0.748154\n",
       "9918    0.748165\n",
       "          ...   \n",
       "8163    0.982081\n",
       "3911    0.994134\n",
       "9959    0.996148\n",
       "4336    0.997112\n",
       "9629    0.997112\n",
       "Name: 1, Length: 1224, dtype: float64"
      ]
     },
     "execution_count": 108,
     "metadata": {},
     "output_type": "execute_result"
    }
   ],
   "source": [
    "# dropping rejected machines\n",
    "\n",
    "updated_selected_machines = updated_selected_machines.drop(rejected_machines.index)\n",
    "updated_selected_machines"
   ]
  },
  {
   "cell_type": "code",
   "execution_count": 115,
   "metadata": {},
   "outputs": [
    {
     "data": {
      "text/plain": [
       "7341    0.750096\n",
       "7679    0.750105\n",
       "9194    0.750122\n",
       "2094    0.750173\n",
       "9515    0.750175\n",
       "          ...   \n",
       "8163    0.982081\n",
       "3911    0.994134\n",
       "9959    0.996148\n",
       "4336    0.997112\n",
       "9629    0.997112\n",
       "Name: 1, Length: 1162, dtype: float64"
      ]
     },
     "execution_count": 115,
     "metadata": {},
     "output_type": "execute_result"
    }
   ],
   "source": [
    "# drop machines with max_correlation lower than threshold\n",
    "\n",
    "threshold = 0.75\n",
    "lower_threshold = updated_selected_machines.loc[updated_selected_machines < threshold].index\n",
    "updated_selected_machines = updated_selected_machines.drop(lower_threshold)\n",
    "updated_selected_machines"
   ]
  },
  {
   "cell_type": "code",
   "execution_count": 125,
   "metadata": {},
   "outputs": [
    {
     "name": "stderr",
     "output_type": "stream",
     "text": [
      "/Users/yeehonglow/Library/Python/3.7/lib/python/site-packages/ipykernel_launcher.py:3: FutureWarning: The signature of `Series.to_csv` was aligned to that of `DataFrame.to_csv`, and argument 'header' will change its default value from False to True: please pass an explicit value to suppress this warning.\n",
      "  This is separate from the ipykernel package so we can avoid doing imports until\n"
     ]
    }
   ],
   "source": [
    "# write to csv\n",
    "\n",
    "pd.Series(sorted(updated_selected_machines.index)).to_csv(\"df_updated_selected_machines.csv\")"
   ]
  },
  {
   "cell_type": "code",
   "execution_count": 126,
   "metadata": {},
   "outputs": [
    {
     "data": {
      "text/plain": [
       "0           0\n",
       "1          22\n",
       "2          30\n",
       "3          76\n",
       "4         100\n",
       "        ...  \n",
       "1157    12430\n",
       "1158    12435\n",
       "1159    12448\n",
       "1160    12450\n",
       "1161    12462\n",
       "Name: 1, Length: 1162, dtype: int64"
      ]
     },
     "execution_count": 126,
     "metadata": {},
     "output_type": "execute_result"
    }
   ],
   "source": [
    "# to read updated_selected_machines from csv, copy the following code\n",
    "\n",
    "updated = pd.read_csv(\"df_updated_selected_machines.csv\", header = None)[1]\n",
    "updated"
   ]
  },
  {
   "cell_type": "code",
   "execution_count": null,
   "metadata": {},
   "outputs": [],
   "source": []
  }
 ],
 "metadata": {
  "kernelspec": {
   "display_name": "Python 3",
   "language": "python",
   "name": "python3"
  },
  "language_info": {
   "codemirror_mode": {
    "name": "ipython",
    "version": 3
   },
   "file_extension": ".py",
   "mimetype": "text/x-python",
   "name": "python",
   "nbconvert_exporter": "python",
   "pygments_lexer": "ipython3",
   "version": "3.7.3"
  }
 },
 "nbformat": 4,
 "nbformat_minor": 2
}
