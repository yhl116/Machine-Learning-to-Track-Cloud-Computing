{
 "cells": [
  {
   "cell_type": "code",
   "execution_count": 6,
   "metadata": {},
   "outputs": [
    {
     "data": {
      "application/javascript": [
       "IPython.OutputArea.prototype._should_scroll = function(lines){\n",
       "    return false;\n",
       "}\n"
      ],
      "text/plain": [
       "<IPython.core.display.Javascript object>"
      ]
     },
     "metadata": {},
     "output_type": "display_data"
    }
   ],
   "source": [
    "%%javascript\n",
    "IPython.OutputArea.prototype._should_scroll = function(lines){\n",
    "    return false;\n",
    "}"
   ]
  },
  {
   "cell_type": "code",
   "execution_count": 7,
   "metadata": {},
   "outputs": [],
   "source": [
    "import pandas as pd\n",
    "import matplotlib\n",
    "import matplotlib.pyplot as plt\n",
    "import numpy as np\n",
    "import random\n",
    "from random import randrange\n",
    "import progressbar\n",
    "from sklearn.cluster import AgglomerativeClustering as agc\n",
    "from sklearn.linear_model import LinearRegression\n",
    "from statsmodels.tsa.arima_model import ARIMA\n",
    "from sklearn.metrics import mean_squared_error"
   ]
  },
  {
   "cell_type": "code",
   "execution_count": null,
   "metadata": {},
   "outputs": [],
   "source": [
    "SELECT_NUMBER = 1000\n",
    "\n",
    "random.seed(1)\n",
    "x_axis = np.arange(0, 29-1/288, 1/288).tolist()\n",
    "np_cpu = np.load(\"wetransfer-2ee104//google-cpu-full.npy\")\n",
    "\n",
    "# full_cpu is a list of pandas series of the cpu utilisation of all machines\n",
    "# just a lazy way of converting nd-arrays to pd-series\n",
    "full_cpu = []\n",
    "for x in range (0,len(np_cpu)):\n",
    "    full_cpu.append(pd.Series(np_cpu[x], index = x_axis))  \n",
    "    \n",
    "random_samples = [34, 150, 352, 365, 416, 464, 475, 501, 565, 1033, 1416, 1537, 1638, 1674, 1768, 1931, 1980, 2201, \n",
    "                  2682, 2834, 3045, 3110, 3439, 3548, 3584, 3632, 3748, 3782, 3818, 3977, 4179, 4363, 4655, 4747, \n",
    "                  4856, 4970, 5200, 5450, 5663, 6014, 6070, 6139, 6219, 6245, 6386, 6443, 6444, 6623, 6788, 6818, \n",
    "                  6915, 7090, 7174, 7191, 7297, 7364, 7530, 7737, 7868, 7993, 8023, 8117, 8123, 8181, 8205, 8278, \n",
    "                  8318, 8330, 8535, 8644, 8870, 8991, 9058, 9116, 9325, 9626, 9650, 9685, 9952, 10311, 10523, 10642,\n",
    "                  10675, 10875, 10891, 10982, 11050, 11089, 11247, 11400, 11518, 11652, 11820, 11821, 11856, 11892,\n",
    "                  12094, 12175, 12185, 12467]  \n",
    "\n",
    "df_cpu = pd.DataFrame(np_cpu).transpose()\n",
    "df_cpu = df_cpu[random_samples].drop(df_cpu.tail(33).index)"
   ]
  },
  {
   "cell_type": "code",
   "execution_count": 4,
   "metadata": {},
   "outputs": [],
   "source": [
    "def arima_predictions(timeseries, input_order):\n",
    "    train_size = int(len(timeseries)*0.99)\n",
    "    X = timeseries.values\n",
    "    train, test = X[0:train_size], X[train_size:]\n",
    "    history = list(train)\n",
    "    predictions = list()\n",
    "    for t in range(len(test)):\n",
    "        model = ARIMA(history, order = input_order)\n",
    "        model_fit = model.fit(disp=0)\n",
    "        output = model_fit.forecast()\n",
    "        yhat = output[0]\n",
    "        predictions.append(yhat)\n",
    "        obs = test[t]\n",
    "        history.append(obs)\n",
    "\n",
    "    return mean_squared_error(test, predictions)\n",
    "\n",
    "def order_score(cpu_data, input_order):\n",
    "    # Returns mean squared error accross all timeseries and also across time\n",
    "    # This is used to score the model order\n",
    "    score = 0\n",
    "    \n",
    "    with progressbar.ProgressBar(max_value = len(cpu_data.columns)) as bar:\n",
    "        for index,timeseries in enumerate(cpu_data):\n",
    "            bar.update(index)    \n",
    "            score += arima_predictions(cpu_data[timeseries], input_order)\n",
    "            \n",
    "    return score/len(cpu_data.columns)"
   ]
  },
  {
   "cell_type": "code",
   "execution_count": 61,
   "metadata": {},
   "outputs": [
    {
     "name": "stderr",
     "output_type": "stream",
     "text": [
      "100% (100 of 100) |######################| Elapsed Time: 0:32:59 Time:  0:32:59\n"
     ]
    }
   ],
   "source": [
    "score_3_0_0 = order_score(df_cpu, (3,0,0))"
   ]
  },
  {
   "cell_type": "code",
   "execution_count": 66,
   "metadata": {},
   "outputs": [
    {
     "name": "stderr",
     "output_type": "stream",
     "text": [
      "100% (100 of 100) |######################| Elapsed Time: 0:29:34 Time:  0:29:34\n"
     ]
    }
   ],
   "source": [
    "score_3_1_0 = order_score(df_cpu, (3,1,0))"
   ]
  },
  {
   "cell_type": "code",
   "execution_count": 71,
   "metadata": {},
   "outputs": [
    {
     "name": "stderr",
     "output_type": "stream",
     "text": [
      "100% (100 of 100) |#####################| Elapsed Time: 11:07:44 Time: 11:07:44\n"
     ]
    }
   ],
   "source": [
    "score_3_0_3 = order_score(df_cpu, (3,0,3))"
   ]
  },
  {
   "cell_type": "code",
   "execution_count": 72,
   "metadata": {},
   "outputs": [
    {
     "name": "stderr",
     "output_type": "stream",
     "text": [
      "100% (100 of 100) |#####################| Elapsed Time: 18:38:35 Time: 18:38:35\n"
     ]
    }
   ],
   "source": [
    "score_3_1_3 = order_score(df_cpu, (3,1,3))"
   ]
  },
  {
   "cell_type": "code",
   "execution_count": 8,
   "metadata": {},
   "outputs": [
    {
     "name": "stderr",
     "output_type": "stream",
     "text": [
      " 12% (12 of 100) |##                     | Elapsed Time: 0:29:04 ETA:   3:37:38/Users/yeehonglow/Library/Python/3.7/lib/python/site-packages/statsmodels/tsa/tsatools.py:668: RuntimeWarning: overflow encountered in exp\n",
      "  newparams = ((1-np.exp(-params))/(1+np.exp(-params))).copy()\n",
      "/Users/yeehonglow/Library/Python/3.7/lib/python/site-packages/statsmodels/tsa/tsatools.py:668: RuntimeWarning: invalid value encountered in true_divide\n",
      "  newparams = ((1-np.exp(-params))/(1+np.exp(-params))).copy()\n",
      "/Users/yeehonglow/Library/Python/3.7/lib/python/site-packages/statsmodels/tsa/tsatools.py:669: RuntimeWarning: overflow encountered in exp\n",
      "  tmp = ((1-np.exp(-params))/(1+np.exp(-params))).copy()\n",
      "/Users/yeehonglow/Library/Python/3.7/lib/python/site-packages/statsmodels/tsa/tsatools.py:669: RuntimeWarning: invalid value encountered in true_divide\n",
      "  tmp = ((1-np.exp(-params))/(1+np.exp(-params))).copy()\n",
      "/Users/yeehonglow/Library/Python/3.7/lib/python/site-packages/statsmodels/base/model.py:512: ConvergenceWarning: Maximum Likelihood optimization failed to converge. Check mle_retvals\n",
      "  \"Check mle_retvals\", ConvergenceWarning)\n",
      " 23% (23 of 100) |#####                  | Elapsed Time: 0:58:48 ETA:   5:55:49/Users/yeehonglow/Library/Python/3.7/lib/python/site-packages/statsmodels/base/model.py:512: ConvergenceWarning: Maximum Likelihood optimization failed to converge. Check mle_retvals\n",
      "  \"Check mle_retvals\", ConvergenceWarning)\n",
      "/Users/yeehonglow/Library/Python/3.7/lib/python/site-packages/statsmodels/base/model.py:512: ConvergenceWarning: Maximum Likelihood optimization failed to converge. Check mle_retvals\n",
      "  \"Check mle_retvals\", ConvergenceWarning)\n",
      " 31% (31 of 100) |#######                | Elapsed Time: 1:19:23 ETA:   2:43:34/Users/yeehonglow/Library/Python/3.7/lib/python/site-packages/statsmodels/base/model.py:512: ConvergenceWarning: Maximum Likelihood optimization failed to converge. Check mle_retvals\n",
      "  \"Check mle_retvals\", ConvergenceWarning)\n",
      " 33% (33 of 100) |#######                | Elapsed Time: 1:24:53 ETA:   3:22:22/Users/yeehonglow/Library/Python/3.7/lib/python/site-packages/statsmodels/base/model.py:512: ConvergenceWarning: Maximum Likelihood optimization failed to converge. Check mle_retvals\n",
      "  \"Check mle_retvals\", ConvergenceWarning)\n",
      " 34% (34 of 100) |#######                | Elapsed Time: 1:28:00 ETA:   3:26:17/Users/yeehonglow/Library/Python/3.7/lib/python/site-packages/statsmodels/base/model.py:512: ConvergenceWarning: Maximum Likelihood optimization failed to converge. Check mle_retvals\n",
      "  \"Check mle_retvals\", ConvergenceWarning)\n",
      " 40% (40 of 100) |#########              | Elapsed Time: 1:46:14 ETA:   3:32:41/Users/yeehonglow/Library/Python/3.7/lib/python/site-packages/statsmodels/base/model.py:512: ConvergenceWarning: Maximum Likelihood optimization failed to converge. Check mle_retvals\n",
      "  \"Check mle_retvals\", ConvergenceWarning)\n",
      " 44% (44 of 100) |##########             | Elapsed Time: 1:57:16 ETA:   2:21:03/Users/yeehonglow/Library/Python/3.7/lib/python/site-packages/statsmodels/base/model.py:512: ConvergenceWarning: Maximum Likelihood optimization failed to converge. Check mle_retvals\n",
      "  \"Check mle_retvals\", ConvergenceWarning)\n",
      "/Users/yeehonglow/Library/Python/3.7/lib/python/site-packages/statsmodels/base/model.py:512: ConvergenceWarning: Maximum Likelihood optimization failed to converge. Check mle_retvals\n",
      "  \"Check mle_retvals\", ConvergenceWarning)\n",
      " 45% (45 of 100) |##########             | Elapsed Time: 2:01:12 ETA:   3:36:13/Users/yeehonglow/Library/Python/3.7/lib/python/site-packages/statsmodels/base/model.py:512: ConvergenceWarning: Maximum Likelihood optimization failed to converge. Check mle_retvals\n",
      "  \"Check mle_retvals\", ConvergenceWarning)\n",
      "/Users/yeehonglow/Library/Python/3.7/lib/python/site-packages/statsmodels/base/model.py:512: ConvergenceWarning: Maximum Likelihood optimization failed to converge. Check mle_retvals\n",
      "  \"Check mle_retvals\", ConvergenceWarning)\n",
      " 46% (46 of 100) |##########             | Elapsed Time: 2:04:15 ETA:   2:44:52/Users/yeehonglow/Library/Python/3.7/lib/python/site-packages/statsmodels/base/model.py:512: ConvergenceWarning: Maximum Likelihood optimization failed to converge. Check mle_retvals\n",
      "  \"Check mle_retvals\", ConvergenceWarning)\n",
      "/Users/yeehonglow/Library/Python/3.7/lib/python/site-packages/statsmodels/base/model.py:512: ConvergenceWarning: Maximum Likelihood optimization failed to converge. Check mle_retvals\n",
      "  \"Check mle_retvals\", ConvergenceWarning)\n",
      "/Users/yeehonglow/Library/Python/3.7/lib/python/site-packages/statsmodels/base/model.py:512: ConvergenceWarning: Maximum Likelihood optimization failed to converge. Check mle_retvals\n",
      "  \"Check mle_retvals\", ConvergenceWarning)\n",
      "/Users/yeehonglow/Library/Python/3.7/lib/python/site-packages/statsmodels/base/model.py:512: ConvergenceWarning: Maximum Likelihood optimization failed to converge. Check mle_retvals\n",
      "  \"Check mle_retvals\", ConvergenceWarning)\n",
      " 47% (47 of 100) |##########             | Elapsed Time: 2:08:47 ETA:   4:00:05/Users/yeehonglow/Library/Python/3.7/lib/python/site-packages/statsmodels/base/model.py:512: ConvergenceWarning: Maximum Likelihood optimization failed to converge. Check mle_retvals\n",
      "  \"Check mle_retvals\", ConvergenceWarning)\n",
      "/Users/yeehonglow/Library/Python/3.7/lib/python/site-packages/statsmodels/base/model.py:512: ConvergenceWarning: Maximum Likelihood optimization failed to converge. Check mle_retvals\n",
      "  \"Check mle_retvals\", ConvergenceWarning)\n",
      " 55% (55 of 100) |############           | Elapsed Time: 2:29:39 ETA:   1:35:43/Users/yeehonglow/Library/Python/3.7/lib/python/site-packages/statsmodels/base/model.py:512: ConvergenceWarning: Maximum Likelihood optimization failed to converge. Check mle_retvals\n",
      "  \"Check mle_retvals\", ConvergenceWarning)\n",
      " 59% (59 of 100) |#############          | Elapsed Time: 2:39:46 ETA:   1:58:20/Users/yeehonglow/Library/Python/3.7/lib/python/site-packages/statsmodels/base/model.py:512: ConvergenceWarning: Maximum Likelihood optimization failed to converge. Check mle_retvals\n",
      "  \"Check mle_retvals\", ConvergenceWarning)\n",
      " 60% (60 of 100) |#############          | Elapsed Time: 2:43:20 ETA:   2:22:35/Users/yeehonglow/Library/Python/3.7/lib/python/site-packages/statsmodels/base/model.py:512: ConvergenceWarning: Maximum Likelihood optimization failed to converge. Check mle_retvals\n",
      "  \"Check mle_retvals\", ConvergenceWarning)\n",
      " 64% (64 of 100) |##############         | Elapsed Time: 2:55:00 ETA:   1:32:38/Users/yeehonglow/Library/Python/3.7/lib/python/site-packages/statsmodels/base/model.py:512: ConvergenceWarning: Maximum Likelihood optimization failed to converge. Check mle_retvals\n",
      "  \"Check mle_retvals\", ConvergenceWarning)\n",
      " 67% (67 of 100) |###############        | Elapsed Time: 3:03:08 ETA:   1:25:19/Users/yeehonglow/Library/Python/3.7/lib/python/site-packages/statsmodels/base/model.py:512: ConvergenceWarning: Maximum Likelihood optimization failed to converge. Check mle_retvals\n",
      "  \"Check mle_retvals\", ConvergenceWarning)\n",
      " 73% (73 of 100) |################       | Elapsed Time: 3:16:28 ETA:   1:04:55/Users/yeehonglow/Library/Python/3.7/lib/python/site-packages/statsmodels/base/model.py:512: ConvergenceWarning: Maximum Likelihood optimization failed to converge. Check mle_retvals\n",
      "  \"Check mle_retvals\", ConvergenceWarning)\n",
      " 87% (87 of 100) |####################   | Elapsed Time: 3:52:33 ETA:   0:30:36/Users/yeehonglow/Library/Python/3.7/lib/python/site-packages/statsmodels/base/model.py:512: ConvergenceWarning: Maximum Likelihood optimization failed to converge. Check mle_retvals\n",
      "  \"Check mle_retvals\", ConvergenceWarning)\n",
      "100% (100 of 100) |######################| Elapsed Time: 4:24:30 Time:  4:24:30\n"
     ]
    },
    {
     "name": "stdout",
     "output_type": "stream",
     "text": [
      "Score (3,0,1):  0.23810441910062707\n"
     ]
    }
   ],
   "source": [
    "score_3_0_1 = order_score(df_cpu, (3,0,1))\n",
    "print(\"Score (3,0,1): \", score_3_0_1)"
   ]
  },
  {
   "cell_type": "code",
   "execution_count": 9,
   "metadata": {},
   "outputs": [
    {
     "name": "stderr",
     "output_type": "stream",
     "text": [
      " 38% (38 of 100) |########               | Elapsed Time: 0:29:24 ETA:   1:04:36/Users/yeehonglow/Library/Python/3.7/lib/python/site-packages/statsmodels/base/model.py:512: ConvergenceWarning: Maximum Likelihood optimization failed to converge. Check mle_retvals\n",
      "  \"Check mle_retvals\", ConvergenceWarning)\n",
      "100% (100 of 100) |######################| Elapsed Time: 1:13:34 Time:  1:13:34\n"
     ]
    },
    {
     "name": "stdout",
     "output_type": "stream",
     "text": [
      "Score (5,0,0):  0.23747909233740852\n"
     ]
    }
   ],
   "source": [
    "score_5_0_0 = order_score(df_cpu, (5,0,0))\n",
    "print(\"Score (5,0,0): \", score_5_0_0)"
   ]
  },
  {
   "cell_type": "code",
   "execution_count": 65,
   "metadata": {},
   "outputs": [
    {
     "data": {
      "text/plain": [
       "0.18366993400504858"
      ]
     },
     "execution_count": 65,
     "metadata": {},
     "output_type": "execute_result"
    }
   ],
   "source": [
    "score_3_0_0 = score_2_0_0\n",
    "score_3_0_0"
   ]
  },
  {
   "cell_type": "code",
   "execution_count": 68,
   "metadata": {},
   "outputs": [
    {
     "data": {
      "text/plain": [
       "0.18903751491221565"
      ]
     },
     "execution_count": 68,
     "metadata": {},
     "output_type": "execute_result"
    }
   ],
   "source": [
    "score_3_1_0"
   ]
  },
  {
   "cell_type": "code",
   "execution_count": 73,
   "metadata": {},
   "outputs": [
    {
     "data": {
      "text/plain": [
       "0.17595132138567696"
      ]
     },
     "execution_count": 73,
     "metadata": {},
     "output_type": "execute_result"
    }
   ],
   "source": [
    "score_3_0_3"
   ]
  },
  {
   "cell_type": "code",
   "execution_count": 74,
   "metadata": {},
   "outputs": [
    {
     "data": {
      "text/plain": [
       "0.17638068478493613"
      ]
     },
     "execution_count": 74,
     "metadata": {},
     "output_type": "execute_result"
    }
   ],
   "source": [
    "score_3_1_3"
   ]
  },
  {
   "cell_type": "code",
   "execution_count": null,
   "metadata": {},
   "outputs": [],
   "source": [
    "score_5_0_0 = order_score(df_cpu, (5,0,0))\n",
    "score_5_0_0"
   ]
  },
  {
   "cell_type": "code",
   "execution_count": 18,
   "metadata": {},
   "outputs": [
    {
     "name": "stderr",
     "output_type": "stream",
     "text": [
      "  1% (1 of 100) |                        | Elapsed Time: 0:00:14 ETA:   0:23:46/Users/yeehonglow/Library/Python/3.7/lib/python/site-packages/statsmodels/base/model.py:512: ConvergenceWarning: Maximum Likelihood optimization failed to converge. Check mle_retvals\n",
      "  \"Check mle_retvals\", ConvergenceWarning)\n",
      " 12% (12 of 100) |##                     | Elapsed Time: 0:02:31 ETA:   0:20:28/Users/yeehonglow/Library/Python/3.7/lib/python/site-packages/statsmodels/base/model.py:512: ConvergenceWarning: Maximum Likelihood optimization failed to converge. Check mle_retvals\n",
      "  \"Check mle_retvals\", ConvergenceWarning)\n",
      " 14% (14 of 100) |###                    | Elapsed Time: 0:02:57 ETA:   0:24:08/Users/yeehonglow/Library/Python/3.7/lib/python/site-packages/statsmodels/base/model.py:512: ConvergenceWarning: Maximum Likelihood optimization failed to converge. Check mle_retvals\n",
      "  \"Check mle_retvals\", ConvergenceWarning)\n",
      " 27% (27 of 100) |######                 | Elapsed Time: 0:05:44 ETA:   0:18:46/Users/yeehonglow/Library/Python/3.7/lib/python/site-packages/statsmodels/base/model.py:512: ConvergenceWarning: Maximum Likelihood optimization failed to converge. Check mle_retvals\n",
      "  \"Check mle_retvals\", ConvergenceWarning)\n",
      " 40% (40 of 100) |#########              | Elapsed Time: 0:08:34 ETA:   0:16:01/Users/yeehonglow/Library/Python/3.7/lib/python/site-packages/statsmodels/base/model.py:512: ConvergenceWarning: Maximum Likelihood optimization failed to converge. Check mle_retvals\n",
      "  \"Check mle_retvals\", ConvergenceWarning)\n",
      " 41% (41 of 100) |#########              | Elapsed Time: 0:08:43 ETA:   0:08:28/Users/yeehonglow/Library/Python/3.7/lib/python/site-packages/statsmodels/base/model.py:512: ConvergenceWarning: Maximum Likelihood optimization failed to converge. Check mle_retvals\n",
      "  \"Check mle_retvals\", ConvergenceWarning)\n",
      " 45% (45 of 100) |##########             | Elapsed Time: 0:09:22 ETA:   0:08:36/Users/yeehonglow/Library/Python/3.7/lib/python/site-packages/statsmodels/base/model.py:512: ConvergenceWarning: Maximum Likelihood optimization failed to converge. Check mle_retvals\n",
      "  \"Check mle_retvals\", ConvergenceWarning)\n",
      " 47% (47 of 100) |##########             | Elapsed Time: 0:09:48 ETA:   0:14:22/Users/yeehonglow/Library/Python/3.7/lib/python/site-packages/statsmodels/base/model.py:512: ConvergenceWarning: Maximum Likelihood optimization failed to converge. Check mle_retvals\n",
      "  \"Check mle_retvals\", ConvergenceWarning)\n",
      " 63% (63 of 100) |##############         | Elapsed Time: 0:13:31 ETA:   0:13:01/Users/yeehonglow/Library/Python/3.7/lib/python/site-packages/statsmodels/base/model.py:512: ConvergenceWarning: Maximum Likelihood optimization failed to converge. Check mle_retvals\n",
      "  \"Check mle_retvals\", ConvergenceWarning)\n",
      "100% (100 of 100) |######################| Elapsed Time: 0:21:31 Time:  0:21:31\n"
     ]
    }
   ],
   "source": [
    "score_2_0_0 = order_score(df_cpu, (2,0,0))"
   ]
  },
  {
   "cell_type": "code",
   "execution_count": 19,
   "metadata": {
    "scrolled": true
   },
   "outputs": [
    {
     "name": "stderr",
     "output_type": "stream",
     "text": [
      " 45% (45 of 100) |##########             | Elapsed Time: 0:21:55 ETA:   0:21:14/Users/yeehonglow/Library/Python/3.7/lib/python/site-packages/statsmodels/base/model.py:512: ConvergenceWarning: Maximum Likelihood optimization failed to converge. Check mle_retvals\n",
      "  \"Check mle_retvals\", ConvergenceWarning)\n",
      "100% (100 of 100) |######################| Elapsed Time: 0:49:36 Time:  0:49:36\n"
     ]
    }
   ],
   "source": [
    "score_4_0_0 = order_score(df_cpu, (4,0,0))"
   ]
  },
  {
   "cell_type": "code",
   "execution_count": 27,
   "metadata": {},
   "outputs": [],
   "source": [
    "recorded_2_0_0 = 0.23914244220209996\n",
    "recorded_3_0_0 = 0.18366993400504858\n",
    "recorded_4_0_0 = 0.2361448052905791\n",
    "recorded_5_0_0 = 0.23747909233740852\n",
    "recorded_3_1_0 = 0.18903751491221565\n",
    "recorded_3_1_3 = 0.17638068478493613\n",
    "recorded_3_0_1 = 0.23810441910062707\n",
    "recorded_3_0_3 = 0.17595132138567696"
   ]
  },
  {
   "cell_type": "code",
   "execution_count": 29,
   "metadata": {},
   "outputs": [],
   "source": [
    "time_2_0_0 = 12 + 31/60\n",
    "time_3_0_0 = 32 + 59/60\n",
    "time_4_0_0 = 49 + 36/60\n",
    "time_5_0_0 = 60 + 13 + 34/60\n",
    "time_3_1_0 = 29 + 34/60\n",
    "time_3_1_3 = 18*60 + 38 + 35/60\n",
    "time_3_0_1 = 4*60 + 24 + 30/60\n",
    "time_3_0_3 = 11*60 + 7 + 44/60"
   ]
  },
  {
   "cell_type": "code",
   "execution_count": 30,
   "metadata": {},
   "outputs": [],
   "source": [
    "number_of_predictions = (len(df_cpu) - int(len(df_cpu)*0.99))*1000\n",
    "\n",
    "rate_2_0_0 = time_2_0_0 / number_of_predictions\n",
    "rate_3_0_0 = time_3_0_0 / number_of_predictions\n",
    "rate_4_0_0 = time_4_0_0 / number_of_predictions\n",
    "rate_5_0_0 = time_5_0_0 / number_of_predictions\n",
    "rate_3_1_0 = time_3_1_0 / number_of_predictions\n",
    "rate_3_1_3 = time_3_1_3 / number_of_predictions\n",
    "rate_3_0_1 = time_3_0_1 / number_of_predictions\n",
    "rate_3_0_3 = time_3_0_3 / number_of_predictions"
   ]
  },
  {
   "cell_type": "code",
   "execution_count": 31,
   "metadata": {},
   "outputs": [],
   "source": [
    "ls_recorded = [recorded_2_0_0, \n",
    "               recorded_3_0_0, \n",
    "               recorded_4_0_0, \n",
    "               recorded_5_0_0, \n",
    "               recorded_3_1_0, \n",
    "               recorded_3_1_3, \n",
    "               recorded_3_0_1, \n",
    "               recorded_3_0_3]\n",
    "\n",
    "ls_rate = [rate_2_0_0, \n",
    "           rate_3_0_0, \n",
    "           rate_4_0_0, \n",
    "           rate_5_0_0, \n",
    "           rate_3_1_0, \n",
    "           rate_3_1_3, \n",
    "           rate_3_0_1, \n",
    "           rate_3_0_3]"
   ]
  },
  {
   "cell_type": "code",
   "execution_count": 69,
   "metadata": {},
   "outputs": [
    {
     "data": {
      "image/png": "[encoded data removed]",
      "text/plain": [
       "<Figure size 864x288 with 1 Axes>"
      ]
     },
     "metadata": {
      "needs_background": "light"
     },
     "output_type": "display_data"
    }
   ],
   "source": [
    "plt.figure(figsize = (12,4))\n",
    "plt.scatter(ls_rate,ls_recorded)\n",
    "plt.grid()\n",
    "plt.title(\"MSE vs Time for One Prediction\", fontsize = 20)\n",
    "plt.xlabel(\"Time for One Prediction (Min)\", fontsize = 16)\n",
    "plt.ylabel(\"MSE\", fontsize = 16)\n",
    "plt.text(rate_2_0_0, recorded_2_0_0,'(2,0,0)', horizontalalignment='right', fontsize = 12)\n",
    "plt.text(rate_3_0_0, recorded_3_0_0,'(3,0,0)', horizontalalignment='right', verticalalignment='top', fontsize = 12)\n",
    "plt.text(rate_4_0_0, recorded_4_0_0,'(4,0,0)', verticalalignment='top', horizontalalignment = \"center\", fontsize = 12)\n",
    "plt.text(rate_5_0_0, recorded_5_0_0,'(5,0,0)', horizontalalignment='left', fontsize = 12)\n",
    "plt.text(rate_3_1_0, recorded_3_1_0,'(3,1,0)', horizontalalignment='right', fontsize = 12)\n",
    "plt.text(rate_3_1_3, recorded_3_1_3,'(3,1,3)', horizontalalignment='right', fontsize = 12)\n",
    "plt.text(rate_3_0_1, recorded_3_0_1,'(3,0,1)', horizontalalignment='left', fontsize = 12)\n",
    "plt.text(rate_3_0_3, recorded_3_0_3,'(3,0,3)', horizontalalignment='right', fontsize = 12)\n",
    "\n",
    "plt.savefig(\"figures/implementation/arima_order\")"
   ]
  },
  {
   "cell_type": "code",
   "execution_count": null,
   "metadata": {},
   "outputs": [],
   "source": []
  }
 ],
 "metadata": {
  "kernelspec": {
   "display_name": "Python 3",
   "language": "python",
   "name": "python3"
  },
  "language_info": {
   "codemirror_mode": {
    "name": "ipython",
    "version": 3
   },
   "file_extension": ".py",
   "mimetype": "text/x-python",
   "name": "python",
   "nbconvert_exporter": "python",
   "pygments_lexer": "ipython3",
   "version": "3.7.3"
  }
 },
 "nbformat": 4,
 "nbformat_minor": 2
}
