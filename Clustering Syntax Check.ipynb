{
 "cells": [
  {
   "cell_type": "code",
   "execution_count": 1,
   "metadata": {},
   "outputs": [
    {
     "data": {
      "application/javascript": [
       "IPython.OutputArea.prototype._should_scroll = function(lines){\n",
       "    return false;\n",
       "}\n"
      ],
      "text/plain": [
       "<IPython.core.display.Javascript object>"
      ]
     },
     "metadata": {},
     "output_type": "display_data"
    }
   ],
   "source": [
    "%%javascript\n",
    "IPython.OutputArea.prototype._should_scroll = function(lines){\n",
    "    return false;\n",
    "}"
   ]
  },
  {
   "cell_type": "code",
   "execution_count": 2,
   "metadata": {},
   "outputs": [],
   "source": [
    "import pandas as pd\n",
    "import matplotlib\n",
    "import matplotlib.pyplot as plt\n",
    "import numpy as np\n",
    "import random\n",
    "from random import randrange\n",
    "\n",
    "random.seed(1)\n",
    "x_axis = np.arange(0, 29-1/288, 1/288).tolist()\n",
    "np_cpu = np.load(\"wetransfer-2ee104//google-cpu-full.npy\")\n",
    "\n",
    "# full_cpu is a list of pandas series of the cpu utilisation of all machines\n",
    "# just a lazy way of converting nd-arrays to pd-series\n",
    "full_cpu = []\n",
    "for x in range (0,len(np_cpu)):\n",
    "    full_cpu.append(pd.Series(np_cpu[x], index = x_axis))     "
   ]
  },
  {
   "cell_type": "code",
   "execution_count": 14,
   "metadata": {},
   "outputs": [
    {
     "data": {
      "text/html": [
       "<div>\n",
       "<style scoped>\n",
       "    .dataframe tbody tr th:only-of-type {\n",
       "        vertical-align: middle;\n",
       "    }\n",
       "\n",
       "    .dataframe tbody tr th {\n",
       "        vertical-align: top;\n",
       "    }\n",
       "\n",
       "    .dataframe thead th {\n",
       "        text-align: right;\n",
       "    }\n",
       "</style>\n",
       "<table border=\"1\" class=\"dataframe\">\n",
       "  <thead>\n",
       "    <tr style=\"text-align: right;\">\n",
       "      <th></th>\n",
       "      <th>0</th>\n",
       "      <th>1</th>\n",
       "      <th>2</th>\n",
       "      <th>3</th>\n",
       "      <th>4</th>\n",
       "      <th>5</th>\n",
       "      <th>6</th>\n",
       "    </tr>\n",
       "  </thead>\n",
       "  <tbody>\n",
       "    <tr>\n",
       "      <th>0</th>\n",
       "      <td>1.000000</td>\n",
       "      <td>0.182548</td>\n",
       "      <td>0.293396</td>\n",
       "      <td>0.147556</td>\n",
       "      <td>-0.371543</td>\n",
       "      <td>0.434098</td>\n",
       "      <td>0.198072</td>\n",
       "    </tr>\n",
       "    <tr>\n",
       "      <th>1</th>\n",
       "      <td>0.182548</td>\n",
       "      <td>1.000000</td>\n",
       "      <td>0.243375</td>\n",
       "      <td>0.189525</td>\n",
       "      <td>-0.006541</td>\n",
       "      <td>0.171590</td>\n",
       "      <td>0.244268</td>\n",
       "    </tr>\n",
       "    <tr>\n",
       "      <th>2</th>\n",
       "      <td>0.293396</td>\n",
       "      <td>0.243375</td>\n",
       "      <td>1.000000</td>\n",
       "      <td>0.140648</td>\n",
       "      <td>-0.112303</td>\n",
       "      <td>0.053745</td>\n",
       "      <td>0.186293</td>\n",
       "    </tr>\n",
       "    <tr>\n",
       "      <th>3</th>\n",
       "      <td>0.147556</td>\n",
       "      <td>0.189525</td>\n",
       "      <td>0.140648</td>\n",
       "      <td>1.000000</td>\n",
       "      <td>0.058056</td>\n",
       "      <td>0.253711</td>\n",
       "      <td>0.241811</td>\n",
       "    </tr>\n",
       "    <tr>\n",
       "      <th>4</th>\n",
       "      <td>-0.371543</td>\n",
       "      <td>-0.006541</td>\n",
       "      <td>-0.112303</td>\n",
       "      <td>0.058056</td>\n",
       "      <td>1.000000</td>\n",
       "      <td>0.014277</td>\n",
       "      <td>0.045071</td>\n",
       "    </tr>\n",
       "    <tr>\n",
       "      <th>5</th>\n",
       "      <td>0.434098</td>\n",
       "      <td>0.171590</td>\n",
       "      <td>0.053745</td>\n",
       "      <td>0.253711</td>\n",
       "      <td>0.014277</td>\n",
       "      <td>1.000000</td>\n",
       "      <td>0.283545</td>\n",
       "    </tr>\n",
       "    <tr>\n",
       "      <th>6</th>\n",
       "      <td>0.198072</td>\n",
       "      <td>0.244268</td>\n",
       "      <td>0.186293</td>\n",
       "      <td>0.241811</td>\n",
       "      <td>0.045071</td>\n",
       "      <td>0.283545</td>\n",
       "      <td>1.000000</td>\n",
       "    </tr>\n",
       "  </tbody>\n",
       "</table>\n",
       "</div>"
      ],
      "text/plain": [
       "          0         1         2         3         4         5         6\n",
       "0  1.000000  0.182548  0.293396  0.147556 -0.371543  0.434098  0.198072\n",
       "1  0.182548  1.000000  0.243375  0.189525 -0.006541  0.171590  0.244268\n",
       "2  0.293396  0.243375  1.000000  0.140648 -0.112303  0.053745  0.186293\n",
       "3  0.147556  0.189525  0.140648  1.000000  0.058056  0.253711  0.241811\n",
       "4 -0.371543 -0.006541 -0.112303  0.058056  1.000000  0.014277  0.045071\n",
       "5  0.434098  0.171590  0.053745  0.253711  0.014277  1.000000  0.283545\n",
       "6  0.198072  0.244268  0.186293  0.241811  0.045071  0.283545  1.000000"
      ]
     },
     "execution_count": 14,
     "metadata": {},
     "output_type": "execute_result"
    }
   ],
   "source": [
    "df = pd.DataFrame({0: (full_cpu[0].to_list()), \n",
    "                   1: (full_cpu[1].to_list()), \n",
    "                   2: (full_cpu[2].to_list()) , \n",
    "                   3: (full_cpu[3].to_list()),\n",
    "                  4: (full_cpu[4].to_list()),\n",
    "                  5: (full_cpu[5].to_list()),\n",
    "                  6: (full_cpu[6].to_list())\n",
    "                  })\n",
    "\n",
    "df_correlation = df.corr()\n",
    "df_correlation"
   ]
  },
  {
   "cell_type": "code",
   "execution_count": 16,
   "metadata": {},
   "outputs": [],
   "source": [
    "def second_largest_number(list1):\n",
    "    k=max(list1[0],list1[1]) \n",
    "    secondmax=min(list1[0],list1[1]) \n",
    "\n",
    "    for i in range(2,len(list1)): \n",
    "        if list1[i]>k: \n",
    "            secondmax=k\n",
    "            k=list1[i] \n",
    "        else: \n",
    "            if list1[i]>secondmax: \n",
    "                secondmax=list1[i]\n",
    "    return secondmax\n",
    "\n"
   ]
  },
  {
   "cell_type": "code",
   "execution_count": 24,
   "metadata": {},
   "outputs": [
    {
     "data": {
      "text/plain": [
       "0    0.434098\n",
       "1    0.244268\n",
       "2    0.293396\n",
       "3    0.253711\n",
       "4    0.058056\n",
       "5    0.434098\n",
       "6    0.283545\n",
       "dtype: float64"
      ]
     },
     "execution_count": 24,
     "metadata": {},
     "output_type": "execute_result"
    }
   ],
   "source": [
    "mapping = {}\n",
    "for x in df_correlation:\n",
    "    mapping[x] = second_largest_number(df_correlation[x])\n",
    "    \n",
    "df_max_correlation = pd.Series(mapping)    \n",
    "df_max_correlation"
   ]
  },
  {
   "cell_type": "code",
   "execution_count": 31,
   "metadata": {},
   "outputs": [],
   "source": [
    "sorted_max_correlation = max_correlation.sort_values()"
   ]
  },
  {
   "cell_type": "code",
   "execution_count": 40,
   "metadata": {},
   "outputs": [
    {
     "data": {
      "text/plain": [
       "array([2, 0, 0, 0, 1, 2, 0])"
      ]
     },
     "execution_count": 40,
     "metadata": {},
     "output_type": "execute_result"
    }
   ],
   "source": [
    "from sklearn.cluster import AgglomerativeClustering as agc\n",
    "# cluster = agc(n_clusters=3, affinity='euclidean', linkage='ward')  \n",
    "cluster = agc(n_clusters=3, affinity='euclidean', linkage='ward')  \n",
    "cluster.fit_predict(df_correlation)"
   ]
  },
  {
   "cell_type": "code",
   "execution_count": 41,
   "metadata": {},
   "outputs": [
    {
     "data": {
      "text/html": [
       "<div>\n",
       "<style scoped>\n",
       "    .dataframe tbody tr th:only-of-type {\n",
       "        vertical-align: middle;\n",
       "    }\n",
       "\n",
       "    .dataframe tbody tr th {\n",
       "        vertical-align: top;\n",
       "    }\n",
       "\n",
       "    .dataframe thead th {\n",
       "        text-align: right;\n",
       "    }\n",
       "</style>\n",
       "<table border=\"1\" class=\"dataframe\">\n",
       "  <thead>\n",
       "    <tr style=\"text-align: right;\">\n",
       "      <th></th>\n",
       "      <th>0</th>\n",
       "      <th>1</th>\n",
       "      <th>2</th>\n",
       "      <th>3</th>\n",
       "      <th>4</th>\n",
       "      <th>5</th>\n",
       "      <th>6</th>\n",
       "    </tr>\n",
       "  </thead>\n",
       "  <tbody>\n",
       "    <tr>\n",
       "      <th>0</th>\n",
       "      <td>1.000000</td>\n",
       "      <td>0.182548</td>\n",
       "      <td>0.293396</td>\n",
       "      <td>0.147556</td>\n",
       "      <td>-0.371543</td>\n",
       "      <td>0.434098</td>\n",
       "      <td>0.198072</td>\n",
       "    </tr>\n",
       "    <tr>\n",
       "      <th>1</th>\n",
       "      <td>0.182548</td>\n",
       "      <td>1.000000</td>\n",
       "      <td>0.243375</td>\n",
       "      <td>0.189525</td>\n",
       "      <td>-0.006541</td>\n",
       "      <td>0.171590</td>\n",
       "      <td>0.244268</td>\n",
       "    </tr>\n",
       "    <tr>\n",
       "      <th>2</th>\n",
       "      <td>0.293396</td>\n",
       "      <td>0.243375</td>\n",
       "      <td>1.000000</td>\n",
       "      <td>0.140648</td>\n",
       "      <td>-0.112303</td>\n",
       "      <td>0.053745</td>\n",
       "      <td>0.186293</td>\n",
       "    </tr>\n",
       "    <tr>\n",
       "      <th>3</th>\n",
       "      <td>0.147556</td>\n",
       "      <td>0.189525</td>\n",
       "      <td>0.140648</td>\n",
       "      <td>1.000000</td>\n",
       "      <td>0.058056</td>\n",
       "      <td>0.253711</td>\n",
       "      <td>0.241811</td>\n",
       "    </tr>\n",
       "    <tr>\n",
       "      <th>4</th>\n",
       "      <td>-0.371543</td>\n",
       "      <td>-0.006541</td>\n",
       "      <td>-0.112303</td>\n",
       "      <td>0.058056</td>\n",
       "      <td>1.000000</td>\n",
       "      <td>0.014277</td>\n",
       "      <td>0.045071</td>\n",
       "    </tr>\n",
       "    <tr>\n",
       "      <th>5</th>\n",
       "      <td>0.434098</td>\n",
       "      <td>0.171590</td>\n",
       "      <td>0.053745</td>\n",
       "      <td>0.253711</td>\n",
       "      <td>0.014277</td>\n",
       "      <td>1.000000</td>\n",
       "      <td>0.283545</td>\n",
       "    </tr>\n",
       "    <tr>\n",
       "      <th>6</th>\n",
       "      <td>0.198072</td>\n",
       "      <td>0.244268</td>\n",
       "      <td>0.186293</td>\n",
       "      <td>0.241811</td>\n",
       "      <td>0.045071</td>\n",
       "      <td>0.283545</td>\n",
       "      <td>1.000000</td>\n",
       "    </tr>\n",
       "  </tbody>\n",
       "</table>\n",
       "</div>"
      ],
      "text/plain": [
       "          0         1         2         3         4         5         6\n",
       "0  1.000000  0.182548  0.293396  0.147556 -0.371543  0.434098  0.198072\n",
       "1  0.182548  1.000000  0.243375  0.189525 -0.006541  0.171590  0.244268\n",
       "2  0.293396  0.243375  1.000000  0.140648 -0.112303  0.053745  0.186293\n",
       "3  0.147556  0.189525  0.140648  1.000000  0.058056  0.253711  0.241811\n",
       "4 -0.371543 -0.006541 -0.112303  0.058056  1.000000  0.014277  0.045071\n",
       "5  0.434098  0.171590  0.053745  0.253711  0.014277  1.000000  0.283545\n",
       "6  0.198072  0.244268  0.186293  0.241811  0.045071  0.283545  1.000000"
      ]
     },
     "execution_count": 41,
     "metadata": {},
     "output_type": "execute_result"
    }
   ],
   "source": [
    "df_correlation"
   ]
  },
  {
   "cell_type": "code",
   "execution_count": 45,
   "metadata": {},
   "outputs": [
    {
     "data": {
      "text/html": [
       "<div>\n",
       "<style scoped>\n",
       "    .dataframe tbody tr th:only-of-type {\n",
       "        vertical-align: middle;\n",
       "    }\n",
       "\n",
       "    .dataframe tbody tr th {\n",
       "        vertical-align: top;\n",
       "    }\n",
       "\n",
       "    .dataframe thead th {\n",
       "        text-align: right;\n",
       "    }\n",
       "</style>\n",
       "<table border=\"1\" class=\"dataframe\">\n",
       "  <thead>\n",
       "    <tr style=\"text-align: right;\">\n",
       "      <th></th>\n",
       "      <th>0</th>\n",
       "      <th>1</th>\n",
       "      <th>2</th>\n",
       "      <th>3</th>\n",
       "      <th>4</th>\n",
       "      <th>5</th>\n",
       "      <th>6</th>\n",
       "    </tr>\n",
       "  </thead>\n",
       "  <tbody>\n",
       "    <tr>\n",
       "      <th>0</th>\n",
       "      <td>1.000000</td>\n",
       "      <td>0.033324</td>\n",
       "      <td>0.086081</td>\n",
       "      <td>0.021773</td>\n",
       "      <td>0.138044</td>\n",
       "      <td>0.188441</td>\n",
       "      <td>0.039233</td>\n",
       "    </tr>\n",
       "    <tr>\n",
       "      <th>1</th>\n",
       "      <td>0.033324</td>\n",
       "      <td>1.000000</td>\n",
       "      <td>0.059232</td>\n",
       "      <td>0.035920</td>\n",
       "      <td>0.000043</td>\n",
       "      <td>0.029443</td>\n",
       "      <td>0.059667</td>\n",
       "    </tr>\n",
       "    <tr>\n",
       "      <th>2</th>\n",
       "      <td>0.086081</td>\n",
       "      <td>0.059232</td>\n",
       "      <td>1.000000</td>\n",
       "      <td>0.019782</td>\n",
       "      <td>0.012612</td>\n",
       "      <td>0.002889</td>\n",
       "      <td>0.034705</td>\n",
       "    </tr>\n",
       "    <tr>\n",
       "      <th>3</th>\n",
       "      <td>0.021773</td>\n",
       "      <td>0.035920</td>\n",
       "      <td>0.019782</td>\n",
       "      <td>1.000000</td>\n",
       "      <td>0.003371</td>\n",
       "      <td>0.064369</td>\n",
       "      <td>0.058473</td>\n",
       "    </tr>\n",
       "    <tr>\n",
       "      <th>4</th>\n",
       "      <td>0.138044</td>\n",
       "      <td>0.000043</td>\n",
       "      <td>0.012612</td>\n",
       "      <td>0.003371</td>\n",
       "      <td>1.000000</td>\n",
       "      <td>0.000204</td>\n",
       "      <td>0.002031</td>\n",
       "    </tr>\n",
       "    <tr>\n",
       "      <th>5</th>\n",
       "      <td>0.188441</td>\n",
       "      <td>0.029443</td>\n",
       "      <td>0.002889</td>\n",
       "      <td>0.064369</td>\n",
       "      <td>0.000204</td>\n",
       "      <td>1.000000</td>\n",
       "      <td>0.080398</td>\n",
       "    </tr>\n",
       "    <tr>\n",
       "      <th>6</th>\n",
       "      <td>0.039233</td>\n",
       "      <td>0.059667</td>\n",
       "      <td>0.034705</td>\n",
       "      <td>0.058473</td>\n",
       "      <td>0.002031</td>\n",
       "      <td>0.080398</td>\n",
       "      <td>1.000000</td>\n",
       "    </tr>\n",
       "  </tbody>\n",
       "</table>\n",
       "</div>"
      ],
      "text/plain": [
       "          0         1         2         3         4         5         6\n",
       "0  1.000000  0.033324  0.086081  0.021773  0.138044  0.188441  0.039233\n",
       "1  0.033324  1.000000  0.059232  0.035920  0.000043  0.029443  0.059667\n",
       "2  0.086081  0.059232  1.000000  0.019782  0.012612  0.002889  0.034705\n",
       "3  0.021773  0.035920  0.019782  1.000000  0.003371  0.064369  0.058473\n",
       "4  0.138044  0.000043  0.012612  0.003371  1.000000  0.000204  0.002031\n",
       "5  0.188441  0.029443  0.002889  0.064369  0.000204  1.000000  0.080398\n",
       "6  0.039233  0.059667  0.034705  0.058473  0.002031  0.080398  1.000000"
      ]
     },
     "execution_count": 45,
     "metadata": {},
     "output_type": "execute_result"
    }
   ],
   "source": [
    "df_correlation_squared = df_correlation**2\n",
    "df_correlation_squared"
   ]
  },
  {
   "cell_type": "code",
   "execution_count": 53,
   "metadata": {},
   "outputs": [],
   "source": [
    "selected_machines = sorted_max_correlation.index[-3:].to_list()\n",
    "selected_machines_correlation_matrix = df_correlation[selected_machines].iloc[selected_machines]"
   ]
  },
  {
   "cell_type": "code",
   "execution_count": 54,
   "metadata": {},
   "outputs": [
    {
     "data": {
      "text/html": [
       "<div>\n",
       "<style scoped>\n",
       "    .dataframe tbody tr th:only-of-type {\n",
       "        vertical-align: middle;\n",
       "    }\n",
       "\n",
       "    .dataframe tbody tr th {\n",
       "        vertical-align: top;\n",
       "    }\n",
       "\n",
       "    .dataframe thead th {\n",
       "        text-align: right;\n",
       "    }\n",
       "</style>\n",
       "<table border=\"1\" class=\"dataframe\">\n",
       "  <thead>\n",
       "    <tr style=\"text-align: right;\">\n",
       "      <th></th>\n",
       "      <th>2</th>\n",
       "      <th>0</th>\n",
       "      <th>5</th>\n",
       "    </tr>\n",
       "  </thead>\n",
       "  <tbody>\n",
       "    <tr>\n",
       "      <th>2</th>\n",
       "      <td>1.000000</td>\n",
       "      <td>0.293396</td>\n",
       "      <td>0.053745</td>\n",
       "    </tr>\n",
       "    <tr>\n",
       "      <th>0</th>\n",
       "      <td>0.293396</td>\n",
       "      <td>1.000000</td>\n",
       "      <td>0.434098</td>\n",
       "    </tr>\n",
       "    <tr>\n",
       "      <th>5</th>\n",
       "      <td>0.053745</td>\n",
       "      <td>0.434098</td>\n",
       "      <td>1.000000</td>\n",
       "    </tr>\n",
       "  </tbody>\n",
       "</table>\n",
       "</div>"
      ],
      "text/plain": [
       "          2         0         5\n",
       "2  1.000000  0.293396  0.053745\n",
       "0  0.293396  1.000000  0.434098\n",
       "5  0.053745  0.434098  1.000000"
      ]
     },
     "execution_count": 54,
     "metadata": {},
     "output_type": "execute_result"
    }
   ],
   "source": [
    "selected_machines_correlation_matrix"
   ]
  },
  {
   "cell_type": "code",
   "execution_count": 57,
   "metadata": {},
   "outputs": [
    {
     "data": {
      "text/html": [
       "<div>\n",
       "<style scoped>\n",
       "    .dataframe tbody tr th:only-of-type {\n",
       "        vertical-align: middle;\n",
       "    }\n",
       "\n",
       "    .dataframe tbody tr th {\n",
       "        vertical-align: top;\n",
       "    }\n",
       "\n",
       "    .dataframe thead th {\n",
       "        text-align: right;\n",
       "    }\n",
       "</style>\n",
       "<table border=\"1\" class=\"dataframe\">\n",
       "  <thead>\n",
       "    <tr style=\"text-align: right;\">\n",
       "      <th></th>\n",
       "      <th>0</th>\n",
       "      <th>1</th>\n",
       "      <th>2</th>\n",
       "      <th>3</th>\n",
       "      <th>4</th>\n",
       "      <th>5</th>\n",
       "      <th>6</th>\n",
       "    </tr>\n",
       "  </thead>\n",
       "  <tbody>\n",
       "    <tr>\n",
       "      <th>0</th>\n",
       "      <td>0.000000</td>\n",
       "      <td>0.966676</td>\n",
       "      <td>0.913919</td>\n",
       "      <td>0.978227</td>\n",
       "      <td>0.861956</td>\n",
       "      <td>0.811559</td>\n",
       "      <td>0.960767</td>\n",
       "    </tr>\n",
       "    <tr>\n",
       "      <th>1</th>\n",
       "      <td>0.966676</td>\n",
       "      <td>0.000000</td>\n",
       "      <td>0.940768</td>\n",
       "      <td>0.964080</td>\n",
       "      <td>0.999957</td>\n",
       "      <td>0.970557</td>\n",
       "      <td>0.940333</td>\n",
       "    </tr>\n",
       "    <tr>\n",
       "      <th>2</th>\n",
       "      <td>0.913919</td>\n",
       "      <td>0.940768</td>\n",
       "      <td>0.000000</td>\n",
       "      <td>0.980218</td>\n",
       "      <td>0.987388</td>\n",
       "      <td>0.997111</td>\n",
       "      <td>0.965295</td>\n",
       "    </tr>\n",
       "    <tr>\n",
       "      <th>3</th>\n",
       "      <td>0.978227</td>\n",
       "      <td>0.964080</td>\n",
       "      <td>0.980218</td>\n",
       "      <td>0.000000</td>\n",
       "      <td>0.996629</td>\n",
       "      <td>0.935631</td>\n",
       "      <td>0.941527</td>\n",
       "    </tr>\n",
       "    <tr>\n",
       "      <th>4</th>\n",
       "      <td>0.861956</td>\n",
       "      <td>0.999957</td>\n",
       "      <td>0.987388</td>\n",
       "      <td>0.996629</td>\n",
       "      <td>0.000000</td>\n",
       "      <td>0.999796</td>\n",
       "      <td>0.997969</td>\n",
       "    </tr>\n",
       "    <tr>\n",
       "      <th>5</th>\n",
       "      <td>0.811559</td>\n",
       "      <td>0.970557</td>\n",
       "      <td>0.997111</td>\n",
       "      <td>0.935631</td>\n",
       "      <td>0.999796</td>\n",
       "      <td>0.000000</td>\n",
       "      <td>0.919602</td>\n",
       "    </tr>\n",
       "    <tr>\n",
       "      <th>6</th>\n",
       "      <td>0.960767</td>\n",
       "      <td>0.940333</td>\n",
       "      <td>0.965295</td>\n",
       "      <td>0.941527</td>\n",
       "      <td>0.997969</td>\n",
       "      <td>0.919602</td>\n",
       "      <td>0.000000</td>\n",
       "    </tr>\n",
       "  </tbody>\n",
       "</table>\n",
       "</div>"
      ],
      "text/plain": [
       "          0         1         2         3         4         5         6\n",
       "0  0.000000  0.966676  0.913919  0.978227  0.861956  0.811559  0.960767\n",
       "1  0.966676  0.000000  0.940768  0.964080  0.999957  0.970557  0.940333\n",
       "2  0.913919  0.940768  0.000000  0.980218  0.987388  0.997111  0.965295\n",
       "3  0.978227  0.964080  0.980218  0.000000  0.996629  0.935631  0.941527\n",
       "4  0.861956  0.999957  0.987388  0.996629  0.000000  0.999796  0.997969\n",
       "5  0.811559  0.970557  0.997111  0.935631  0.999796  0.000000  0.919602\n",
       "6  0.960767  0.940333  0.965295  0.941527  0.997969  0.919602  0.000000"
      ]
     },
     "execution_count": 57,
     "metadata": {},
     "output_type": "execute_result"
    }
   ],
   "source": [
    "b = df_correlation_squared - 1\n",
    "b.abs()"
   ]
  },
  {
   "cell_type": "code",
   "execution_count": 82,
   "metadata": {},
   "outputs": [
    {
     "data": {
      "text/html": [
       "<div>\n",
       "<style scoped>\n",
       "    .dataframe tbody tr th:only-of-type {\n",
       "        vertical-align: middle;\n",
       "    }\n",
       "\n",
       "    .dataframe tbody tr th {\n",
       "        vertical-align: top;\n",
       "    }\n",
       "\n",
       "    .dataframe thead th {\n",
       "        text-align: right;\n",
       "    }\n",
       "</style>\n",
       "<table border=\"1\" class=\"dataframe\">\n",
       "  <thead>\n",
       "    <tr style=\"text-align: right;\">\n",
       "      <th></th>\n",
       "      <th>0</th>\n",
       "      <th>1</th>\n",
       "      <th>2</th>\n",
       "      <th>3</th>\n",
       "      <th>4</th>\n",
       "      <th>5</th>\n",
       "      <th>6</th>\n",
       "    </tr>\n",
       "  </thead>\n",
       "  <tbody>\n",
       "    <tr>\n",
       "      <th>0</th>\n",
       "      <td>1.000000</td>\n",
       "      <td>0.182548</td>\n",
       "      <td>0.293396</td>\n",
       "      <td>0.147556</td>\n",
       "      <td>0.371543</td>\n",
       "      <td>0.434098</td>\n",
       "      <td>0.198072</td>\n",
       "    </tr>\n",
       "    <tr>\n",
       "      <th>1</th>\n",
       "      <td>0.182548</td>\n",
       "      <td>1.000000</td>\n",
       "      <td>0.243375</td>\n",
       "      <td>0.189525</td>\n",
       "      <td>0.006541</td>\n",
       "      <td>0.171590</td>\n",
       "      <td>0.244268</td>\n",
       "    </tr>\n",
       "    <tr>\n",
       "      <th>2</th>\n",
       "      <td>0.293396</td>\n",
       "      <td>0.243375</td>\n",
       "      <td>1.000000</td>\n",
       "      <td>0.140648</td>\n",
       "      <td>0.112303</td>\n",
       "      <td>0.053745</td>\n",
       "      <td>0.186293</td>\n",
       "    </tr>\n",
       "    <tr>\n",
       "      <th>3</th>\n",
       "      <td>0.147556</td>\n",
       "      <td>0.189525</td>\n",
       "      <td>0.140648</td>\n",
       "      <td>1.000000</td>\n",
       "      <td>0.058056</td>\n",
       "      <td>0.253711</td>\n",
       "      <td>0.241811</td>\n",
       "    </tr>\n",
       "    <tr>\n",
       "      <th>4</th>\n",
       "      <td>0.371543</td>\n",
       "      <td>0.006541</td>\n",
       "      <td>0.112303</td>\n",
       "      <td>0.058056</td>\n",
       "      <td>1.000000</td>\n",
       "      <td>0.014277</td>\n",
       "      <td>0.045071</td>\n",
       "    </tr>\n",
       "    <tr>\n",
       "      <th>5</th>\n",
       "      <td>0.434098</td>\n",
       "      <td>0.171590</td>\n",
       "      <td>0.053745</td>\n",
       "      <td>0.253711</td>\n",
       "      <td>0.014277</td>\n",
       "      <td>1.000000</td>\n",
       "      <td>0.283545</td>\n",
       "    </tr>\n",
       "    <tr>\n",
       "      <th>6</th>\n",
       "      <td>0.198072</td>\n",
       "      <td>0.244268</td>\n",
       "      <td>0.186293</td>\n",
       "      <td>0.241811</td>\n",
       "      <td>0.045071</td>\n",
       "      <td>0.283545</td>\n",
       "      <td>1.000000</td>\n",
       "    </tr>\n",
       "  </tbody>\n",
       "</table>\n",
       "</div>"
      ],
      "text/plain": [
       "          0         1         2         3         4         5         6\n",
       "0  1.000000  0.182548  0.293396  0.147556  0.371543  0.434098  0.198072\n",
       "1  0.182548  1.000000  0.243375  0.189525  0.006541  0.171590  0.244268\n",
       "2  0.293396  0.243375  1.000000  0.140648  0.112303  0.053745  0.186293\n",
       "3  0.147556  0.189525  0.140648  1.000000  0.058056  0.253711  0.241811\n",
       "4  0.371543  0.006541  0.112303  0.058056  1.000000  0.014277  0.045071\n",
       "5  0.434098  0.171590  0.053745  0.253711  0.014277  1.000000  0.283545\n",
       "6  0.198072  0.244268  0.186293  0.241811  0.045071  0.283545  1.000000"
      ]
     },
     "execution_count": 82,
     "metadata": {},
     "output_type": "execute_result"
    }
   ],
   "source": [
    "df_correlation = df_correlation.abs()\n",
    "df_correlation"
   ]
  },
  {
   "cell_type": "code",
   "execution_count": 60,
   "metadata": {},
   "outputs": [
    {
     "data": {
      "text/plain": [
       "-0.9999572171234749"
      ]
     },
     "execution_count": 60,
     "metadata": {},
     "output_type": "execute_result"
    }
   ],
   "source": [
    "b.min().min()"
   ]
  },
  {
   "cell_type": "code",
   "execution_count": 84,
   "metadata": {},
   "outputs": [
    {
     "data": {
      "text/plain": [
       "array([1, 0, 0, 0, 2, 1, 0])"
      ]
     },
     "execution_count": 84,
     "metadata": {},
     "output_type": "execute_result"
    }
   ],
   "source": [
    "number_of_clusters = 3\n",
    "\n",
    "clustering_output = agc(n_clusters=number_of_clusters, affinity='euclidean', linkage='ward')\n",
    "clustering_output = cluster.fit_predict(df_correlation)\n",
    "clustering_output"
   ]
  },
  {
   "cell_type": "code",
   "execution_count": 75,
   "metadata": {},
   "outputs": [
    {
     "data": {
      "text/plain": [
       "{0: [], 1: [], 2: []}"
      ]
     },
     "execution_count": 75,
     "metadata": {},
     "output_type": "execute_result"
    }
   ],
   "source": [
    "# initialising a map for clusters\n",
    "cluster_map = {}\n",
    "for x in range(0,number_of_clusters):\n",
    "    cluster_map[x] = []\n",
    "    \n",
    "cluster_map    "
   ]
  },
  {
   "cell_type": "code",
   "execution_count": 76,
   "metadata": {},
   "outputs": [
    {
     "data": {
      "text/plain": [
       "{0: [1, 2, 3, 6], 1: [4], 2: [0, 5]}"
      ]
     },
     "execution_count": 76,
     "metadata": {},
     "output_type": "execute_result"
    }
   ],
   "source": [
    "selected_machines = [0,1,2,3,4,5,6]\n",
    "# get a map for each cluster\n",
    "# key is cluster index; values is list of machines in that cluster\n",
    "for x in range(0,len(clustering_output)):\n",
    "    cluster_map[clustering_output[x]].append(selected_machines[x])\n",
    "    \n",
    "cluster_map    "
   ]
  },
  {
   "cell_type": "code",
   "execution_count": 83,
   "metadata": {},
   "outputs": [
    {
     "data": {
      "text/plain": [
       "[0.006540862062845543, 0.006540862062845543, 0.014277003274802877]"
      ]
     },
     "execution_count": 83,
     "metadata": {},
     "output_type": "execute_result"
    }
   ],
   "source": [
    "# look for the minimum correlation in each cluster    \n",
    "min_correlation_in_each_cluster = []\n",
    "for x in cluster_map.values():\n",
    "    min_correlation_in_each_cluster.append(df_correlation[x].min().min())\n",
    "    \n",
    "min_correlation_in_each_cluster    "
   ]
  },
  {
   "cell_type": "code",
   "execution_count": 78,
   "metadata": {},
   "outputs": [
    {
     "name": "stdout",
     "output_type": "stream",
     "text": [
      "[1, 2, 3, 6]\n",
      "[4]\n",
      "[0, 5]\n"
     ]
    }
   ],
   "source": [
    "for x in cluster_map.values():\n",
    "    print(x)"
   ]
  },
  {
   "cell_type": "code",
   "execution_count": 81,
   "metadata": {},
   "outputs": [
    {
     "data": {
      "text/html": [
       "<div>\n",
       "<style scoped>\n",
       "    .dataframe tbody tr th:only-of-type {\n",
       "        vertical-align: middle;\n",
       "    }\n",
       "\n",
       "    .dataframe tbody tr th {\n",
       "        vertical-align: top;\n",
       "    }\n",
       "\n",
       "    .dataframe thead th {\n",
       "        text-align: right;\n",
       "    }\n",
       "</style>\n",
       "<table border=\"1\" class=\"dataframe\">\n",
       "  <thead>\n",
       "    <tr style=\"text-align: right;\">\n",
       "      <th></th>\n",
       "      <th>0</th>\n",
       "      <th>1</th>\n",
       "      <th>2</th>\n",
       "      <th>3</th>\n",
       "      <th>4</th>\n",
       "      <th>5</th>\n",
       "      <th>6</th>\n",
       "    </tr>\n",
       "  </thead>\n",
       "  <tbody>\n",
       "    <tr>\n",
       "      <th>0</th>\n",
       "      <td>1.000000</td>\n",
       "      <td>0.182548</td>\n",
       "      <td>0.293396</td>\n",
       "      <td>0.147556</td>\n",
       "      <td>-0.371543</td>\n",
       "      <td>0.434098</td>\n",
       "      <td>0.198072</td>\n",
       "    </tr>\n",
       "    <tr>\n",
       "      <th>1</th>\n",
       "      <td>0.182548</td>\n",
       "      <td>1.000000</td>\n",
       "      <td>0.243375</td>\n",
       "      <td>0.189525</td>\n",
       "      <td>-0.006541</td>\n",
       "      <td>0.171590</td>\n",
       "      <td>0.244268</td>\n",
       "    </tr>\n",
       "    <tr>\n",
       "      <th>2</th>\n",
       "      <td>0.293396</td>\n",
       "      <td>0.243375</td>\n",
       "      <td>1.000000</td>\n",
       "      <td>0.140648</td>\n",
       "      <td>-0.112303</td>\n",
       "      <td>0.053745</td>\n",
       "      <td>0.186293</td>\n",
       "    </tr>\n",
       "    <tr>\n",
       "      <th>3</th>\n",
       "      <td>0.147556</td>\n",
       "      <td>0.189525</td>\n",
       "      <td>0.140648</td>\n",
       "      <td>1.000000</td>\n",
       "      <td>0.058056</td>\n",
       "      <td>0.253711</td>\n",
       "      <td>0.241811</td>\n",
       "    </tr>\n",
       "    <tr>\n",
       "      <th>4</th>\n",
       "      <td>-0.371543</td>\n",
       "      <td>-0.006541</td>\n",
       "      <td>-0.112303</td>\n",
       "      <td>0.058056</td>\n",
       "      <td>1.000000</td>\n",
       "      <td>0.014277</td>\n",
       "      <td>0.045071</td>\n",
       "    </tr>\n",
       "    <tr>\n",
       "      <th>5</th>\n",
       "      <td>0.434098</td>\n",
       "      <td>0.171590</td>\n",
       "      <td>0.053745</td>\n",
       "      <td>0.253711</td>\n",
       "      <td>0.014277</td>\n",
       "      <td>1.000000</td>\n",
       "      <td>0.283545</td>\n",
       "    </tr>\n",
       "    <tr>\n",
       "      <th>6</th>\n",
       "      <td>0.198072</td>\n",
       "      <td>0.244268</td>\n",
       "      <td>0.186293</td>\n",
       "      <td>0.241811</td>\n",
       "      <td>0.045071</td>\n",
       "      <td>0.283545</td>\n",
       "      <td>1.000000</td>\n",
       "    </tr>\n",
       "  </tbody>\n",
       "</table>\n",
       "</div>"
      ],
      "text/plain": [
       "          0         1         2         3         4         5         6\n",
       "0  1.000000  0.182548  0.293396  0.147556 -0.371543  0.434098  0.198072\n",
       "1  0.182548  1.000000  0.243375  0.189525 -0.006541  0.171590  0.244268\n",
       "2  0.293396  0.243375  1.000000  0.140648 -0.112303  0.053745  0.186293\n",
       "3  0.147556  0.189525  0.140648  1.000000  0.058056  0.253711  0.241811\n",
       "4 -0.371543 -0.006541 -0.112303  0.058056  1.000000  0.014277  0.045071\n",
       "5  0.434098  0.171590  0.053745  0.253711  0.014277  1.000000  0.283545\n",
       "6  0.198072  0.244268  0.186293  0.241811  0.045071  0.283545  1.000000"
      ]
     },
     "execution_count": 81,
     "metadata": {},
     "output_type": "execute_result"
    }
   ],
   "source": [
    "df_correlation"
   ]
  },
  {
   "cell_type": "code",
   "execution_count": 86,
   "metadata": {},
   "outputs": [
    {
     "data": {
      "text/plain": [
       "Int64Index([0, 1, 2, 3, 4, 5, 6], dtype='int64')"
      ]
     },
     "execution_count": 86,
     "metadata": {},
     "output_type": "execute_result"
    }
   ],
   "source": [
    "df_correlation.columns"
   ]
  },
  {
   "cell_type": "code",
   "execution_count": 91,
   "metadata": {},
   "outputs": [
    {
     "data": {
      "text/plain": [
       "[1, 3, 5, 8]"
      ]
     },
     "execution_count": 91,
     "metadata": {},
     "output_type": "execute_result"
    }
   ],
   "source": [
    "c = [5,3,8,1]\n",
    "sorted(c)"
   ]
  },
  {
   "cell_type": "code",
   "execution_count": 95,
   "metadata": {},
   "outputs": [
    {
     "data": {
      "text/plain": [
       "0"
      ]
     },
     "execution_count": 95,
     "metadata": {},
     "output_type": "execute_result"
    }
   ],
   "source": [
    "df_correlation.sum().idxmax()"
   ]
  },
  {
   "cell_type": "code",
   "execution_count": 96,
   "metadata": {},
   "outputs": [
    {
     "data": {
      "text/plain": [
       "0    2.627213\n",
       "1    2.037848\n",
       "2    2.029760\n",
       "3    2.031306\n",
       "4    1.607790\n",
       "5    2.210967\n",
       "6    2.199060\n",
       "dtype: float64"
      ]
     },
     "execution_count": 96,
     "metadata": {},
     "output_type": "execute_result"
    }
   ],
   "source": [
    "df_correlation.sum()"
   ]
  },
  {
   "cell_type": "code",
   "execution_count": 118,
   "metadata": {},
   "outputs": [],
   "source": [
    "from sklearn.linear_model import LinearRegression\n",
    "\n",
    "X = np.array(full_cpu[7998]).reshape(-1,1)\n",
    "model = LinearRegression().fit(X, full_cpu[8163])\n",
    "\n",
    "x_axis = np.arange(0,1,0.05)"
   ]
  },
  {
   "cell_type": "code",
   "execution_count": 105,
   "metadata": {},
   "outputs": [
    {
     "data": {
      "text/plain": [
       "sklearn.linear_model._base.LinearRegression"
      ]
     },
     "execution_count": 105,
     "metadata": {},
     "output_type": "execute_result"
    }
   ],
   "source": [
    "type(model)"
   ]
  },
  {
   "cell_type": "code",
   "execution_count": 115,
   "metadata": {},
   "outputs": [
    {
     "data": {
      "image/png": "[encoded data removed]",
      "text/plain": [
       "<Figure size 864x432 with 1 Axes>"
      ]
     },
     "metadata": {
      "needs_background": "light"
     },
     "output_type": "display_data"
    }
   ],
   "source": [
    "plt.figure(figsize=(12,6))\n",
    "plt.scatter(full_cpu[7998].to_list(), full_cpu[8163].to_list(), marker=\"x\")\n",
    "plt.grid()"
   ]
  },
  {
   "cell_type": "code",
   "execution_count": 177,
   "metadata": {},
   "outputs": [
    {
     "data": {
      "text/plain": [
       "array([0.48922578])"
      ]
     },
     "execution_count": 177,
     "metadata": {},
     "output_type": "execute_result"
    }
   ],
   "source": [
    "def get_regression_parameters(cpu_data, best_machine):\n",
    "    # get the linear regression parameters for each machine wrt the best machine\n",
    "    # returns a sklearn.linear_model._base.LinearRegression (model)\n",
    "    \n",
    "    model_list = []\n",
    "    for cpu_index in cpu_data.columns:\n",
    "        X = np.array(cpu_data[cpu_index]).reshape(-1,1)\n",
    "        model = LinearRegression().fit(X, cpu_data[best_machine])\n",
    "        model_list.append(model)\n",
    "        \n",
    "    return model_list \n",
    "\n",
    "X = np.array(full_cpu[7998]).reshape(-1,1)\n",
    "model = LinearRegression().fit(X, full_cpu[8163])\n",
    "\n",
    "model.predict(np.array(0.5).reshape(-1,1))"
   ]
  },
  {
   "cell_type": "code",
   "execution_count": 120,
   "metadata": {},
   "outputs": [
    {
     "data": {
      "text/plain": [
       "0.0012407058109098826"
      ]
     },
     "execution_count": 120,
     "metadata": {},
     "output_type": "execute_result"
    }
   ],
   "source": [
    "model.intercept_"
   ]
  },
  {
   "cell_type": "code",
   "execution_count": 113,
   "metadata": {},
   "outputs": [],
   "source": [
    "df_cpu = pd.DataFrame(np_cpu).transpose()"
   ]
  },
  {
   "cell_type": "code",
   "execution_count": 114,
   "metadata": {},
   "outputs": [
    {
     "data": {
      "text/html": [
       "<div>\n",
       "<style scoped>\n",
       "    .dataframe tbody tr th:only-of-type {\n",
       "        vertical-align: middle;\n",
       "    }\n",
       "\n",
       "    .dataframe tbody tr th {\n",
       "        vertical-align: top;\n",
       "    }\n",
       "\n",
       "    .dataframe thead th {\n",
       "        text-align: right;\n",
       "    }\n",
       "</style>\n",
       "<table border=\"1\" class=\"dataframe\">\n",
       "  <thead>\n",
       "    <tr style=\"text-align: right;\">\n",
       "      <th></th>\n",
       "      <th>9300</th>\n",
       "      <th>9273</th>\n",
       "    </tr>\n",
       "  </thead>\n",
       "  <tbody>\n",
       "    <tr>\n",
       "      <th>9300</th>\n",
       "      <td>1.000000</td>\n",
       "      <td>0.677392</td>\n",
       "    </tr>\n",
       "    <tr>\n",
       "      <th>9273</th>\n",
       "      <td>0.677392</td>\n",
       "      <td>1.000000</td>\n",
       "    </tr>\n",
       "  </tbody>\n",
       "</table>\n",
       "</div>"
      ],
      "text/plain": [
       "          9300      9273\n",
       "9300  1.000000  0.677392\n",
       "9273  0.677392  1.000000"
      ]
     },
     "execution_count": 114,
     "metadata": {},
     "output_type": "execute_result"
    }
   ],
   "source": [
    "df_cpu[[9300, 9273]].corr()"
   ]
  },
  {
   "cell_type": "code",
   "execution_count": 126,
   "metadata": {},
   "outputs": [],
   "source": [
    "mapping = {\"a\":[1], \"b\": [2]}"
   ]
  },
  {
   "cell_type": "code",
   "execution_count": 132,
   "metadata": {},
   "outputs": [
    {
     "name": "stdout",
     "output_type": "stream",
     "text": [
      "<class 'list'>\n",
      "<class 'list'>\n"
     ]
    }
   ],
   "source": [
    "for values in mapping.values():\n",
    "    print(type(values))"
   ]
  },
  {
   "cell_type": "code",
   "execution_count": 135,
   "metadata": {},
   "outputs": [
    {
     "name": "stdout",
     "output_type": "stream",
     "text": [
      "0    1.506896\n",
      "1    1.217628\n",
      "2    1.215300\n",
      "3    1.203686\n",
      "4    1.156305\n",
      "5    1.365744\n",
      "6    1.274507\n",
      "dtype: float64\n"
     ]
    },
    {
     "data": {
      "text/plain": [
       "0"
      ]
     },
     "execution_count": 135,
     "metadata": {},
     "output_type": "execute_result"
    }
   ],
   "source": [
    "def get_best_machine(correlation_matrix):\n",
    "    # takes in the correlation_matrix\n",
    "    # returns the index of the machine which minimises the correlation \n",
    "    # between all machines\n",
    "    \n",
    "    # Take the sum of the squared correlation of all machines\n",
    "    # Note that taking the sum penalizes small values and rewards large values\n",
    "    squared_matrix = (correlation_matrix**2).sum()\n",
    "    print(squared_matrix)\n",
    "    \n",
    "    return squared_matrix.idxmax()\n",
    "\n",
    "get_best_machine(df_correlation)"
   ]
  },
  {
   "cell_type": "code",
   "execution_count": 139,
   "metadata": {},
   "outputs": [],
   "source": [
    "df_cpu = pd.DataFrame(np_cpu).transpose()"
   ]
  },
  {
   "cell_type": "code",
   "execution_count": 143,
   "metadata": {},
   "outputs": [],
   "source": [
    "# mean for each machine\n",
    "df_mean = df_cpu.mean()"
   ]
  },
  {
   "cell_type": "code",
   "execution_count": 147,
   "metadata": {},
   "outputs": [
    {
     "data": {
      "text/plain": [
       "(array([ 25.,  17.,   9.,   9.,  19.,  31.,  18.,  32.,  36.,  63., 101.,\n",
       "        128., 223., 321., 448., 577., 653., 832., 897., 940., 949., 774.,\n",
       "        668., 621., 465., 441., 391., 370., 364., 305., 269., 228., 190.,\n",
       "        175., 147., 133., 101.,  76.,  57.,  53.,  48.,  42.,  27.,  31.,\n",
       "         24.,  29.,  22.,  27.,  14.,  16.,   6.,   8.,   6.,   4.,   4.,\n",
       "          2.,   3.,   1.,   3.,   1.,   0.,   2.,   0.,   0.,   0.,   0.,\n",
       "          0.,   0.,   0.,   0.,   0.,   0.,   0.,   0.,   0.,   0.,   0.,\n",
       "          0.,   0.,   0.,   0.,   0.,   0.,   0.,   0.,   0.,   0.,   0.,\n",
       "          0.,   0.,   0.,   0.,   0.,   0.,   0.,   0.,   0.,   0.,   0.,\n",
       "          0.,   0.,   0.,   0.,   0.]),\n",
       " array([0.  , 0.01, 0.02, 0.03, 0.04, 0.05, 0.06, 0.07, 0.08, 0.09, 0.1 ,\n",
       "        0.11, 0.12, 0.13, 0.14, 0.15, 0.16, 0.17, 0.18, 0.19, 0.2 , 0.21,\n",
       "        0.22, 0.23, 0.24, 0.25, 0.26, 0.27, 0.28, 0.29, 0.3 , 0.31, 0.32,\n",
       "        0.33, 0.34, 0.35, 0.36, 0.37, 0.38, 0.39, 0.4 , 0.41, 0.42, 0.43,\n",
       "        0.44, 0.45, 0.46, 0.47, 0.48, 0.49, 0.5 , 0.51, 0.52, 0.53, 0.54,\n",
       "        0.55, 0.56, 0.57, 0.58, 0.59, 0.6 , 0.61, 0.62, 0.63, 0.64, 0.65,\n",
       "        0.66, 0.67, 0.68, 0.69, 0.7 , 0.71, 0.72, 0.73, 0.74, 0.75, 0.76,\n",
       "        0.77, 0.78, 0.79, 0.8 , 0.81, 0.82, 0.83, 0.84, 0.85, 0.86, 0.87,\n",
       "        0.88, 0.89, 0.9 , 0.91, 0.92, 0.93, 0.94, 0.95, 0.96, 0.97, 0.98,\n",
       "        0.99, 1.  , 1.01, 1.02, 1.03, 1.04]),\n",
       " <a list of 104 Patch objects>)"
      ]
     },
     "execution_count": 147,
     "metadata": {},
     "output_type": "execute_result"
    },
    {
     "data": {
      "image/png": "[encoded data removed]",
      "text/plain": [
       "<Figure size 432x288 with 1 Axes>"
      ]
     },
     "metadata": {
      "needs_background": "light"
     },
     "output_type": "display_data"
    }
   ],
   "source": [
    "binning = np.arange(0, 1.05, 0.01).tolist()\n",
    "plt.hist(df_mean, bins = binning)"
   ]
  },
  {
   "cell_type": "code",
   "execution_count": 149,
   "metadata": {},
   "outputs": [
    {
     "data": {
      "text/plain": [
       "0.1456824279689351"
      ]
     },
     "execution_count": 149,
     "metadata": {},
     "output_type": "execute_result"
    }
   ],
   "source": [
    "df_mean.quantile(0.1)"
   ]
  },
  {
   "cell_type": "code",
   "execution_count": 150,
   "metadata": {},
   "outputs": [
    {
     "data": {
      "text/plain": [
       "0.3202147493635211"
      ]
     },
     "execution_count": 150,
     "metadata": {},
     "output_type": "execute_result"
    }
   ],
   "source": [
    "df_mean.quantile(0.9)"
   ]
  },
  {
   "cell_type": "code",
   "execution_count": 151,
   "metadata": {},
   "outputs": [
    {
     "data": {
      "text/plain": [
       "0.0669634386607946"
      ]
     },
     "execution_count": 151,
     "metadata": {},
     "output_type": "execute_result"
    }
   ],
   "source": [
    "df_mean.quantile(0.01)"
   ]
  },
  {
   "cell_type": "code",
   "execution_count": 152,
   "metadata": {},
   "outputs": [
    {
     "data": {
      "text/html": [
       "<div>\n",
       "<style scoped>\n",
       "    .dataframe tbody tr th:only-of-type {\n",
       "        vertical-align: middle;\n",
       "    }\n",
       "\n",
       "    .dataframe tbody tr th {\n",
       "        vertical-align: top;\n",
       "    }\n",
       "\n",
       "    .dataframe thead th {\n",
       "        text-align: right;\n",
       "    }\n",
       "</style>\n",
       "<table border=\"1\" class=\"dataframe\">\n",
       "  <thead>\n",
       "    <tr style=\"text-align: right;\">\n",
       "      <th></th>\n",
       "      <th>0</th>\n",
       "      <th>1</th>\n",
       "      <th>2</th>\n",
       "      <th>3</th>\n",
       "      <th>4</th>\n",
       "      <th>5</th>\n",
       "      <th>6</th>\n",
       "    </tr>\n",
       "  </thead>\n",
       "  <tbody>\n",
       "    <tr>\n",
       "      <th>0</th>\n",
       "      <td>1.000000</td>\n",
       "      <td>0.182548</td>\n",
       "      <td>0.293396</td>\n",
       "      <td>0.147556</td>\n",
       "      <td>0.371543</td>\n",
       "      <td>0.434098</td>\n",
       "      <td>0.198072</td>\n",
       "    </tr>\n",
       "    <tr>\n",
       "      <th>1</th>\n",
       "      <td>0.182548</td>\n",
       "      <td>1.000000</td>\n",
       "      <td>0.243375</td>\n",
       "      <td>0.189525</td>\n",
       "      <td>0.006541</td>\n",
       "      <td>0.171590</td>\n",
       "      <td>0.244268</td>\n",
       "    </tr>\n",
       "    <tr>\n",
       "      <th>2</th>\n",
       "      <td>0.293396</td>\n",
       "      <td>0.243375</td>\n",
       "      <td>1.000000</td>\n",
       "      <td>0.140648</td>\n",
       "      <td>0.112303</td>\n",
       "      <td>0.053745</td>\n",
       "      <td>0.186293</td>\n",
       "    </tr>\n",
       "    <tr>\n",
       "      <th>3</th>\n",
       "      <td>0.147556</td>\n",
       "      <td>0.189525</td>\n",
       "      <td>0.140648</td>\n",
       "      <td>1.000000</td>\n",
       "      <td>0.058056</td>\n",
       "      <td>0.253711</td>\n",
       "      <td>0.241811</td>\n",
       "    </tr>\n",
       "    <tr>\n",
       "      <th>4</th>\n",
       "      <td>0.371543</td>\n",
       "      <td>0.006541</td>\n",
       "      <td>0.112303</td>\n",
       "      <td>0.058056</td>\n",
       "      <td>1.000000</td>\n",
       "      <td>0.014277</td>\n",
       "      <td>0.045071</td>\n",
       "    </tr>\n",
       "    <tr>\n",
       "      <th>5</th>\n",
       "      <td>0.434098</td>\n",
       "      <td>0.171590</td>\n",
       "      <td>0.053745</td>\n",
       "      <td>0.253711</td>\n",
       "      <td>0.014277</td>\n",
       "      <td>1.000000</td>\n",
       "      <td>0.283545</td>\n",
       "    </tr>\n",
       "    <tr>\n",
       "      <th>6</th>\n",
       "      <td>0.198072</td>\n",
       "      <td>0.244268</td>\n",
       "      <td>0.186293</td>\n",
       "      <td>0.241811</td>\n",
       "      <td>0.045071</td>\n",
       "      <td>0.283545</td>\n",
       "      <td>1.000000</td>\n",
       "    </tr>\n",
       "  </tbody>\n",
       "</table>\n",
       "</div>"
      ],
      "text/plain": [
       "          0         1         2         3         4         5         6\n",
       "0  1.000000  0.182548  0.293396  0.147556  0.371543  0.434098  0.198072\n",
       "1  0.182548  1.000000  0.243375  0.189525  0.006541  0.171590  0.244268\n",
       "2  0.293396  0.243375  1.000000  0.140648  0.112303  0.053745  0.186293\n",
       "3  0.147556  0.189525  0.140648  1.000000  0.058056  0.253711  0.241811\n",
       "4  0.371543  0.006541  0.112303  0.058056  1.000000  0.014277  0.045071\n",
       "5  0.434098  0.171590  0.053745  0.253711  0.014277  1.000000  0.283545\n",
       "6  0.198072  0.244268  0.186293  0.241811  0.045071  0.283545  1.000000"
      ]
     },
     "execution_count": 152,
     "metadata": {},
     "output_type": "execute_result"
    }
   ],
   "source": [
    "df_correlation.abs()"
   ]
  },
  {
   "cell_type": "code",
   "execution_count": 153,
   "metadata": {},
   "outputs": [],
   "source": [
    "cluster = agc(n_clusters=3, affinity='euclidean', linkage='ward')\n",
    "clustering_output = cluster.fit_predict(df_correlation)"
   ]
  },
  {
   "cell_type": "code",
   "execution_count": 155,
   "metadata": {},
   "outputs": [
    {
     "data": {
      "text/plain": [
       "array([1, 0, 0, 0, 2, 1, 0])"
      ]
     },
     "execution_count": 155,
     "metadata": {},
     "output_type": "execute_result"
    }
   ],
   "source": [
    "clustering_output"
   ]
  },
  {
   "cell_type": "code",
   "execution_count": 159,
   "metadata": {},
   "outputs": [
    {
     "data": {
      "text/plain": [
       "0    2.627213\n",
       "1    2.037848\n",
       "2    2.029760\n",
       "3    2.031306\n",
       "4    1.607790\n",
       "5    2.210967\n",
       "6    2.199060\n",
       "dtype: float64"
      ]
     },
     "execution_count": 159,
     "metadata": {},
     "output_type": "execute_result"
    }
   ],
   "source": [
    "df_correlation.abs().sum()"
   ]
  },
  {
   "cell_type": "code",
   "execution_count": 165,
   "metadata": {},
   "outputs": [
    {
     "data": {
      "text/html": [
       "<div>\n",
       "<style scoped>\n",
       "    .dataframe tbody tr th:only-of-type {\n",
       "        vertical-align: middle;\n",
       "    }\n",
       "\n",
       "    .dataframe tbody tr th {\n",
       "        vertical-align: top;\n",
       "    }\n",
       "\n",
       "    .dataframe thead th {\n",
       "        text-align: right;\n",
       "    }\n",
       "</style>\n",
       "<table border=\"1\" class=\"dataframe\">\n",
       "  <thead>\n",
       "    <tr style=\"text-align: right;\">\n",
       "      <th></th>\n",
       "      <th>a</th>\n",
       "      <th>b</th>\n",
       "    </tr>\n",
       "  </thead>\n",
       "  <tbody>\n",
       "    <tr>\n",
       "      <th>0</th>\n",
       "      <td>1</td>\n",
       "      <td>1</td>\n",
       "    </tr>\n",
       "  </tbody>\n",
       "</table>\n",
       "</div>"
      ],
      "text/plain": [
       "   a  b\n",
       "0  1  1"
      ]
     },
     "execution_count": 165,
     "metadata": {},
     "output_type": "execute_result"
    }
   ],
   "source": [
    "mapping[\"b\"]=[1]\n",
    "f = pd.DataFrame(mapping)\n",
    "f"
   ]
  },
  {
   "cell_type": "code",
   "execution_count": 167,
   "metadata": {},
   "outputs": [
    {
     "data": {
      "text/plain": [
       "0    1\n",
       "1    1\n",
       "2    1\n",
       "3    2\n",
       "4    3\n",
       "5    4\n",
       "6    5\n",
       "7    5\n",
       "dtype: int64"
      ]
     },
     "execution_count": 167,
     "metadata": {},
     "output_type": "execute_result"
    }
   ],
   "source": [
    "f = pd.Series([1,1,1,2,3,4,5,5])\n",
    "f"
   ]
  },
  {
   "cell_type": "code",
   "execution_count": 185,
   "metadata": {},
   "outputs": [
    {
     "data": {
      "text/html": [
       "<div>\n",
       "<style scoped>\n",
       "    .dataframe tbody tr th:only-of-type {\n",
       "        vertical-align: middle;\n",
       "    }\n",
       "\n",
       "    .dataframe tbody tr th {\n",
       "        vertical-align: top;\n",
       "    }\n",
       "\n",
       "    .dataframe thead th {\n",
       "        text-align: right;\n",
       "    }\n",
       "</style>\n",
       "<table border=\"1\" class=\"dataframe\">\n",
       "  <thead>\n",
       "    <tr style=\"text-align: right;\">\n",
       "      <th></th>\n",
       "      <th>1</th>\n",
       "    </tr>\n",
       "  </thead>\n",
       "  <tbody>\n",
       "    <tr>\n",
       "      <th>0</th>\n",
       "      <td>0.859551</td>\n",
       "    </tr>\n",
       "    <tr>\n",
       "      <th>1</th>\n",
       "      <td>0.599362</td>\n",
       "    </tr>\n",
       "    <tr>\n",
       "      <th>2</th>\n",
       "      <td>0.454142</td>\n",
       "    </tr>\n",
       "    <tr>\n",
       "      <th>3</th>\n",
       "      <td>0.605835</td>\n",
       "    </tr>\n",
       "    <tr>\n",
       "      <th>4</th>\n",
       "      <td>0.657417</td>\n",
       "    </tr>\n",
       "    <tr>\n",
       "      <th>...</th>\n",
       "      <td>...</td>\n",
       "    </tr>\n",
       "    <tr>\n",
       "      <th>12471</th>\n",
       "      <td>0.693923</td>\n",
       "    </tr>\n",
       "    <tr>\n",
       "      <th>12472</th>\n",
       "      <td>0.515670</td>\n",
       "    </tr>\n",
       "    <tr>\n",
       "      <th>12473</th>\n",
       "      <td>0.598865</td>\n",
       "    </tr>\n",
       "    <tr>\n",
       "      <th>12474</th>\n",
       "      <td>0.534777</td>\n",
       "    </tr>\n",
       "    <tr>\n",
       "      <th>12475</th>\n",
       "      <td>0.532983</td>\n",
       "    </tr>\n",
       "  </tbody>\n",
       "</table>\n",
       "<p>12476 rows × 1 columns</p>\n",
       "</div>"
      ],
      "text/plain": [
       "              1\n",
       "0      0.859551\n",
       "1      0.599362\n",
       "2      0.454142\n",
       "3      0.605835\n",
       "4      0.657417\n",
       "...         ...\n",
       "12471  0.693923\n",
       "12472  0.515670\n",
       "12473  0.598865\n",
       "12474  0.534777\n",
       "12475  0.532983\n",
       "\n",
       "[12476 rows x 1 columns]"
      ]
     },
     "execution_count": 185,
     "metadata": {},
     "output_type": "execute_result"
    }
   ],
   "source": []
  },
  {
   "cell_type": "code",
   "execution_count": null,
   "metadata": {},
   "outputs": [],
   "source": []
  }
 ],
 "metadata": {
  "kernelspec": {
   "display_name": "Python 3",
   "language": "python",
   "name": "python3"
  },
  "language_info": {
   "codemirror_mode": {
    "name": "ipython",
    "version": 3
   },
   "file_extension": ".py",
   "mimetype": "text/x-python",
   "name": "python",
   "nbconvert_exporter": "python",
   "pygments_lexer": "ipython3",
   "version": "3.7.3"
  }
 },
 "nbformat": 4,
 "nbformat_minor": 2
}
