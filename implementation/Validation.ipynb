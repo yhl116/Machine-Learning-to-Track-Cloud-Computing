{
 "cells": [
  {
   "cell_type": "code",
   "execution_count": 1,
   "metadata": {},
   "outputs": [
    {
     "data": {
      "application/javascript": [
       "IPython.OutputArea.prototype._should_scroll = function(lines){\n",
       "    return false;\n",
       "}\n"
      ],
      "text/plain": [
       "<IPython.core.display.Javascript object>"
      ]
     },
     "metadata": {},
     "output_type": "display_data"
    }
   ],
   "source": [
    "%%javascript\n",
    "IPython.OutputArea.prototype._should_scroll = function(lines){\n",
    "    return false;\n",
    "}"
   ]
  },
  {
   "cell_type": "code",
   "execution_count": 28,
   "metadata": {},
   "outputs": [],
   "source": [
    "# run this to hide all warnings about ARIMA fails to converge\n",
    "\n",
    "import warnings\n",
    "warnings.filterwarnings('ignore')"
   ]
  },
  {
   "cell_type": "code",
   "execution_count": 3,
   "metadata": {},
   "outputs": [
    {
     "name": "stdout",
     "output_type": "stream",
     "text": [
      "/Users/yeehonglow/Documents/Imperial/Machine-Learning-to-Track-Cloud-Computing\n"
     ]
    }
   ],
   "source": [
    "cd .."
   ]
  },
  {
   "cell_type": "code",
   "execution_count": 29,
   "metadata": {},
   "outputs": [],
   "source": [
    "import pandas as pd\n",
    "import matplotlib\n",
    "import matplotlib.pyplot as plt\n",
    "import numpy as np\n",
    "import random\n",
    "from random import randrange\n",
    "import progressbar\n",
    "from sklearn.cluster import AgglomerativeClustering as agc\n",
    "from sklearn.linear_model import LinearRegression\n",
    "from statsmodels.tsa.arima_model import ARIMA\n",
    "from statsmodels.tsa.arima_model import ARIMA\n",
    "from sklearn.metrics import mean_squared_error\n",
    "from sklearn.cluster import KMeans\n",
    "import time"
   ]
  },
  {
   "cell_type": "code",
   "execution_count": 5,
   "metadata": {},
   "outputs": [
    {
     "data": {
      "text/html": [
       "<div>\n",
       "<style scoped>\n",
       "    .dataframe tbody tr th:only-of-type {\n",
       "        vertical-align: middle;\n",
       "    }\n",
       "\n",
       "    .dataframe tbody tr th {\n",
       "        vertical-align: top;\n",
       "    }\n",
       "\n",
       "    .dataframe thead th {\n",
       "        text-align: right;\n",
       "    }\n",
       "</style>\n",
       "<table border=\"1\" class=\"dataframe\">\n",
       "  <thead>\n",
       "    <tr style=\"text-align: right;\">\n",
       "      <th></th>\n",
       "      <th>0</th>\n",
       "      <th>1</th>\n",
       "      <th>2</th>\n",
       "      <th>3</th>\n",
       "      <th>4</th>\n",
       "      <th>5</th>\n",
       "      <th>6</th>\n",
       "      <th>7</th>\n",
       "      <th>8</th>\n",
       "      <th>9</th>\n",
       "      <th>...</th>\n",
       "      <th>12466</th>\n",
       "      <th>12467</th>\n",
       "      <th>12468</th>\n",
       "      <th>12469</th>\n",
       "      <th>12470</th>\n",
       "      <th>12471</th>\n",
       "      <th>12472</th>\n",
       "      <th>12473</th>\n",
       "      <th>12474</th>\n",
       "      <th>12475</th>\n",
       "    </tr>\n",
       "  </thead>\n",
       "  <tbody>\n",
       "    <tr>\n",
       "      <th>0</th>\n",
       "      <td>0.253672</td>\n",
       "      <td>0.079161</td>\n",
       "      <td>0.206047</td>\n",
       "      <td>0.663605</td>\n",
       "      <td>0.382621</td>\n",
       "      <td>0.295668</td>\n",
       "      <td>0.184070</td>\n",
       "      <td>0.496593</td>\n",
       "      <td>0.525418</td>\n",
       "      <td>0.290140</td>\n",
       "      <td>...</td>\n",
       "      <td>0.375723</td>\n",
       "      <td>0.408478</td>\n",
       "      <td>0.210300</td>\n",
       "      <td>0.736583</td>\n",
       "      <td>0.197652</td>\n",
       "      <td>0.252940</td>\n",
       "      <td>0.502969</td>\n",
       "      <td>0.491815</td>\n",
       "      <td>0.385068</td>\n",
       "      <td>0.162004</td>\n",
       "    </tr>\n",
       "    <tr>\n",
       "      <th>1</th>\n",
       "      <td>0.244409</td>\n",
       "      <td>0.085044</td>\n",
       "      <td>0.196264</td>\n",
       "      <td>0.818703</td>\n",
       "      <td>0.402819</td>\n",
       "      <td>0.297955</td>\n",
       "      <td>0.213957</td>\n",
       "      <td>0.350278</td>\n",
       "      <td>0.573250</td>\n",
       "      <td>0.317034</td>\n",
       "      <td>...</td>\n",
       "      <td>0.470169</td>\n",
       "      <td>0.412815</td>\n",
       "      <td>0.166844</td>\n",
       "      <td>0.809824</td>\n",
       "      <td>0.162657</td>\n",
       "      <td>0.290303</td>\n",
       "      <td>0.412357</td>\n",
       "      <td>0.445945</td>\n",
       "      <td>0.468362</td>\n",
       "      <td>0.334348</td>\n",
       "    </tr>\n",
       "    <tr>\n",
       "      <th>2</th>\n",
       "      <td>0.286186</td>\n",
       "      <td>0.126529</td>\n",
       "      <td>0.245121</td>\n",
       "      <td>0.830427</td>\n",
       "      <td>0.411507</td>\n",
       "      <td>0.296759</td>\n",
       "      <td>0.351503</td>\n",
       "      <td>0.293486</td>\n",
       "      <td>0.555317</td>\n",
       "      <td>0.368492</td>\n",
       "      <td>...</td>\n",
       "      <td>0.483236</td>\n",
       "      <td>0.413504</td>\n",
       "      <td>0.164896</td>\n",
       "      <td>0.543337</td>\n",
       "      <td>0.232658</td>\n",
       "      <td>0.270588</td>\n",
       "      <td>0.161209</td>\n",
       "      <td>0.476118</td>\n",
       "      <td>0.486091</td>\n",
       "      <td>0.241277</td>\n",
       "    </tr>\n",
       "    <tr>\n",
       "      <th>3</th>\n",
       "      <td>0.282959</td>\n",
       "      <td>0.567100</td>\n",
       "      <td>0.784541</td>\n",
       "      <td>0.805947</td>\n",
       "      <td>0.411052</td>\n",
       "      <td>0.310281</td>\n",
       "      <td>0.368436</td>\n",
       "      <td>0.293222</td>\n",
       "      <td>0.528925</td>\n",
       "      <td>0.279950</td>\n",
       "      <td>...</td>\n",
       "      <td>0.472866</td>\n",
       "      <td>0.433755</td>\n",
       "      <td>0.169487</td>\n",
       "      <td>0.800869</td>\n",
       "      <td>0.217257</td>\n",
       "      <td>0.293129</td>\n",
       "      <td>0.564685</td>\n",
       "      <td>0.748201</td>\n",
       "      <td>0.744447</td>\n",
       "      <td>0.246259</td>\n",
       "    </tr>\n",
       "    <tr>\n",
       "      <th>4</th>\n",
       "      <td>0.267864</td>\n",
       "      <td>0.568513</td>\n",
       "      <td>0.625622</td>\n",
       "      <td>0.788383</td>\n",
       "      <td>0.398860</td>\n",
       "      <td>0.354702</td>\n",
       "      <td>0.362917</td>\n",
       "      <td>0.414586</td>\n",
       "      <td>0.548902</td>\n",
       "      <td>0.245887</td>\n",
       "      <td>...</td>\n",
       "      <td>0.470394</td>\n",
       "      <td>0.079542</td>\n",
       "      <td>0.161834</td>\n",
       "      <td>0.829667</td>\n",
       "      <td>0.250794</td>\n",
       "      <td>0.277118</td>\n",
       "      <td>0.516919</td>\n",
       "      <td>0.705893</td>\n",
       "      <td>0.711830</td>\n",
       "      <td>0.307020</td>\n",
       "    </tr>\n",
       "    <tr>\n",
       "      <th>...</th>\n",
       "      <td>...</td>\n",
       "      <td>...</td>\n",
       "      <td>...</td>\n",
       "      <td>...</td>\n",
       "      <td>...</td>\n",
       "      <td>...</td>\n",
       "      <td>...</td>\n",
       "      <td>...</td>\n",
       "      <td>...</td>\n",
       "      <td>...</td>\n",
       "      <td>...</td>\n",
       "      <td>...</td>\n",
       "      <td>...</td>\n",
       "      <td>...</td>\n",
       "      <td>...</td>\n",
       "      <td>...</td>\n",
       "      <td>...</td>\n",
       "      <td>...</td>\n",
       "      <td>...</td>\n",
       "      <td>...</td>\n",
       "      <td>...</td>\n",
       "    </tr>\n",
       "    <tr>\n",
       "      <th>8313</th>\n",
       "      <td>0.360116</td>\n",
       "      <td>0.421885</td>\n",
       "      <td>0.203981</td>\n",
       "      <td>0.233525</td>\n",
       "      <td>0.109446</td>\n",
       "      <td>0.239819</td>\n",
       "      <td>0.250049</td>\n",
       "      <td>0.098761</td>\n",
       "      <td>0.200595</td>\n",
       "      <td>0.136422</td>\n",
       "      <td>...</td>\n",
       "      <td>0.132390</td>\n",
       "      <td>0.272088</td>\n",
       "      <td>0.111850</td>\n",
       "      <td>0.457003</td>\n",
       "      <td>0.303150</td>\n",
       "      <td>0.354244</td>\n",
       "      <td>0.298454</td>\n",
       "      <td>0.205314</td>\n",
       "      <td>0.129465</td>\n",
       "      <td>0.327796</td>\n",
       "    </tr>\n",
       "    <tr>\n",
       "      <th>8314</th>\n",
       "      <td>0.362263</td>\n",
       "      <td>0.311366</td>\n",
       "      <td>0.455806</td>\n",
       "      <td>0.245492</td>\n",
       "      <td>0.108742</td>\n",
       "      <td>0.240046</td>\n",
       "      <td>0.206760</td>\n",
       "      <td>0.100170</td>\n",
       "      <td>0.192283</td>\n",
       "      <td>0.124357</td>\n",
       "      <td>...</td>\n",
       "      <td>0.174067</td>\n",
       "      <td>0.255670</td>\n",
       "      <td>0.110919</td>\n",
       "      <td>0.452675</td>\n",
       "      <td>0.357220</td>\n",
       "      <td>0.456430</td>\n",
       "      <td>0.329026</td>\n",
       "      <td>0.185720</td>\n",
       "      <td>0.134255</td>\n",
       "      <td>0.303741</td>\n",
       "    </tr>\n",
       "    <tr>\n",
       "      <th>8315</th>\n",
       "      <td>0.353284</td>\n",
       "      <td>0.286414</td>\n",
       "      <td>0.449383</td>\n",
       "      <td>0.255302</td>\n",
       "      <td>0.107698</td>\n",
       "      <td>0.227358</td>\n",
       "      <td>0.175994</td>\n",
       "      <td>0.098761</td>\n",
       "      <td>0.198344</td>\n",
       "      <td>0.128449</td>\n",
       "      <td>...</td>\n",
       "      <td>0.227165</td>\n",
       "      <td>0.192814</td>\n",
       "      <td>0.112557</td>\n",
       "      <td>0.454342</td>\n",
       "      <td>0.332720</td>\n",
       "      <td>0.415568</td>\n",
       "      <td>0.291380</td>\n",
       "      <td>0.180987</td>\n",
       "      <td>0.131710</td>\n",
       "      <td>0.256081</td>\n",
       "    </tr>\n",
       "    <tr>\n",
       "      <th>8316</th>\n",
       "      <td>0.336732</td>\n",
       "      <td>0.258560</td>\n",
       "      <td>0.414796</td>\n",
       "      <td>0.196945</td>\n",
       "      <td>0.110738</td>\n",
       "      <td>0.233530</td>\n",
       "      <td>0.108868</td>\n",
       "      <td>0.090715</td>\n",
       "      <td>0.182867</td>\n",
       "      <td>0.114614</td>\n",
       "      <td>...</td>\n",
       "      <td>0.231024</td>\n",
       "      <td>0.166013</td>\n",
       "      <td>0.118202</td>\n",
       "      <td>0.345110</td>\n",
       "      <td>0.178616</td>\n",
       "      <td>0.326134</td>\n",
       "      <td>0.145217</td>\n",
       "      <td>0.162554</td>\n",
       "      <td>0.167205</td>\n",
       "      <td>0.165261</td>\n",
       "    </tr>\n",
       "    <tr>\n",
       "      <th>8317</th>\n",
       "      <td>0.001371</td>\n",
       "      <td>0.041735</td>\n",
       "      <td>0.001688</td>\n",
       "      <td>0.099400</td>\n",
       "      <td>0.000451</td>\n",
       "      <td>0.153530</td>\n",
       "      <td>0.000439</td>\n",
       "      <td>0.000369</td>\n",
       "      <td>0.000745</td>\n",
       "      <td>0.000559</td>\n",
       "      <td>...</td>\n",
       "      <td>0.134883</td>\n",
       "      <td>0.075411</td>\n",
       "      <td>0.033745</td>\n",
       "      <td>0.308897</td>\n",
       "      <td>0.011916</td>\n",
       "      <td>0.065691</td>\n",
       "      <td>0.000519</td>\n",
       "      <td>0.116340</td>\n",
       "      <td>0.000681</td>\n",
       "      <td>0.000598</td>\n",
       "    </tr>\n",
       "  </tbody>\n",
       "</table>\n",
       "<p>8318 rows × 12476 columns</p>\n",
       "</div>"
      ],
      "text/plain": [
       "         0         1         2         3         4         5         6      \\\n",
       "0     0.253672  0.079161  0.206047  0.663605  0.382621  0.295668  0.184070   \n",
       "1     0.244409  0.085044  0.196264  0.818703  0.402819  0.297955  0.213957   \n",
       "2     0.286186  0.126529  0.245121  0.830427  0.411507  0.296759  0.351503   \n",
       "3     0.282959  0.567100  0.784541  0.805947  0.411052  0.310281  0.368436   \n",
       "4     0.267864  0.568513  0.625622  0.788383  0.398860  0.354702  0.362917   \n",
       "...        ...       ...       ...       ...       ...       ...       ...   \n",
       "8313  0.360116  0.421885  0.203981  0.233525  0.109446  0.239819  0.250049   \n",
       "8314  0.362263  0.311366  0.455806  0.245492  0.108742  0.240046  0.206760   \n",
       "8315  0.353284  0.286414  0.449383  0.255302  0.107698  0.227358  0.175994   \n",
       "8316  0.336732  0.258560  0.414796  0.196945  0.110738  0.233530  0.108868   \n",
       "8317  0.001371  0.041735  0.001688  0.099400  0.000451  0.153530  0.000439   \n",
       "\n",
       "         7         8         9      ...     12466     12467     12468  \\\n",
       "0     0.496593  0.525418  0.290140  ...  0.375723  0.408478  0.210300   \n",
       "1     0.350278  0.573250  0.317034  ...  0.470169  0.412815  0.166844   \n",
       "2     0.293486  0.555317  0.368492  ...  0.483236  0.413504  0.164896   \n",
       "3     0.293222  0.528925  0.279950  ...  0.472866  0.433755  0.169487   \n",
       "4     0.414586  0.548902  0.245887  ...  0.470394  0.079542  0.161834   \n",
       "...        ...       ...       ...  ...       ...       ...       ...   \n",
       "8313  0.098761  0.200595  0.136422  ...  0.132390  0.272088  0.111850   \n",
       "8314  0.100170  0.192283  0.124357  ...  0.174067  0.255670  0.110919   \n",
       "8315  0.098761  0.198344  0.128449  ...  0.227165  0.192814  0.112557   \n",
       "8316  0.090715  0.182867  0.114614  ...  0.231024  0.166013  0.118202   \n",
       "8317  0.000369  0.000745  0.000559  ...  0.134883  0.075411  0.033745   \n",
       "\n",
       "         12469     12470     12471     12472     12473     12474     12475  \n",
       "0     0.736583  0.197652  0.252940  0.502969  0.491815  0.385068  0.162004  \n",
       "1     0.809824  0.162657  0.290303  0.412357  0.445945  0.468362  0.334348  \n",
       "2     0.543337  0.232658  0.270588  0.161209  0.476118  0.486091  0.241277  \n",
       "3     0.800869  0.217257  0.293129  0.564685  0.748201  0.744447  0.246259  \n",
       "4     0.829667  0.250794  0.277118  0.516919  0.705893  0.711830  0.307020  \n",
       "...        ...       ...       ...       ...       ...       ...       ...  \n",
       "8313  0.457003  0.303150  0.354244  0.298454  0.205314  0.129465  0.327796  \n",
       "8314  0.452675  0.357220  0.456430  0.329026  0.185720  0.134255  0.303741  \n",
       "8315  0.454342  0.332720  0.415568  0.291380  0.180987  0.131710  0.256081  \n",
       "8316  0.345110  0.178616  0.326134  0.145217  0.162554  0.167205  0.165261  \n",
       "8317  0.308897  0.011916  0.065691  0.000519  0.116340  0.000681  0.000598  \n",
       "\n",
       "[8318 rows x 12476 columns]"
      ]
     },
     "execution_count": 5,
     "metadata": {},
     "output_type": "execute_result"
    }
   ],
   "source": [
    "x_axis = np.arange(0, 29-1/288, 1/288).tolist()\n",
    "np_cpu = np.load(\"dataset//google-cpu-full.npy\")\n",
    "\n",
    "# We discard the last 33 rows as all of them are just 0\n",
    "df_cpu = pd.DataFrame(np_cpu).transpose().iloc[:-33]\n",
    "df_cpu"
   ]
  },
  {
   "cell_type": "code",
   "execution_count": 6,
   "metadata": {},
   "outputs": [
    {
     "data": {
      "text/plain": [
       "0           0\n",
       "1          22\n",
       "2          30\n",
       "3          76\n",
       "4         100\n",
       "        ...  \n",
       "1149    12430\n",
       "1150    12435\n",
       "1151    12448\n",
       "1152    12450\n",
       "1153    12462\n",
       "Name: 1, Length: 1154, dtype: int64"
      ]
     },
     "execution_count": 6,
     "metadata": {},
     "output_type": "execute_result"
    }
   ],
   "source": [
    "# selected_machines_series is a pd.series of selected_machines\n",
    "\n",
    "selected_machines_series = pd.read_csv(\"derived_dataset//df_updated_selected_machines.csv\", header = None)[1]\n",
    "# selected_machines_series = selected_machines_series.drop(selected_machines_series.loc[2875].index)\n",
    "\n",
    "# drop corrupted\n",
    "corrupted_list = [2875, 860, 5262, 11031, 3741, 4081, 8082, 7807]\n",
    "\n",
    "for x in corrupted_list:\n",
    "    selected_machines_series = selected_machines_series.drop(selected_machines_series.loc[selected_machines_series == x].index[0])\n",
    "    \n",
    "selected_machines_series = selected_machines_series.reset_index()[1]\n",
    "selected_machines_series"
   ]
  },
  {
   "cell_type": "code",
   "execution_count": 7,
   "metadata": {},
   "outputs": [
    {
     "data": {
      "text/html": [
       "<div>\n",
       "<style scoped>\n",
       "    .dataframe tbody tr th:only-of-type {\n",
       "        vertical-align: middle;\n",
       "    }\n",
       "\n",
       "    .dataframe tbody tr th {\n",
       "        vertical-align: top;\n",
       "    }\n",
       "\n",
       "    .dataframe thead th {\n",
       "        text-align: right;\n",
       "    }\n",
       "</style>\n",
       "<table border=\"1\" class=\"dataframe\">\n",
       "  <thead>\n",
       "    <tr style=\"text-align: right;\">\n",
       "      <th></th>\n",
       "      <th>0</th>\n",
       "      <th>22</th>\n",
       "      <th>30</th>\n",
       "      <th>76</th>\n",
       "      <th>100</th>\n",
       "      <th>114</th>\n",
       "      <th>122</th>\n",
       "      <th>144</th>\n",
       "      <th>145</th>\n",
       "      <th>155</th>\n",
       "      <th>...</th>\n",
       "      <th>12361</th>\n",
       "      <th>12372</th>\n",
       "      <th>12389</th>\n",
       "      <th>12405</th>\n",
       "      <th>12428</th>\n",
       "      <th>12430</th>\n",
       "      <th>12435</th>\n",
       "      <th>12448</th>\n",
       "      <th>12450</th>\n",
       "      <th>12462</th>\n",
       "    </tr>\n",
       "  </thead>\n",
       "  <tbody>\n",
       "    <tr>\n",
       "      <th>0</th>\n",
       "      <td>0.253672</td>\n",
       "      <td>0.459299</td>\n",
       "      <td>0.622072</td>\n",
       "      <td>0.330749</td>\n",
       "      <td>0.220168</td>\n",
       "      <td>0.152069</td>\n",
       "      <td>0.711798</td>\n",
       "      <td>0.227724</td>\n",
       "      <td>0.317993</td>\n",
       "      <td>0.297717</td>\n",
       "      <td>...</td>\n",
       "      <td>0.088041</td>\n",
       "      <td>0.371357</td>\n",
       "      <td>0.117217</td>\n",
       "      <td>0.548113</td>\n",
       "      <td>0.505884</td>\n",
       "      <td>0.436256</td>\n",
       "      <td>0.134071</td>\n",
       "      <td>0.598948</td>\n",
       "      <td>0.582754</td>\n",
       "      <td>0.261476</td>\n",
       "    </tr>\n",
       "    <tr>\n",
       "      <th>1</th>\n",
       "      <td>0.244409</td>\n",
       "      <td>0.453434</td>\n",
       "      <td>0.675667</td>\n",
       "      <td>0.507613</td>\n",
       "      <td>0.285341</td>\n",
       "      <td>0.065093</td>\n",
       "      <td>0.709408</td>\n",
       "      <td>0.228947</td>\n",
       "      <td>0.212468</td>\n",
       "      <td>0.244852</td>\n",
       "      <td>...</td>\n",
       "      <td>0.064587</td>\n",
       "      <td>0.365549</td>\n",
       "      <td>0.124368</td>\n",
       "      <td>0.549061</td>\n",
       "      <td>0.476450</td>\n",
       "      <td>0.382123</td>\n",
       "      <td>0.137016</td>\n",
       "      <td>0.689362</td>\n",
       "      <td>0.579644</td>\n",
       "      <td>0.269432</td>\n",
       "    </tr>\n",
       "    <tr>\n",
       "      <th>2</th>\n",
       "      <td>0.286186</td>\n",
       "      <td>0.421637</td>\n",
       "      <td>0.605018</td>\n",
       "      <td>0.491187</td>\n",
       "      <td>0.214291</td>\n",
       "      <td>0.093175</td>\n",
       "      <td>0.644269</td>\n",
       "      <td>0.243860</td>\n",
       "      <td>0.251389</td>\n",
       "      <td>0.313728</td>\n",
       "      <td>...</td>\n",
       "      <td>0.078794</td>\n",
       "      <td>0.370688</td>\n",
       "      <td>0.196272</td>\n",
       "      <td>0.558756</td>\n",
       "      <td>0.492287</td>\n",
       "      <td>0.428267</td>\n",
       "      <td>0.143821</td>\n",
       "      <td>0.622141</td>\n",
       "      <td>0.635437</td>\n",
       "      <td>0.266179</td>\n",
       "    </tr>\n",
       "    <tr>\n",
       "      <th>3</th>\n",
       "      <td>0.282959</td>\n",
       "      <td>0.497158</td>\n",
       "      <td>0.557888</td>\n",
       "      <td>0.664705</td>\n",
       "      <td>0.190510</td>\n",
       "      <td>0.078452</td>\n",
       "      <td>0.622552</td>\n",
       "      <td>0.233398</td>\n",
       "      <td>0.490127</td>\n",
       "      <td>0.592473</td>\n",
       "      <td>...</td>\n",
       "      <td>0.068959</td>\n",
       "      <td>0.369142</td>\n",
       "      <td>0.794939</td>\n",
       "      <td>0.576169</td>\n",
       "      <td>0.541556</td>\n",
       "      <td>0.445663</td>\n",
       "      <td>0.226476</td>\n",
       "      <td>0.771646</td>\n",
       "      <td>0.865479</td>\n",
       "      <td>0.262912</td>\n",
       "    </tr>\n",
       "    <tr>\n",
       "      <th>4</th>\n",
       "      <td>0.267864</td>\n",
       "      <td>0.380239</td>\n",
       "      <td>0.597617</td>\n",
       "      <td>0.549699</td>\n",
       "      <td>0.195829</td>\n",
       "      <td>0.082064</td>\n",
       "      <td>0.667933</td>\n",
       "      <td>0.275764</td>\n",
       "      <td>0.290163</td>\n",
       "      <td>0.449138</td>\n",
       "      <td>...</td>\n",
       "      <td>0.078967</td>\n",
       "      <td>0.395029</td>\n",
       "      <td>0.872176</td>\n",
       "      <td>0.566799</td>\n",
       "      <td>0.502463</td>\n",
       "      <td>0.469505</td>\n",
       "      <td>0.231569</td>\n",
       "      <td>0.770669</td>\n",
       "      <td>0.839107</td>\n",
       "      <td>0.264374</td>\n",
       "    </tr>\n",
       "    <tr>\n",
       "      <th>...</th>\n",
       "      <td>...</td>\n",
       "      <td>...</td>\n",
       "      <td>...</td>\n",
       "      <td>...</td>\n",
       "      <td>...</td>\n",
       "      <td>...</td>\n",
       "      <td>...</td>\n",
       "      <td>...</td>\n",
       "      <td>...</td>\n",
       "      <td>...</td>\n",
       "      <td>...</td>\n",
       "      <td>...</td>\n",
       "      <td>...</td>\n",
       "      <td>...</td>\n",
       "      <td>...</td>\n",
       "      <td>...</td>\n",
       "      <td>...</td>\n",
       "      <td>...</td>\n",
       "      <td>...</td>\n",
       "      <td>...</td>\n",
       "      <td>...</td>\n",
       "    </tr>\n",
       "    <tr>\n",
       "      <th>8313</th>\n",
       "      <td>0.360116</td>\n",
       "      <td>0.261616</td>\n",
       "      <td>0.259299</td>\n",
       "      <td>0.271547</td>\n",
       "      <td>0.340304</td>\n",
       "      <td>0.115849</td>\n",
       "      <td>0.330836</td>\n",
       "      <td>0.068423</td>\n",
       "      <td>0.454061</td>\n",
       "      <td>0.104370</td>\n",
       "      <td>...</td>\n",
       "      <td>0.166423</td>\n",
       "      <td>0.048296</td>\n",
       "      <td>0.300219</td>\n",
       "      <td>0.238479</td>\n",
       "      <td>0.353355</td>\n",
       "      <td>0.294739</td>\n",
       "      <td>0.409451</td>\n",
       "      <td>0.428109</td>\n",
       "      <td>0.418330</td>\n",
       "      <td>0.059045</td>\n",
       "    </tr>\n",
       "    <tr>\n",
       "      <th>8314</th>\n",
       "      <td>0.362263</td>\n",
       "      <td>0.265066</td>\n",
       "      <td>0.250470</td>\n",
       "      <td>0.262513</td>\n",
       "      <td>0.318100</td>\n",
       "      <td>0.119249</td>\n",
       "      <td>0.340013</td>\n",
       "      <td>0.067898</td>\n",
       "      <td>0.404284</td>\n",
       "      <td>0.107841</td>\n",
       "      <td>...</td>\n",
       "      <td>0.101496</td>\n",
       "      <td>0.049848</td>\n",
       "      <td>0.241673</td>\n",
       "      <td>0.247112</td>\n",
       "      <td>0.359876</td>\n",
       "      <td>0.334548</td>\n",
       "      <td>0.395918</td>\n",
       "      <td>0.412742</td>\n",
       "      <td>0.426024</td>\n",
       "      <td>0.062034</td>\n",
       "    </tr>\n",
       "    <tr>\n",
       "      <th>8315</th>\n",
       "      <td>0.353284</td>\n",
       "      <td>0.249500</td>\n",
       "      <td>0.262219</td>\n",
       "      <td>0.255943</td>\n",
       "      <td>0.337736</td>\n",
       "      <td>0.153545</td>\n",
       "      <td>0.327623</td>\n",
       "      <td>0.067120</td>\n",
       "      <td>0.345439</td>\n",
       "      <td>0.116998</td>\n",
       "      <td>...</td>\n",
       "      <td>0.079332</td>\n",
       "      <td>0.045006</td>\n",
       "      <td>0.302506</td>\n",
       "      <td>0.247651</td>\n",
       "      <td>0.340065</td>\n",
       "      <td>0.320230</td>\n",
       "      <td>0.330966</td>\n",
       "      <td>0.414869</td>\n",
       "      <td>0.421373</td>\n",
       "      <td>0.059858</td>\n",
       "    </tr>\n",
       "    <tr>\n",
       "      <th>8316</th>\n",
       "      <td>0.336732</td>\n",
       "      <td>0.255389</td>\n",
       "      <td>0.221502</td>\n",
       "      <td>0.275571</td>\n",
       "      <td>0.239837</td>\n",
       "      <td>0.103407</td>\n",
       "      <td>0.255347</td>\n",
       "      <td>0.068763</td>\n",
       "      <td>0.220582</td>\n",
       "      <td>0.108897</td>\n",
       "      <td>...</td>\n",
       "      <td>0.039880</td>\n",
       "      <td>0.046350</td>\n",
       "      <td>0.230164</td>\n",
       "      <td>0.243069</td>\n",
       "      <td>0.280412</td>\n",
       "      <td>0.279684</td>\n",
       "      <td>0.102817</td>\n",
       "      <td>0.349251</td>\n",
       "      <td>0.420436</td>\n",
       "      <td>0.058733</td>\n",
       "    </tr>\n",
       "    <tr>\n",
       "      <th>8317</th>\n",
       "      <td>0.001371</td>\n",
       "      <td>0.001040</td>\n",
       "      <td>0.146224</td>\n",
       "      <td>0.001123</td>\n",
       "      <td>0.000974</td>\n",
       "      <td>0.000420</td>\n",
       "      <td>0.001037</td>\n",
       "      <td>0.042766</td>\n",
       "      <td>0.176383</td>\n",
       "      <td>0.000443</td>\n",
       "      <td>...</td>\n",
       "      <td>0.000162</td>\n",
       "      <td>0.000189</td>\n",
       "      <td>0.119199</td>\n",
       "      <td>0.000989</td>\n",
       "      <td>0.001132</td>\n",
       "      <td>0.001137</td>\n",
       "      <td>0.000237</td>\n",
       "      <td>0.001421</td>\n",
       "      <td>0.069649</td>\n",
       "      <td>0.000239</td>\n",
       "    </tr>\n",
       "  </tbody>\n",
       "</table>\n",
       "<p>8318 rows × 1154 columns</p>\n",
       "</div>"
      ],
      "text/plain": [
       "         0         22        30        76        100       114       122    \\\n",
       "0     0.253672  0.459299  0.622072  0.330749  0.220168  0.152069  0.711798   \n",
       "1     0.244409  0.453434  0.675667  0.507613  0.285341  0.065093  0.709408   \n",
       "2     0.286186  0.421637  0.605018  0.491187  0.214291  0.093175  0.644269   \n",
       "3     0.282959  0.497158  0.557888  0.664705  0.190510  0.078452  0.622552   \n",
       "4     0.267864  0.380239  0.597617  0.549699  0.195829  0.082064  0.667933   \n",
       "...        ...       ...       ...       ...       ...       ...       ...   \n",
       "8313  0.360116  0.261616  0.259299  0.271547  0.340304  0.115849  0.330836   \n",
       "8314  0.362263  0.265066  0.250470  0.262513  0.318100  0.119249  0.340013   \n",
       "8315  0.353284  0.249500  0.262219  0.255943  0.337736  0.153545  0.327623   \n",
       "8316  0.336732  0.255389  0.221502  0.275571  0.239837  0.103407  0.255347   \n",
       "8317  0.001371  0.001040  0.146224  0.001123  0.000974  0.000420  0.001037   \n",
       "\n",
       "         144       145       155    ...     12361     12372     12389  \\\n",
       "0     0.227724  0.317993  0.297717  ...  0.088041  0.371357  0.117217   \n",
       "1     0.228947  0.212468  0.244852  ...  0.064587  0.365549  0.124368   \n",
       "2     0.243860  0.251389  0.313728  ...  0.078794  0.370688  0.196272   \n",
       "3     0.233398  0.490127  0.592473  ...  0.068959  0.369142  0.794939   \n",
       "4     0.275764  0.290163  0.449138  ...  0.078967  0.395029  0.872176   \n",
       "...        ...       ...       ...  ...       ...       ...       ...   \n",
       "8313  0.068423  0.454061  0.104370  ...  0.166423  0.048296  0.300219   \n",
       "8314  0.067898  0.404284  0.107841  ...  0.101496  0.049848  0.241673   \n",
       "8315  0.067120  0.345439  0.116998  ...  0.079332  0.045006  0.302506   \n",
       "8316  0.068763  0.220582  0.108897  ...  0.039880  0.046350  0.230164   \n",
       "8317  0.042766  0.176383  0.000443  ...  0.000162  0.000189  0.119199   \n",
       "\n",
       "         12405     12428     12430     12435     12448     12450     12462  \n",
       "0     0.548113  0.505884  0.436256  0.134071  0.598948  0.582754  0.261476  \n",
       "1     0.549061  0.476450  0.382123  0.137016  0.689362  0.579644  0.269432  \n",
       "2     0.558756  0.492287  0.428267  0.143821  0.622141  0.635437  0.266179  \n",
       "3     0.576169  0.541556  0.445663  0.226476  0.771646  0.865479  0.262912  \n",
       "4     0.566799  0.502463  0.469505  0.231569  0.770669  0.839107  0.264374  \n",
       "...        ...       ...       ...       ...       ...       ...       ...  \n",
       "8313  0.238479  0.353355  0.294739  0.409451  0.428109  0.418330  0.059045  \n",
       "8314  0.247112  0.359876  0.334548  0.395918  0.412742  0.426024  0.062034  \n",
       "8315  0.247651  0.340065  0.320230  0.330966  0.414869  0.421373  0.059858  \n",
       "8316  0.243069  0.280412  0.279684  0.102817  0.349251  0.420436  0.058733  \n",
       "8317  0.000989  0.001132  0.001137  0.000237  0.001421  0.069649  0.000239  \n",
       "\n",
       "[8318 rows x 1154 columns]"
      ]
     },
     "execution_count": 7,
     "metadata": {},
     "output_type": "execute_result"
    }
   ],
   "source": [
    "# df_selected_machines has the cpu utilisation of all the selected machines\n",
    "\n",
    "df_selected_machines = df_cpu[selected_machines_series.tolist()]\n",
    "df_selected_machines"
   ]
  },
  {
   "cell_type": "markdown",
   "metadata": {},
   "source": [
    "# All Frameworks"
   ]
  },
  {
   "cell_type": "markdown",
   "metadata": {},
   "source": [
    "## Correlation Predictions\n",
    "\n",
    "The proposed framework"
   ]
  },
  {
   "cell_type": "code",
   "execution_count": 8,
   "metadata": {},
   "outputs": [],
   "source": [
    "def cluster_map(correlation_matrix, number_of_cluster):\n",
    "    # takes in correlation matrix and creates a map of cluster index to list of machine index in the cluster\n",
    "    \n",
    "    machine_index = correlation_matrix.columns\n",
    "    number_of_machine = len(machine_index)\n",
    "    \n",
    "    # computing the clusters\n",
    "    cluster = agc(n_clusters=number_of_cluster, affinity='euclidean', linkage='ward')\n",
    "    clustering_output = cluster.fit_predict(correlation_matrix)\n",
    "    \n",
    "    # initialising a map for clusters\n",
    "    cluster_map = {}\n",
    "    for x in range(0,number_of_cluster):\n",
    "        cluster_map[x] = []\n",
    "\n",
    "    # get a map for each cluster\n",
    "    # key is cluster index; values is list of machines in that cluster\n",
    "    for x in range(0,number_of_machine):\n",
    "        cluster_map[clustering_output[x]].append(machine_index[x])\n",
    "        \n",
    "    return cluster_map\n",
    "\n",
    "def get_best_machine(correlation_matrix):\n",
    "    # takes in the correlation_matrix\n",
    "    # returns the index of the machine which minimises the correlation between all machines\n",
    "    \n",
    "    # Take the sum of the squared correlation of all machines\n",
    "    # Note that taking the sum penalizes small values and rewards large values\n",
    "    squared_matrix = (correlation_matrix**2).sum()\n",
    "    \n",
    "    return squared_matrix.idxmax()\n",
    "\n",
    "def get_regression_parameters(cpu_data, best_machine):\n",
    "    # get the linear regression parameters for each machine wrt the best machine\n",
    "    # returns a sklearn.linear_model._base.LinearRegression (model)\n",
    "    \n",
    "    model_list = []\n",
    "    for cpu_index in cpu_data.columns:\n",
    "        X = np.array(cpu_data[best_machine]).reshape(-1,1)\n",
    "        model = LinearRegression().fit(X, cpu_data[cpu_index])\n",
    "        model_list.append(model)\n",
    "        \n",
    "    return model_list   \n",
    "\n",
    "def arima_predictions(timeseries, input_arima_order = (3,0,0)):\n",
    "    # takes in a timeseries\n",
    "    # outputs a single prediction in the next timestep\n",
    "    \n",
    "    timeseries = timeseries.values\n",
    "    model = ARIMA(timeseries, order = input_arima_order)\n",
    "    model_fit = model.fit(disp=0)\n",
    "    prediction = model_fit.forecast()[0][0]\n",
    "    \n",
    "    return prediction\n",
    "\n",
    "def get_cluster_predictions(cpu_data, curr_time_segment, cluster_corr_matrix, input_arima_order):\n",
    "    # takes in information about a cluster \n",
    "    # cpu_data is the full length of values of all the timeseries IN THE CLUSTER\n",
    "    # curr_time_segment is the windowed version of cpu_data\n",
    "    \n",
    "    # makes predictions for all machines in cluster at next single timestep\n",
    "    # returns a map of machine to predictions\n",
    "    \n",
    "    # get best machine\n",
    "    best_machine = get_best_machine(cluster_corr_matrix)\n",
    "    \n",
    "    # get_regression_parameters wrt best machine for every machine\n",
    "    linreg_model_list = get_regression_parameters(curr_time_segment, best_machine)\n",
    "    \n",
    "    # make predictions on best machine\n",
    "    best_machine_prediction = arima_predictions(cpu_data[best_machine], input_arima_order = input_arima_order)\n",
    "    \n",
    "    # scale all the other machines to fit the best machine\n",
    "    cluster_prediction = dict()\n",
    "    for index, machine_index in enumerate(cpu_data.columns):\n",
    "        current_prediction = linreg_model_list[index].predict(np.array(best_machine_prediction).reshape(-1,1))[0]\n",
    "        \n",
    "        # if the prediction is out of bounds, use arima to predict instead\n",
    "        if(current_prediction > 1 or current_prediction < 0):\n",
    "            current_prediction = arima_predictions(cpu_data[machine_index], input_arima_order = input_arima_order)\n",
    "            \n",
    "        # print(\"prediction: \", linreg_model_list[index].predict(np.array(best_machine_prediction).reshape(-1,1))[0])\n",
    "        cluster_prediction[machine_index] = current_prediction\n",
    "        \n",
    "    return cluster_prediction    \n",
    "\n",
    "def corr_predictions(cpu_data, window = 6, number_of_cluster = 50, start_time = 288, end_time = None, rolling_error_window = 0):\n",
    "\n",
    "    ''' high level function for making correlation based single-step predictions\n",
    "\n",
    "        param:  cpu_data:   df with CPU index as columns and time-step as rows, must contain time-step for at least [start_time-3:end_time-2]\n",
    "                            ARIMA models are trained with all time-steps before the \"prediction time-step\" i.e. prediction x[n] is made using data from x[:n]\n",
    "                            Predictions are made for all machines index included in cpu_data, to exclude predicting certain machine index, drop from cpu_data\n",
    "        param:  window:     window size of rolling correlation function\n",
    "        param:  number_of_cluster : number of clusters used for clustering per time-step\n",
    "        param:  start_time, end_time :  prediction is made for from start_time to (end_time - 1) inclusive\n",
    "                                     :  keep end_time = None to make predictions for the entire length of cpu_data i.e. predictions made from x[start_time:]\n",
    "        param: rolling_error_window  :  predictions are offset using a rolling error window of size (defined here) using past errors   \n",
    "\n",
    "    returns : df matrix of prediction with columns as machine and rows as time index\n",
    "    '''\n",
    "\n",
    "    rolling_error_multiplier = 0.25\n",
    "    arima_order = (3,0,0)\n",
    "    machine_index = cpu_data.columns\n",
    "    map_min_corr = {}\n",
    "    number_of_machine = len(cpu_data.columns)\n",
    "    all_predictions = pd.DataFrame(columns = cpu_data.columns)\n",
    "    \n",
    "    # df_rolling_error has the prediction error for the last 5 time-step for each machine\n",
    "    df_rolling_error = pd.DataFrame(columns = cpu_data.columns)\n",
    "    \n",
    "    if end_time == None:\n",
    "        end_time = len(cpu_data.index) - 1\n",
    "    \n",
    "    with progressbar.ProgressBar(max_value = end_time - start_time) as bar:\n",
    "        for current_time in range(start_time, end_time):\n",
    "    \n",
    "            bar.update(current_time-start_time)\n",
    "\n",
    "            # computing the correlation matrix at current time index\n",
    "            curr_time_segment = cpu_data.iloc[current_time-window:current_time]\n",
    "            curr_all_time = cpu_data.iloc[:current_time]\n",
    "            curr_corr_matrix = curr_time_segment.corr().abs()\n",
    "            \n",
    "\n",
    "            # perform clustering at current time index\n",
    "            cluster = cluster_map(curr_corr_matrix, number_of_cluster = number_of_cluster) \n",
    "\n",
    "            # initialise dict for machine to prediction in current timestep\n",
    "            curr_all_machine_pred = dict()\n",
    "\n",
    "            for ls_machine_in_cluster in cluster.values():\n",
    "                # make predictions for all machine in each cluster\n",
    "                \n",
    "                \n",
    "                cluster_predictions = get_cluster_predictions(cpu_data = curr_all_time[ls_machine_in_cluster],\n",
    "                                                              curr_time_segment = curr_time_segment[ls_machine_in_cluster],\n",
    "                                                              cluster_corr_matrix = curr_corr_matrix[ls_machine_in_cluster].loc[ls_machine_in_cluster],\n",
    "                                                              input_arima_order = arima_order)\n",
    "                \n",
    "                # curr_all_machine_pred is a dict with key = machine, value = current timestep prediction\n",
    "                curr_all_machine_pred = {**curr_all_machine_pred, **cluster_predictions}\n",
    "\n",
    "            if rolling_error_window > 0:\n",
    "        \n",
    "                if len(df_rolling_error) == 0:\n",
    "                    # 1st prediction does not have a rolling error\n",
    "                    df_current_predictions = pd.DataFrame(curr_all_machine_pred, index = [current_time])\n",
    "                else:\n",
    "                    \n",
    "                    # get final predictions by adding in the rolling error\n",
    "                    df_current_predictions = pd.DataFrame(curr_all_machine_pred, index = [current_time]) + rolling_error_multiplier * df_rolling_error.mean()\n",
    "\n",
    "                # update the rolling error df for next time-step\n",
    "                df_rolling_error = df_rolling_error.append(cpu_data.iloc[current_time] - df_current_predictions)\n",
    "\n",
    "                # remove nunwanted history from the rolling error df\n",
    "                if len(df_rolling_error) > rolling_error_window:\n",
    "                    df_rolling_error = df_rolling_error.drop(df_rolling_error.index[0])\n",
    "            \n",
    "            else:\n",
    "                df_current_predictions = pd.DataFrame(curr_all_machine_pred, index = [current_time])\n",
    "                \n",
    "            all_predictions = all_predictions.append(df_current_predictions, sort = True)\n",
    "        \n",
    "    return all_predictions"
   ]
  },
  {
   "cell_type": "markdown",
   "metadata": {},
   "source": [
    "# Brute Force Framework\n",
    "Making one model for each time-series"
   ]
  },
  {
   "cell_type": "code",
   "execution_count": 9,
   "metadata": {},
   "outputs": [],
   "source": [
    "def one_timeseries_one_model(cpu_data, start_time, end_time):\n",
    "\n",
    "    ''' using one arima model to make predictions for each time-series\n",
    "\n",
    "        param:  cpu_data:   df with CPU index as columns and time-step as rows, must contain time-step for at least [start_time-3:end_time-2]\n",
    "                            ARIMA models are trained with all time-steps before the \"prediction time-step\" i.e. prediction x[n] is made using data from x[:n]\n",
    "                            Predictions are made for all machines index included in cpu_data, to exclude predicting certain machine index, drop from cpu_data\n",
    "        param:  start_time, end_time :  prediction is made for from start_time to (end_time - 1) inclusive\n",
    "                                     :  keep end_time = None to make predictions for the entire length of cpu_data i.e. predictions made from x[start_time:]\n",
    "\n",
    "    returns : df matrix of prediction with columns as machine and rows as time index\n",
    "    '''\n",
    "\n",
    "    input_order = (3,0,0)\n",
    "    \n",
    "    # prediction map is the dict for all predictions where the key is the machine index and the value is a list of predictions\n",
    "    predictions_map = dict()\n",
    "    with progressbar.ProgressBar(max_value = len(cpu_data.columns)) as bar:     \n",
    "        \n",
    "        for number_of_machines, cpu_index in enumerate(cpu_data):\n",
    "            bar.update(number_of_machines)\n",
    "            \n",
    "            temp_predictions = list()\n",
    "            for current_time in range (start_time, end_time):\n",
    "                \n",
    "                model = ARIMA(cpu_data[cpu_index].iloc[:current_time], order = input_order)\n",
    "                model_fit = model.fit(disp=0)\n",
    "                output = model_fit.forecast()\n",
    "                yhat = output[0]\n",
    "                temp_predictions.append(yhat[0])\n",
    "                \n",
    "            predictions_map[cpu_index] = temp_predictions\n",
    "            \n",
    "    return pd.DataFrame(predictions_map, columns = cpu_data.columns, index = np.arange(start_time, end_time))  "
   ]
  },
  {
   "cell_type": "markdown",
   "metadata": {},
   "source": [
    "# Naive Framework\n",
    "Using lagged version of the time-series as predictions"
   ]
  },
  {
   "cell_type": "code",
   "execution_count": 10,
   "metadata": {},
   "outputs": [],
   "source": [
    "def lagged_timeseries(cpu_data, start_time, end_time):\n",
    "    ''' \n",
    "    Naive method: Taking the observation from the last time-step as the prediction for the next time-step\n",
    "    Implementation is just reindexing of the required segment of time-series\n",
    "    '''\n",
    "    \n",
    "    rename_mapping = dict()\n",
    "    for x in range(start_time, end_time):\n",
    "        rename_mapping[x-1] = x\n",
    "    \n",
    "    return cpu_data.iloc[start_time-1:end_time-1].rename(index = rename_mapping)"
   ]
  },
  {
   "cell_type": "markdown",
   "metadata": {},
   "source": [
    "# Using MSE clustering and MSE offset\n",
    "The framework proposed by Tuor"
   ]
  },
  {
   "cell_type": "code",
   "execution_count": 132,
   "metadata": {},
   "outputs": [],
   "source": [
    "def kmeans_cluster_map(cpu_t, number_of_cluster = 50):\n",
    "    # takes in cpu at a single time index and creates a map of cluster index to list of machine index in the cluster\n",
    "    # cpu_t is a pd.series with values of cpu at time t \n",
    "    \n",
    "    # get machine index\n",
    "    machine_index = cpu_t.columns\n",
    "    number_of_machine = len(machine_index)\n",
    "    \n",
    "    # converting cpu_t to appropriate data structure\n",
    "    cpu_t = cpu_t.mean().values.reshape(-1,1)\n",
    "    \n",
    "    # computing the clusters\n",
    "    kmeans = KMeans(n_clusters=number_of_cluster, random_state = 0)\n",
    "    clustering_output = kmeans.fit(cpu_t).labels_\n",
    "    \n",
    "    # initialising a map for clusters\n",
    "    cluster_map = {}\n",
    "    for x in range(0,number_of_cluster):\n",
    "        cluster_map[x] = []\n",
    "\n",
    "    # get a map for each cluster\n",
    "    # key is cluster index; values is list of machines in that cluster\n",
    "    for x in range(0,number_of_machine):\n",
    "        cluster_map[clustering_output[x]].append(machine_index[x])\n",
    "        \n",
    "    return cluster_map\n",
    "\n",
    "def arima_predictions(timeseries, input_arima_order = (3,0,0)):\n",
    "    # takes in a timeseries\n",
    "    # outputs a single prediction in the next timestep\n",
    "    \n",
    "    timeseries = timeseries.values\n",
    "    model = ARIMA(timeseries, order = input_arima_order)\n",
    "    model_fit = model.fit(disp=0)\n",
    "    prediction = model_fit.forecast()[0][0]\n",
    "    \n",
    "    return prediction\n",
    "\n",
    "def mse_cluster_prediction(cpu_data, input_arima_order, past_error):\n",
    "    # generate predictions for all machines in cluster at next single timestep\n",
    "    # returns a map of machine to predictions\n",
    "    \n",
    "    # get generalisation model (analogous to best_machine in correlation_prediction)\n",
    "    general_model = cpu_data.mean(axis = 1)\n",
    "    \n",
    "    # make predictions on best machine\n",
    "    general_model_prediction = arima_predictions(general_model, input_arima_order = input_arima_order)\n",
    "    \n",
    "    # get the rolling_error\n",
    "    rolling_error = past_error.mean()\n",
    "    \n",
    "    # scale general_model to fit all the other machines\n",
    "    cluster_prediction = dict()\n",
    "    for index, machine_index in enumerate(cpu_data.columns):\n",
    "        cluster_prediction[machine_index] = general_model_prediction + rolling_error[machine_index]\n",
    "        \n",
    "    return cluster_prediction, general_model_prediction\n",
    "\n",
    "def mse_predictions(cpu_data, number_of_cluster = 50, start_time = 288, end_time = None, past_error_range = 1, rolling_cluster_window = 3):\n",
    "\n",
    "    ''' high level function for making predictons using the tuor framework\n",
    "\n",
    "        param:  cpu_data:   df with CPU index as columns and time-step as rows, must contain time-step for at least [start_time-3:end_time-2]\n",
    "                            ARIMA models are trained with all time-steps before the \"prediction time-step\" i.e. prediction x[n] is made using data from x[:n]\n",
    "                            Predictions are made for all machines index included in cpu_data, to exclude predicting certain machine index, drop from cpu_data\n",
    "        param:  rolling_cluster_window:     number of past values to be considered for clustering at each time-step\n",
    "        param:  number_of_cluster : number of clusters used for clustering per time-step\n",
    "        param:  start_time, end_time :  prediction is made for from start_time to (end_time - 1) inclusive\n",
    "                                     :  keep end_time = None to make predictions for the entire length of cpu_data i.e. predictions made from x[start_time:]\n",
    "        param: past_error_range  :  predictions are offset using a rolling error window of size (defined here) using past errors   \n",
    "\n",
    "    returns : df matrix of prediction with columns as machine and rows as time index\n",
    "    '''\n",
    "\n",
    "    arima_order = (3,0,0)\n",
    "    machine_index = cpu_data.columns\n",
    "    number_of_machine = len(cpu_data.columns)\n",
    "    all_predictions = pd.DataFrame(columns = cpu_data.columns)\n",
    "    df_past_error = pd.DataFrame(0, columns = cpu_data.columns, index = np.arange(0,past_error_range))\n",
    "    \n",
    "    if end_time == None:\n",
    "        end_time = len(cpu_data.index)\n",
    "    \n",
    "    with progressbar.ProgressBar(max_value = end_time-start_time) as bar:\n",
    "        for current_time in range(start_time, end_time):\n",
    "    \n",
    "            bar.update(current_time-start_time)\n",
    "\n",
    "            # perform clustering at (current time - 1) index\n",
    "            # note clustering is only done using last \"rolling_cluster_window\" points\n",
    "            cluster = kmeans_cluster_map(cpu_data.iloc[current_time - rolling_cluster_window: current_time], \n",
    "                                         number_of_cluster = number_of_cluster)\n",
    "\n",
    "            # initialise dict for machine to prediction in current timestep\n",
    "            curr_all_machine_pred = {}\n",
    "            curr_general_pred = {}\n",
    "\n",
    "            for ls_machine_in_cluster in cluster.values():\n",
    "                \n",
    "                # make predictions for all machine in each cluster\n",
    "                cluster_predictions, general_prediction = mse_cluster_prediction(cpu_data = cpu_data[ls_machine_in_cluster], \n",
    "                                                             input_arima_order = (3,0,0), \n",
    "                                                             past_error = df_past_error[ls_machine_in_cluster])\n",
    "                \n",
    "                # curr_all_machine_pred is a dict with key = machine, value = current timestep prediction\n",
    "                curr_all_machine_pred = {**curr_all_machine_pred, **cluster_predictions}\n",
    "                \n",
    "                for machine_index in ls_machine_in_cluster:\n",
    "                    curr_general_pred[machine_index] = general_prediction\n",
    "\n",
    "            # update df_past_error with most updated time index\n",
    "            # start by getting the current error\n",
    "            curr_all_machine_error = cpu_data.iloc[current_time] - pd.DataFrame(curr_general_pred, index = [current_time])\n",
    "            \n",
    "            df_past_error = df_past_error.append(curr_all_machine_error, \n",
    "                                                 ignore_index = True)\n",
    "            df_past_error = df_past_error.drop(0).reset_index().drop(\"index\", axis = 1)\n",
    "            \n",
    "            # append the current predicition to all the predictions\n",
    "            current_df = pd.DataFrame(curr_all_machine_pred, index = [current_time])\n",
    "            \n",
    "            all_predictions = all_predictions.append(current_df, sort = True)\n",
    "        \n",
    "    return all_predictions"
   ]
  },
  {
   "cell_type": "markdown",
   "metadata": {},
   "source": [
    "# All Validation"
   ]
  },
  {
   "cell_type": "code",
   "execution_count": 61,
   "metadata": {},
   "outputs": [],
   "source": [
    "# start_day gives the starting day out of 29 days\n",
    "# test_length gives the number of predections to make\n",
    "\n",
    "start_day_ls = [5,10,15,20]\n",
    "test_length = 100\n",
    "\n",
    "number_of_predictions = test_length * len(start_day_ls) * len(df_selected_machines.columns)"
   ]
  },
  {
   "cell_type": "markdown",
   "metadata": {},
   "source": [
    "# Brute Force Method"
   ]
  },
  {
   "cell_type": "code",
   "execution_count": 62,
   "metadata": {},
   "outputs": [
    {
     "name": "stderr",
     "output_type": "stream",
     "text": [
      "100% (1154 of 1154) |####################| Elapsed Time: 2:53:36 Time:  2:53:36\n",
      "100% (1154 of 1154) |####################| Elapsed Time: 4:22:26 Time:  4:22:26\n",
      "100% (1154 of 1154) |####################| Elapsed Time: 5:40:17 Time:  5:40:17\n",
      "100% (1154 of 1154) |####################| Elapsed Time: 6:42:44 Time:  6:42:44\n"
     ]
    }
   ],
   "source": [
    "# running tests for different time segments\n",
    "brute_force_ls = list()\n",
    "\n",
    "# getting start time of execution\n",
    "brute_force_start_time = time.time()\n",
    "    \n",
    "for start_day in start_day_ls:\n",
    "    # using different start times\n",
    "    temp_brute_force = one_timeseries_one_model(df_selected_machines, \n",
    "                                                288*start_day, \n",
    "                                                288*start_day+test_length)\n",
    "    \n",
    "    brute_force_ls.append(temp_brute_force)\n",
    "\n",
    "# getting end time of execution\n",
    "brute_force_end_time = time.time()"
   ]
  },
  {
   "cell_type": "code",
   "execution_count": 63,
   "metadata": {},
   "outputs": [],
   "source": [
    "# calculate top\n",
    "brute_force_top = (brute_force_end_time - brute_force_start_time)/number_of_predictions\n",
    "\n",
    "# getting mse for brute_force\n",
    "brute_force_mse_ls = []\n",
    "\n",
    "for counter, brute_force_predictions in enumerate(brute_force_ls):\n",
    "    actual_matrix = df_selected_machines.iloc[288*start_day_ls[counter]:288*start_day_ls[counter]+test_length]\n",
    "    mse_ls = (brute_force_predictions - actual_matrix)**2\n",
    "    \n",
    "    brute_force_mse_ls = brute_force_mse_ls + mse_ls.stack().tolist()\n",
    "\n",
    "brute_force_mse = np.mean(brute_force_mse_ls)\n",
    "brute_force_std = np.std(brute_force_mse_ls)"
   ]
  },
  {
   "cell_type": "code",
   "execution_count": 117,
   "metadata": {},
   "outputs": [],
   "source": [
    "for counter, predictions in enumerate(brute_force_ls):\n",
    "    predictions.to_csv(\"derived_dataset//brute_force_predictions_\" + str(counter) + \".csv\", header = None)"
   ]
  },
  {
   "cell_type": "code",
   "execution_count": 64,
   "metadata": {},
   "outputs": [
    {
     "data": {
      "text/plain": [
       "0.15326327534079345"
      ]
     },
     "execution_count": 64,
     "metadata": {},
     "output_type": "execute_result"
    }
   ],
   "source": [
    "brute_force_top"
   ]
  },
  {
   "cell_type": "code",
   "execution_count": 65,
   "metadata": {},
   "outputs": [
    {
     "data": {
      "text/plain": [
       "0.0008757054185510518"
      ]
     },
     "execution_count": 65,
     "metadata": {},
     "output_type": "execute_result"
    }
   ],
   "source": [
    "brute_force_mse"
   ]
  },
  {
   "cell_type": "code",
   "execution_count": 66,
   "metadata": {},
   "outputs": [
    {
     "data": {
      "text/plain": [
       "0.003024364002656771"
      ]
     },
     "execution_count": 66,
     "metadata": {},
     "output_type": "execute_result"
    }
   ],
   "source": [
    "brute_force_std"
   ]
  },
  {
   "cell_type": "markdown",
   "metadata": {},
   "source": [
    "# Correlation Prediction with Rolling Error"
   ]
  },
  {
   "cell_type": "code",
   "execution_count": 79,
   "metadata": {},
   "outputs": [
    {
     "name": "stderr",
     "output_type": "stream",
     "text": [
      "100% (100 of 100) |######################| Elapsed Time: 0:13:01 Time:  0:13:01\n",
      "100% (100 of 100) |######################| Elapsed Time: 0:17:17 Time:  0:17:17\n",
      "100% (100 of 100) |######################| Elapsed Time: 0:21:24 Time:  0:21:24\n",
      "100% (100 of 100) |######################| Elapsed Time: 0:23:14 Time:  0:23:14\n"
     ]
    }
   ],
   "source": [
    "# running tests for different time segments\n",
    "corr_rolling_error_ls = list()\n",
    "\n",
    "# getting start time of execution\n",
    "corr_rolling_error_start_time = time.time()\n",
    "    \n",
    "for start_day in start_day_ls:\n",
    "    # using different start times\n",
    "    temp_corr_rolling_error = corr_predictions(df_selected_machines, \n",
    "                                                window = 6, \n",
    "                                                number_of_cluster = 50, \n",
    "                                                start_time = 288*start_day, \n",
    "                                                end_time = 288*start_day+test_length,\n",
    "                                                rolling_error_window = 5)\n",
    "    \n",
    "    corr_rolling_error_ls.append(temp_corr_rolling_error)\n",
    "\n",
    "# getting end time of execution\n",
    "corr_rolling_error_end_time = time.time()"
   ]
  },
  {
   "cell_type": "code",
   "execution_count": 80,
   "metadata": {},
   "outputs": [],
   "source": [
    "# calculate top\n",
    "corr_rolling_error_top = (corr_rolling_error_end_time - corr_rolling_error_start_time)/number_of_predictions\n",
    "\n",
    "# getting mse for corr_rolling_error\n",
    "corr_rolling_error_mse_ls = []\n",
    "\n",
    "for counter, corr_rolling_error_predictions in enumerate(corr_rolling_error_ls):\n",
    "    actual_matrix = df_selected_machines.iloc[288*start_day_ls[counter]:288*start_day_ls[counter]+test_length]\n",
    "    mse_ls = (corr_rolling_error_predictions - actual_matrix)**2\n",
    "    \n",
    "    corr_rolling_error_mse_ls = corr_rolling_error_mse_ls + mse_ls.stack().tolist()\n",
    "\n",
    "corr_rolling_error_mse = np.mean(corr_rolling_error_mse_ls)\n",
    "corr_rolling_error_std = np.std(corr_rolling_error_mse_ls)"
   ]
  },
  {
   "cell_type": "code",
   "execution_count": 118,
   "metadata": {},
   "outputs": [],
   "source": [
    "for counter, predictions in enumerate(corr_rolling_error_ls):\n",
    "    predictions.to_csv(\"derived_dataset//corr_rolling_error_predictions_\" + str(counter) + \".csv\", header = None)"
   ]
  },
  {
   "cell_type": "code",
   "execution_count": 87,
   "metadata": {},
   "outputs": [
    {
     "data": {
      "text/plain": [
       "0.00974734941894508"
      ]
     },
     "execution_count": 87,
     "metadata": {},
     "output_type": "execute_result"
    }
   ],
   "source": [
    "corr_rolling_error_top"
   ]
  },
  {
   "cell_type": "code",
   "execution_count": 88,
   "metadata": {},
   "outputs": [
    {
     "data": {
      "text/plain": [
       "0.002032627550673962"
      ]
     },
     "execution_count": 88,
     "metadata": {},
     "output_type": "execute_result"
    }
   ],
   "source": [
    "corr_rolling_error_mse"
   ]
  },
  {
   "cell_type": "code",
   "execution_count": 89,
   "metadata": {},
   "outputs": [
    {
     "data": {
      "text/plain": [
       "0.016026144623616824"
      ]
     },
     "execution_count": 89,
     "metadata": {},
     "output_type": "execute_result"
    }
   ],
   "source": [
    "corr_rolling_error_std"
   ]
  },
  {
   "cell_type": "markdown",
   "metadata": {},
   "source": [
    "# Correlation Prediction without Rolling Error"
   ]
  },
  {
   "cell_type": "code",
   "execution_count": 72,
   "metadata": {},
   "outputs": [
    {
     "name": "stderr",
     "output_type": "stream",
     "text": [
      "100% (100 of 100) |######################| Elapsed Time: 0:13:05 Time:  0:13:05\n",
      "100% (100 of 100) |######################| Elapsed Time: 0:17:17 Time:  0:17:17\n",
      "100% (100 of 100) |######################| Elapsed Time: 0:21:24 Time:  0:21:24\n",
      "100% (100 of 100) |######################| Elapsed Time: 0:22:57 Time:  0:22:57\n"
     ]
    }
   ],
   "source": [
    "# running tests for different time segments\n",
    "corr_no_rolling_error_ls = list()\n",
    "\n",
    "# getting start time of execution\n",
    "corr_no_rolling_error_start_time = time.time()\n",
    "    \n",
    "for start_day in start_day_ls:\n",
    "    # using different start times\n",
    "    temp_corr_no_rolling_error = corr_predictions(df_selected_machines, \n",
    "                                                window = 6, \n",
    "                                                number_of_cluster = 50, \n",
    "                                                start_time = 288*start_day, \n",
    "                                                end_time = 288*start_day+test_length,\n",
    "                                                rolling_error_window = 5)\n",
    "    \n",
    "    corr_no_rolling_error_ls.append(temp_corr_no_rolling_error)\n",
    "\n",
    "# getting end time of execution\n",
    "corr_no_rolling_error_end_time = time.time()"
   ]
  },
  {
   "cell_type": "code",
   "execution_count": 73,
   "metadata": {},
   "outputs": [],
   "source": [
    "# calculate top\n",
    "corr_no_rolling_error_top = (corr_no_rolling_error_end_time - corr_no_rolling_error_start_time)/number_of_predictions\n",
    "\n",
    "# getting mse for corr_no_rolling_error\n",
    "corr_no_rolling_error_mse_ls = []\n",
    "\n",
    "for counter, corr_no_rolling_error_predictions in enumerate(corr_no_rolling_error_ls):\n",
    "    actual_matrix = df_selected_machines.iloc[288*start_day_ls[counter]:288*start_day_ls[counter]+test_length]\n",
    "    mse_ls = (corr_no_rolling_error_predictions - actual_matrix)**2\n",
    "    \n",
    "    corr_no_rolling_error_mse_ls = corr_no_rolling_error_mse_ls + mse_ls.stack().tolist()\n",
    "\n",
    "corr_no_rolling_error_mse = np.mean(corr_no_rolling_error_mse_ls)\n",
    "corr_no_rolling_error_std = np.std(corr_no_rolling_error_mse_ls)"
   ]
  },
  {
   "cell_type": "code",
   "execution_count": 119,
   "metadata": {},
   "outputs": [],
   "source": [
    "for counter, predictions in enumerate(corr_no_rolling_error_ls):\n",
    "    predictions.to_csv(\"derived_dataset//corr_no_rolling_error_predictions_\" + str(counter) + \".csv\", header = None)"
   ]
  },
  {
   "cell_type": "code",
   "execution_count": 74,
   "metadata": {},
   "outputs": [
    {
     "data": {
      "text/plain": [
       "0.009716557771019135"
      ]
     },
     "execution_count": 74,
     "metadata": {},
     "output_type": "execute_result"
    }
   ],
   "source": [
    "corr_no_rolling_error_top"
   ]
  },
  {
   "cell_type": "code",
   "execution_count": 75,
   "metadata": {},
   "outputs": [
    {
     "data": {
      "text/plain": [
       "0.002032627550673962"
      ]
     },
     "execution_count": 75,
     "metadata": {},
     "output_type": "execute_result"
    }
   ],
   "source": [
    "corr_no_rolling_error_mse"
   ]
  },
  {
   "cell_type": "code",
   "execution_count": 76,
   "metadata": {},
   "outputs": [
    {
     "data": {
      "text/plain": [
       "0.016026144623616824"
      ]
     },
     "execution_count": 76,
     "metadata": {},
     "output_type": "execute_result"
    }
   ],
   "source": [
    "corr_no_rolling_error_std"
   ]
  },
  {
   "cell_type": "markdown",
   "metadata": {},
   "source": [
    "# Naive Method"
   ]
  },
  {
   "cell_type": "code",
   "execution_count": 67,
   "metadata": {},
   "outputs": [],
   "source": [
    "# running tests for different time segments\n",
    "naive_ls = list()\n",
    "\n",
    "# getting start time of execution\n",
    "naive_start_time = time.time()\n",
    "    \n",
    "for start_day in start_day_ls:\n",
    "    # using different start times\n",
    "    temp_naive = lagged_timeseries(df_selected_machines, \n",
    "                                   288*start_day,\n",
    "                                   288*start_day+test_length)\n",
    "    \n",
    "    naive_ls.append(temp_naive)\n",
    "\n",
    "# getting end time of execution\n",
    "naive_end_time = time.time()"
   ]
  },
  {
   "cell_type": "code",
   "execution_count": 68,
   "metadata": {},
   "outputs": [],
   "source": [
    "# calculate top\n",
    "naive_top = (naive_end_time - naive_start_time)/number_of_predictions\n",
    "\n",
    "# getting mse for naive\n",
    "naive_mse_ls = []\n",
    "\n",
    "for counter, naive_predictions in enumerate(naive_ls):\n",
    "    actual_matrix = df_selected_machines.iloc[288*start_day_ls[counter]:288*start_day_ls[counter]+test_length]\n",
    "    mse_ls = (naive_predictions - actual_matrix)**2\n",
    "    \n",
    "    naive_mse_ls = naive_mse_ls + mse_ls.stack().tolist()\n",
    "\n",
    "naive_mse = np.mean(naive_mse_ls)\n",
    "naive_std = np.std(naive_mse_ls)"
   ]
  },
  {
   "cell_type": "code",
   "execution_count": 120,
   "metadata": {},
   "outputs": [],
   "source": [
    "for counter, predictions in enumerate(naive_ls):\n",
    "    predictions.to_csv(\"derived_dataset//naive_predictions_\" + str(counter) + \".csv\", header = None)"
   ]
  },
  {
   "cell_type": "code",
   "execution_count": 69,
   "metadata": {},
   "outputs": [
    {
     "data": {
      "text/plain": [
       "1.3814951766095087e-08"
      ]
     },
     "execution_count": 69,
     "metadata": {},
     "output_type": "execute_result"
    }
   ],
   "source": [
    "naive_top"
   ]
  },
  {
   "cell_type": "code",
   "execution_count": 70,
   "metadata": {},
   "outputs": [
    {
     "data": {
      "text/plain": [
       "0.0009493908204448404"
      ]
     },
     "execution_count": 70,
     "metadata": {},
     "output_type": "execute_result"
    }
   ],
   "source": [
    "naive_mse"
   ]
  },
  {
   "cell_type": "code",
   "execution_count": 71,
   "metadata": {},
   "outputs": [
    {
     "data": {
      "text/plain": [
       "0.003337788461990313"
      ]
     },
     "execution_count": 71,
     "metadata": {},
     "output_type": "execute_result"
    }
   ],
   "source": [
    "naive_std"
   ]
  },
  {
   "cell_type": "markdown",
   "metadata": {},
   "source": [
    "# MSE Predictions"
   ]
  },
  {
   "cell_type": "code",
   "execution_count": 133,
   "metadata": {},
   "outputs": [
    {
     "name": "stderr",
     "output_type": "stream",
     "text": [
      "100% (100 of 100) |######################| Elapsed Time: 0:20:43 Time:  0:20:43\n",
      "100% (100 of 100) |######################| Elapsed Time: 0:21:12 Time:  0:21:12\n",
      "100% (100 of 100) |######################| Elapsed Time: 0:20:42 Time:  0:20:42\n",
      "100% (100 of 100) |######################| Elapsed Time: 0:20:02 Time:  0:20:02\n"
     ]
    }
   ],
   "source": [
    "# running tests for different time segments\n",
    "tuor_ls = list()\n",
    "\n",
    "# getting start time of execution\n",
    "tuor_start_time = time.time()\n",
    "    \n",
    "for start_day in start_day_ls:\n",
    "    # using different start times\n",
    "    temp_tuor = mse_predictions(df_selected_machines, \n",
    "                       start_time = 288*start_day, \n",
    "                       end_time = 288*start_day+test_length)\n",
    "    \n",
    "    tuor_ls.append(temp_tuor)\n",
    "\n",
    "# getting end time of execution\n",
    "tuor_end_time = time.time()"
   ]
  },
  {
   "cell_type": "code",
   "execution_count": 134,
   "metadata": {},
   "outputs": [],
   "source": [
    "# calculate top\n",
    "tuor_top = (tuor_end_time - tuor_start_time)/number_of_predictions\n",
    "\n",
    "# getting mse for tuor\n",
    "tuor_mse_ls = []\n",
    "\n",
    "for counter, tuor_predictions in enumerate(tuor_ls):\n",
    "    actual_matrix = df_selected_machines.iloc[288*start_day_ls[counter]:288*start_day_ls[counter]+test_length]\n",
    "    mse_ls = (tuor_predictions - actual_matrix)**2\n",
    "    \n",
    "    tuor_mse_ls = tuor_mse_ls + mse_ls.stack().tolist()\n",
    "\n",
    "tuor_mse = np.mean(tuor_mse_ls)\n",
    "tuor_std = np.std(tuor_mse_ls)"
   ]
  },
  {
   "cell_type": "code",
   "execution_count": 135,
   "metadata": {},
   "outputs": [],
   "source": [
    "for counter, predictions in enumerate(tuor_ls):\n",
    "    predictions.to_csv(\"derived_dataset//tuor_predictions_\" + str(counter) + \".csv\", header = None)"
   ]
  },
  {
   "cell_type": "code",
   "execution_count": 136,
   "metadata": {},
   "outputs": [
    {
     "data": {
      "text/plain": [
       "0.010748254358251958"
      ]
     },
     "execution_count": 136,
     "metadata": {},
     "output_type": "execute_result"
    }
   ],
   "source": [
    "tuor_top"
   ]
  },
  {
   "cell_type": "code",
   "execution_count": 137,
   "metadata": {},
   "outputs": [
    {
     "data": {
      "text/plain": [
       "0.001900618201180679"
      ]
     },
     "execution_count": 137,
     "metadata": {},
     "output_type": "execute_result"
    }
   ],
   "source": [
    "tuor_mse"
   ]
  },
  {
   "cell_type": "code",
   "execution_count": 138,
   "metadata": {},
   "outputs": [
    {
     "data": {
      "text/plain": [
       "0.007907961177442567"
      ]
     },
     "execution_count": 138,
     "metadata": {},
     "output_type": "execute_result"
    }
   ],
   "source": [
    "tuor_std"
   ]
  },
  {
   "cell_type": "markdown",
   "metadata": {},
   "source": [
    "# Compiling Results"
   ]
  },
  {
   "cell_type": "code",
   "execution_count": 139,
   "metadata": {},
   "outputs": [],
   "source": [
    "# compiling results\n",
    "results_mapping = dict()\n",
    "results_mapping[\"Naive\"] = [naive_mse, naive_std, naive_top]\n",
    "results_mapping[\"Brute Force\"] = [brute_force_mse, brute_force_std, brute_force_top]\n",
    "results_mapping[\"Correlation without ECR\"] = [corr_no_rolling_error_mse, corr_no_rolling_error_std, corr_no_rolling_error_top]\n",
    "results_mapping[\"Correlation with ECR\"] = [corr_rolling_error_mse, corr_rolling_error_std, corr_rolling_error_top]\n",
    "results_mapping[\"Tuor\"] = [tuor_mse, tuor_std, tuor_top]\n",
    "\n",
    "results_index = [\"MSE\", \"Error Std\", \"TOP\"]\n",
    "df_results = pd.DataFrame(results_mapping, index = results_index).transpose()"
   ]
  },
  {
   "cell_type": "code",
   "execution_count": 140,
   "metadata": {},
   "outputs": [
    {
     "data": {
      "text/html": [
       "<div>\n",
       "<style scoped>\n",
       "    .dataframe tbody tr th:only-of-type {\n",
       "        vertical-align: middle;\n",
       "    }\n",
       "\n",
       "    .dataframe tbody tr th {\n",
       "        vertical-align: top;\n",
       "    }\n",
       "\n",
       "    .dataframe thead th {\n",
       "        text-align: right;\n",
       "    }\n",
       "</style>\n",
       "<table border=\"1\" class=\"dataframe\">\n",
       "  <thead>\n",
       "    <tr style=\"text-align: right;\">\n",
       "      <th></th>\n",
       "      <th>MSE</th>\n",
       "      <th>Error Std</th>\n",
       "      <th>TOP</th>\n",
       "    </tr>\n",
       "  </thead>\n",
       "  <tbody>\n",
       "    <tr>\n",
       "      <th>Naive</th>\n",
       "      <td>0.000949</td>\n",
       "      <td>0.003338</td>\n",
       "      <td>1.381495e-08</td>\n",
       "    </tr>\n",
       "    <tr>\n",
       "      <th>Brute Force</th>\n",
       "      <td>0.000876</td>\n",
       "      <td>0.003024</td>\n",
       "      <td>1.532633e-01</td>\n",
       "    </tr>\n",
       "    <tr>\n",
       "      <th>Correlation without ECR</th>\n",
       "      <td>0.002033</td>\n",
       "      <td>0.016026</td>\n",
       "      <td>9.716558e-03</td>\n",
       "    </tr>\n",
       "    <tr>\n",
       "      <th>Correlation with ECR</th>\n",
       "      <td>0.002033</td>\n",
       "      <td>0.016026</td>\n",
       "      <td>9.747349e-03</td>\n",
       "    </tr>\n",
       "    <tr>\n",
       "      <th>Tuor</th>\n",
       "      <td>0.001901</td>\n",
       "      <td>0.007908</td>\n",
       "      <td>1.074825e-02</td>\n",
       "    </tr>\n",
       "  </tbody>\n",
       "</table>\n",
       "</div>"
      ],
      "text/plain": [
       "                              MSE  Error Std           TOP\n",
       "Naive                    0.000949   0.003338  1.381495e-08\n",
       "Brute Force              0.000876   0.003024  1.532633e-01\n",
       "Correlation without ECR  0.002033   0.016026  9.716558e-03\n",
       "Correlation with ECR     0.002033   0.016026  9.747349e-03\n",
       "Tuor                     0.001901   0.007908  1.074825e-02"
      ]
     },
     "execution_count": 140,
     "metadata": {},
     "output_type": "execute_result"
    }
   ],
   "source": [
    "df_results"
   ]
  },
  {
   "cell_type": "code",
   "execution_count": 141,
   "metadata": {},
   "outputs": [],
   "source": [
    "df_results.to_csv(\"derived_dataset//results.csv\")"
   ]
  },
  {
   "cell_type": "code",
   "execution_count": 144,
   "metadata": {},
   "outputs": [
    {
     "data": {
      "image/png": "[encoded data removed]",
      "text/plain": [
       "<Figure size 1152x288 with 1 Axes>"
      ]
     },
     "metadata": {
      "needs_background": "light"
     },
     "output_type": "display_data"
    }
   ],
   "source": [
    "# framework_ls[time_segment][machine_index]\n",
    "\n",
    "time_segment = 0\n",
    "machine_index = 0\n",
    "\n",
    "plt.figure(figsize = (16,4))\n",
    "plt.plot(tuor_ls[time_segment][machine_index], label = \"Tuor\")\n",
    "plt.plot(naive_ls[time_segment][machine_index], label = \"Naive\")\n",
    "plt.plot(brute_force_ls[time_segment][machine_index], label = \"Brute Force\")\n",
    "plt.plot(corr_no_rolling_error_ls[time_segment][machine_index], label = \"Correlation\")\n",
    "plt.plot(df_cpu[machine_index].iloc[tuor_ls[time_segment][machine_index].index], label = \"Actual\")\n",
    "plt.legend()\n",
    "plt.grid()"
   ]
  },
  {
   "cell_type": "code",
   "execution_count": 111,
   "metadata": {},
   "outputs": [
    {
     "data": {
      "text/plain": [
       "2880   -0.004550\n",
       "2881    0.033050\n",
       "2882    0.069140\n",
       "2883    0.019731\n",
       "2884    0.018452\n",
       "          ...   \n",
       "2975    0.029554\n",
       "2976    0.034509\n",
       "2977    0.030207\n",
       "2978    0.044084\n",
       "2979    0.034387\n",
       "Name: 0, Length: 100, dtype: float64"
      ]
     },
     "execution_count": 111,
     "metadata": {},
     "output_type": "execute_result"
    }
   ],
   "source": [
    "# plt.figure(figsize = (16,4))\n",
    "# plt.plot(tuor_ls[][0], label = \"Tuor\")\n",
    "# plt.plot(naive_ls[][0], label = \"Naive\")\n",
    "# plt.plot(corr_no_rolling_error_ls[0][0], label = \"Correlation\")\n",
    "# plt.plot(df_cpu[0].iloc[1440:1540], label = \"Actual\")\n",
    "# plt.legend()\n",
    "# plt.grid()"
   ]
  },
  {
   "cell_type": "code",
   "execution_count": null,
   "metadata": {},
   "outputs": [],
   "source": []
  }
 ],
 "metadata": {
  "kernelspec": {
   "display_name": "Python 3",
   "language": "python",
   "name": "python3"
  },
  "language_info": {
   "codemirror_mode": {
    "name": "ipython",
    "version": 3
   },
   "file_extension": ".py",
   "mimetype": "text/x-python",
   "name": "python",
   "nbconvert_exporter": "python",
   "pygments_lexer": "ipython3",
   "version": "3.7.3"
  }
 },
 "nbformat": 4,
 "nbformat_minor": 2
}
