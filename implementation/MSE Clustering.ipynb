{
 "cells": [
  {
   "cell_type": "code",
   "execution_count": null,
   "metadata": {},
   "outputs": [],
   "source": [
    "%%javascript\n",
    "IPython.OutputArea.prototype._should_scroll = function(lines){\n",
    "    return false;\n",
    "}"
   ]
  },
  {
   "cell_type": "code",
   "execution_count": null,
   "metadata": {},
   "outputs": [],
   "source": [
    "# ignoring warnings\n",
    "\n",
    "import warnings\n",
    "warnings.filterwarnings('ignore')"
   ]
  },
  {
   "cell_type": "code",
   "execution_count": null,
   "metadata": {},
   "outputs": [],
   "source": [
    "import pandas as pd\n",
    "import matplotlib\n",
    "import matplotlib.pyplot as plt\n",
    "import numpy as np\n",
    "import random\n",
    "from random import randrange\n",
    "import progressbar\n",
    "from sklearn.cluster import AgglomerativeClustering as agc\n",
    "from sklearn.linear_model import LinearRegression\n",
    "from sklearn.cluster import KMeans\n",
    "from statsmodels.tsa.arima_model import ARIMA\n",
    "\n",
    "SELECT_NUMBER = 1000\n",
    "\n",
    "random.seed(1)\n",
    "x_axis = np.arange(0, 29-1/288, 1/288).tolist()\n",
    "np_cpu = np.load(\"dataset//google-cpu-full.npy\")"
   ]
  },
  {
   "cell_type": "code",
   "execution_count": null,
   "metadata": {},
   "outputs": [],
   "source": [
    "selected_machines = pd.read_csv(\"derived_dataset//df_updated_selected_machines.csv\", header = None)\n",
    "selected_machines = selected_machines[1]\n",
    "\n",
    "# df_cpu is a dataframe with all the cpu utilisation data (columns = machine; rows = time)\n",
    "# dropping last 32 lines with corrupted data\n",
    "\n",
    "df_cpu = pd.DataFrame(np_cpu).transpose()\n",
    "df_selected_machines = df_cpu[selected_machines].drop(df_cpu.tail(32).index)"
   ]
  },
  {
   "cell_type": "code",
   "execution_count": null,
   "metadata": {},
   "outputs": [],
   "source": [
    "def kmeans_cluster_map(cpu_t, number_of_cluster = 50):\n",
    "    # takes in cpu at a single time index and creates a map of cluster index to list of machine index in the cluster\n",
    "    # cpu_t is a pd.series with values of cpu at time t \n",
    "    \n",
    "    # get machine index\n",
    "    machine_index = cpu_t.columns\n",
    "    number_of_machine = len(machine_index)\n",
    "    \n",
    "    # converting cpu_t to appropriate data structure\n",
    "    cpu_t = cpu_t.mean().values.reshape(-1,1)\n",
    "    \n",
    "    # computing the clusters\n",
    "    kmeans = KMeans(n_clusters=number_of_cluster, random_state = 0)\n",
    "    clustering_output = kmeans.fit(cpu_t).labels_\n",
    "    \n",
    "    # initialising a map for clusters\n",
    "    cluster_map = {}\n",
    "    for x in range(0,number_of_cluster):\n",
    "        cluster_map[x] = []\n",
    "\n",
    "    # get a map for each cluster\n",
    "    # key is cluster index; values is list of machines in that cluster\n",
    "    for x in range(0,number_of_machine):\n",
    "        cluster_map[clustering_output[x]].append(machine_index[x])\n",
    "        \n",
    "    return cluster_map\n",
    "\n",
    "def arima_predictions(timeseries, input_arima_order = (3,0,0)):\n",
    "    # takes in a timeseries\n",
    "    # outputs a single prediction in the next timestep\n",
    "    \n",
    "    timeseries = timeseries.values\n",
    "    model = ARIMA(timeseries, order = input_arima_order)\n",
    "    model_fit = model.fit(disp=0)\n",
    "    prediction = model_fit.forecast()[0][0]\n",
    "    \n",
    "    return prediction\n",
    "\n",
    "def mse_cluster_prediction(cpu_data, input_arima_order, past_error):\n",
    "    # generate predictions for all machines in cluster at next single timestep\n",
    "    # returns a map of machine to predictions\n",
    "    \n",
    "    # get generalisation model (analogous to best_machine in correlation_prediction)\n",
    "    general_model = cpu_data.mean(axis = 1)\n",
    "    \n",
    "    # make predictions on best machine\n",
    "    general_model_prediction = arima_predictions(general_model, input_arima_order = input_arima_order)\n",
    "    \n",
    "    # get the rolling_error\n",
    "    rolling_error = past_error.mean()\n",
    "    \n",
    "    # scale general_model to fit all the other machines\n",
    "    cluster_prediction = dict()\n",
    "    for index, machine_index in enumerate(cpu_data.columns):\n",
    "        cluster_prediction[machine_index] = general_model_prediction + rolling_error[machine_index]\n",
    "        \n",
    "    return cluster_prediction, general_model_prediction\n",
    "\n",
    "def mse_predictions(cpu_data, number_of_cluster = 50, start_time = 288, end_time = None, past_error_range = 5, rolling_cluster_window = 5):\n",
    "\n",
    "    ''' high level function for making predictons using the tuor framework\n",
    "\n",
    "        param:  cpu_data:   df with CPU index as columns and time-step as rows, must contain time-step for at least [start_time-3:end_time-2]\n",
    "                            ARIMA models are trained with all time-steps before the \"prediction time-step\" i.e. prediction x[n] is made using data from x[:n]\n",
    "                            Predictions are made for all machines index included in cpu_data, to exclude predicting certain machine index, drop from cpu_data\n",
    "        param:  rolling_cluster_window:     number of past values to be considered for clustering at each time-step\n",
    "        param:  number_of_cluster : number of clusters used for clustering per time-step\n",
    "        param:  start_time, end_time :  prediction is made for from start_time to (end_time - 1) inclusive\n",
    "                                     :  keep end_time = None to make predictions for the entire length of cpu_data i.e. predictions made from x[start_time:]\n",
    "        param: past_error_range  :  predictions are offset using a rolling error window of size (defined here) using past errors   \n",
    "\n",
    "    returns : df matrix of prediction with columns as machine and rows as time index\n",
    "    '''\n",
    "\n",
    "    arima_order = (3,0,0)\n",
    "    machine_index = cpu_data.columns\n",
    "    number_of_machine = len(cpu_data.columns)\n",
    "    all_predictions = pd.DataFrame(columns = cpu_data.columns)\n",
    "    df_past_error = pd.DataFrame(0, columns = cpu_data.columns, index = np.arange(0,past_error_range))\n",
    "    \n",
    "    if end_time == None:\n",
    "        end_time = len(cpu_data.index)\n",
    "    \n",
    "    with progressbar.ProgressBar(max_value = end_time-start_time) as bar:\n",
    "        for current_time in range(start_time, end_time):\n",
    "    \n",
    "            bar.update(current_time-start_time)\n",
    "\n",
    "            # perform clustering at (current time - 1) index\n",
    "            # note clustering is only done using last \"rolling_cluster_window\" points\n",
    "            cluster = kmeans_cluster_map(cpu_data.iloc[current_time - rolling_cluster_window: current_time], \n",
    "                                         number_of_cluster = number_of_cluster)\n",
    "\n",
    "            # initialise dict for machine to prediction in current timestep\n",
    "            curr_all_machine_pred = {}\n",
    "            curr_general_pred = {}\n",
    "\n",
    "            for ls_machine_in_cluster in cluster.values():\n",
    "                \n",
    "                # make predictions for all machine in each cluster\n",
    "                cluster_predictions, general_prediction = mse_cluster_prediction(cpu_data = cpu_data[ls_machine_in_cluster], \n",
    "                                                             input_arima_order = (3,0,0), \n",
    "                                                             past_error = df_past_error[ls_machine_in_cluster])\n",
    "                \n",
    "                # curr_all_machine_pred is a dict with key = machine, value = current timestep prediction\n",
    "                curr_all_machine_pred = {**curr_all_machine_pred, **cluster_predictions}\n",
    "                \n",
    "                for machine_index in ls_machine_in_cluster:\n",
    "                    curr_general_pred[machine_index] = general_prediction\n",
    "\n",
    "            # update df_past_error with most updated time index\n",
    "            # start by getting the current error\n",
    "            curr_all_machine_error = cpu_data.iloc[current_time] - pd.DataFrame(curr_general_pred, index = [current_time])\n",
    "            \n",
    "            df_past_error = df_past_error.append(curr_all_machine_error, \n",
    "                                                 ignore_index = True)\n",
    "            df_past_error = df_past_error.drop(0).reset_index().drop(\"index\", axis = 1)\n",
    "            \n",
    "            # append the current predicition to all the predictions\n",
    "            current_df = pd.DataFrame(curr_all_machine_pred, index = [current_time])\n",
    "            \n",
    "            all_predictions = all_predictions.append(current_df, sort = True)\n",
    "        \n",
    "    return all_predictions"
   ]
  },
  {
   "cell_type": "code",
   "execution_count": null,
   "metadata": {},
   "outputs": [],
   "source": [
    "rolling_2 = mse_predictions(df_selected_machines, \n",
    "                                   number_of_cluster = 50, \n",
    "                                   start_time = 288, \n",
    "                                   end_time = 288+10,\n",
    "                                   past_error_range = 2, \n",
    "                                   rolling_cluster_window = 3)"
   ]
  },
  {
   "cell_type": "code",
   "execution_count": null,
   "metadata": {},
   "outputs": [],
   "source": [
    "# empirically finding the best past_error_range and rolling_cluster_window\n",
    "\n",
    "rolling_2 = mse_predictions(df_selected_machines, \n",
    "                                   number_of_cluster = 50, \n",
    "                                   start_time = 288, \n",
    "                                   end_time = 288+72,\n",
    "                                   past_error_range = 2, \n",
    "                                   rolling_cluster_window = 3)\n",
    "\n",
    "rolling_5 = mse_predictions(df_selected_machines, \n",
    "                                   number_of_cluster = 50, \n",
    "                                   start_time = 288, \n",
    "                                   end_time = 288+72,\n",
    "                                   past_error_range = 5, \n",
    "                                   rolling_cluster_window = 5)\n",
    "\n",
    "rolling_3 = mse_predictions(df_selected_machines, \n",
    "                                   number_of_cluster = 50, \n",
    "                                   start_time = 288, \n",
    "                                   end_time = 288+72,\n",
    "                                   past_error_range = 3, \n",
    "                                   rolling_cluster_window = 3)\n",
    "\n",
    "rolling_7 = mse_predictions(df_selected_machines, \n",
    "                                   number_of_cluster = 50, \n",
    "                                   start_time = 288, \n",
    "                                   end_time = 288+72,\n",
    "                                   past_error_range = 7, \n",
    "                                   rolling_cluster_window = 7)"
   ]
  },
  {
   "cell_type": "code",
   "execution_count": null,
   "metadata": {},
   "outputs": [],
   "source": [
    "((rolling_3 - df_selected_machines[288:288+72])**2).mean().mean()"
   ]
  },
  {
   "cell_type": "code",
   "execution_count": null,
   "metadata": {},
   "outputs": [],
   "source": [
    "((rolling_5 - df_selected_machines[288:288+72])**2).mean().mean()"
   ]
  },
  {
   "cell_type": "code",
   "execution_count": null,
   "metadata": {},
   "outputs": [],
   "source": [
    "((rolling_7 - df_selected_machines[288:288+72])**2).mean().mean()"
   ]
  },
  {
   "cell_type": "code",
   "execution_count": null,
   "metadata": {},
   "outputs": [],
   "source": [
    "((rolling_2_3 - df_selected_machines[288:288+72])**2).mean().mean()"
   ]
  },
  {
   "cell_type": "code",
   "execution_count": null,
   "metadata": {},
   "outputs": [],
   "source": [
    "rolling_1_1 = mse_predictions(df_selected_machines, \n",
    "                                   number_of_cluster = 50, \n",
    "                                   start_time = 288, \n",
    "                                   end_time = 288+72,\n",
    "                                   past_error_range = 1, \n",
    "                                   rolling_cluster_window = 1)"
   ]
  },
  {
   "cell_type": "code",
   "execution_count": null,
   "metadata": {},
   "outputs": [],
   "source": [
    "rolling_1_2 = mse_predictions(df_selected_machines, \n",
    "                                   number_of_cluster = 50, \n",
    "                                   start_time = 288, \n",
    "                                   end_time = 288+72,\n",
    "                                   past_error_range = 1, \n",
    "                                   rolling_cluster_window = 2)"
   ]
  },
  {
   "cell_type": "code",
   "execution_count": null,
   "metadata": {},
   "outputs": [],
   "source": [
    "rolling_2_1 = mse_predictions(df_selected_machines, \n",
    "                                   number_of_cluster = 50, \n",
    "                                   start_time = 288, \n",
    "                                   end_time = 288+72,\n",
    "                                   past_error_range = 2, \n",
    "                                   rolling_cluster_window = 1)"
   ]
  },
  {
   "cell_type": "code",
   "execution_count": null,
   "metadata": {},
   "outputs": [],
   "source": [
    "rolling_2_2 = mse_predictions(df_selected_machines, \n",
    "                                   number_of_cluster = 50, \n",
    "                                   start_time = 288, \n",
    "                                   end_time = 288+72,\n",
    "                                   past_error_range = 2, \n",
    "                                   rolling_cluster_window = 2)"
   ]
  },
  {
   "cell_type": "code",
   "execution_count": null,
   "metadata": {},
   "outputs": [],
   "source": [
    "rolling_1_3 = mse_predictions(df_selected_machines, \n",
    "                                   number_of_cluster = 50, \n",
    "                                   start_time = 288, \n",
    "                                   end_time = 288+72,\n",
    "                                   past_error_range = 1, \n",
    "                                   rolling_cluster_window = 3)"
   ]
  },
  {
   "cell_type": "code",
   "execution_count": null,
   "metadata": {},
   "outputs": [],
   "source": [
    "rolling_2_3 = mse_predictions(df_selected_machines, \n",
    "                                   number_of_cluster = 50, \n",
    "                                   start_time = 288, \n",
    "                                   end_time = 288+72,\n",
    "                                   past_error_range = 2, \n",
    "                                   rolling_cluster_window = 3)"
   ]
  },
  {
   "cell_type": "code",
   "execution_count": null,
   "metadata": {},
   "outputs": [],
   "source": [
    "rolling_3_1 = mse_predictions(df_selected_machines, \n",
    "                                   number_of_cluster = 50, \n",
    "                                   start_time = 288, \n",
    "                                   end_time = 288+72,\n",
    "                                   past_error_range = 3, \n",
    "                                   rolling_cluster_window = 1)"
   ]
  },
  {
   "cell_type": "code",
   "execution_count": null,
   "metadata": {},
   "outputs": [],
   "source": [
    "rolling_3_2 = mse_predictions(df_selected_machines, \n",
    "                                   number_of_cluster = 50, \n",
    "                                   start_time = 288, \n",
    "                                   end_time = 288+72,\n",
    "                                   past_error_range = 3, \n",
    "                                   rolling_cluster_window = 2)"
   ]
  },
  {
   "cell_type": "code",
   "execution_count": null,
   "metadata": {},
   "outputs": [],
   "source": [
    "mse_1_1 = ((rolling_1_1 - df_selected_machines[288:288+72])**2).mean().mean()\n",
    "mse_1_2 = ((rolling_1_2 - df_selected_machines[288:288+72])**2).mean().mean()\n",
    "mse_1_3 = ((rolling_1_3 - df_selected_machines[288:288+72])**2).mean().mean()\n",
    "mse_2_1 = ((rolling_2_1 - df_selected_machines[288:288+72])**2).mean().mean()\n",
    "mse_2_2 = ((rolling_2_2 - df_selected_machines[288:288+72])**2).mean().mean()\n",
    "mse_2_3 = ((rolling_2_3 - df_selected_machines[288:288+72])**2).mean().mean()\n",
    "mse_3_1 = ((rolling_3_1 - df_selected_machines[288:288+72])**2).mean().mean()\n",
    "mse_3_2 = ((rolling_3_2 - df_selected_machines[288:288+72])**2).mean().mean()\n",
    "mse_3_3 = ((rolling_3 - df_selected_machines[288:288+72])**2).mean().mean()\n",
    "\n",
    "combination_ls = [\"(1,1)\",\n",
    "                  \"(1,2)\",\n",
    "                  \"(1,3)\",\n",
    "                  \"(2,1)\",\n",
    "                  \"(2,2)\",\n",
    "                  \"(2,3)\",\n",
    "                  \"(3,1)\",\n",
    "                  \"(3,2)\",\n",
    "                  \"(3,3)\"]\n",
    "\n",
    "mse_ls = [mse_1_1,\n",
    "          mse_1_2,\n",
    "          mse_1_3,\n",
    "          mse_2_1,\n",
    "          mse_2_2,\n",
    "          mse_2_3,\n",
    "          mse_3_1,\n",
    "          mse_3_2,\n",
    "          mse_3_3,]\n",
    "\n",
    "df_mse = pd.DataFrame(mse_ls, index = combination_ls, columns = [\"MSE\"])"
   ]
  },
  {
   "cell_type": "code",
   "execution_count": null,
   "metadata": {},
   "outputs": [],
   "source": [
    "df_mse"
   ]
  },
  {
   "cell_type": "code",
   "execution_count": null,
   "metadata": {},
   "outputs": [],
   "source": []
  }
 ],
 "metadata": {
  "kernelspec": {
   "display_name": "Python 3",
   "language": "python",
   "name": "python3"
  },
  "language_info": {
   "codemirror_mode": {
    "name": "ipython",
    "version": 3
   },
   "file_extension": ".py",
   "mimetype": "text/x-python",
   "name": "python",
   "nbconvert_exporter": "python",
   "pygments_lexer": "ipython3",
   "version": "3.7.3"
  }
 },
 "nbformat": 4,
 "nbformat_minor": 2
}
