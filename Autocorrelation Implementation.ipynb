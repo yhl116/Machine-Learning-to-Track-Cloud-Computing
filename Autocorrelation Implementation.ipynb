{
 "cells": [
  {
   "cell_type": "markdown",
   "metadata": {},
   "source": [
    "## Autocorrelation Implementation with Pandas and Numpy\n",
    "\n",
    "Python (particularly in the widely used Pandas and Numpy libraries) has a few different implementations of the autocorrelation function: \"circular\" autocorrelation, \"linear\" autocorrelation and between those two, some slight difference between functions exists. This Notebook aims to clarify the implementation of each of the different implementations and conclude the one which will be used in my final year project."
   ]
  },
  {
   "cell_type": "code",
   "execution_count": 1,
   "metadata": {},
   "outputs": [],
   "source": [
    "import numpy as np\n",
    "import pandas as pd"
   ]
  },
  {
   "cell_type": "code",
   "execution_count": null,
   "metadata": {},
   "outputs": [],
   "source": [
    "(np.correlate([1,2,3], [1,2,3], \"full\"))"
   ]
  },
  {
   "cell_type": "markdown",
   "metadata": {},
   "source": [
    "## Numpy correlate\n",
    "Numpy correlate performs only sum of multiplications at each element. The output of this equation is not normalised hence does not given a good analysis between different timeseries.\n",
    "\n",
    "\\begin{equation*}\n",
    "\\left( r(k, X, Y) = \\sum_{n=0}^{N} x_n y_{n+k} \\right) where -(N-1) \\leq k \\leq (N-1)\n",
    "\\end{equation*}"
   ]
  },
  {
   "cell_type": "code",
   "execution_count": 3,
   "metadata": {},
   "outputs": [],
   "source": [
    "k = pd.Series([1,4,2,1,7])\n",
    "a = [k.autocorr(n) for n in range(len(k))]"
   ]
  },
  {
   "cell_type": "markdown",
   "metadata": {},
   "source": [
    "## Pandas Series autocorr\n",
    "Pandas Series autocorr performs circular autocorrelation on the series. The mean and the variance of r(k) changes with the lag. The output is normalised but the edging effect makes the output difficult to analyse especially towards the end where the function will always tend to 1 or -1."
   ]
  },
  {
   "cell_type": "markdown",
   "metadata": {},
   "source": [
    "## Pandas DataFrame Corr\n",
    "Pandas DataFrame corr performs Pearson's correlation between each of the columns. Essentially it can only be modified to perform the Pandas Series autocorr function."
   ]
  },
  {
   "cell_type": "code",
   "execution_count": 5,
   "metadata": {},
   "outputs": [],
   "source": [
    "def linear_autocorrelation(timeseries):\n",
    "    '''performs linear autocorrelation on timeseries\n",
    "    variance and mean stays constant\n",
    "    '''\n",
    "    \n",
    "    variance = np.var(timeseries)\n",
    "    mean = np.mean(timeseries)\n",
    "    answer = []\n",
    "    summing = 0\n",
    "    \n",
    "    for x in range(0,len(timeseries)):\n",
    "        temp = np.append(timeseries[x:], timeseries[:x])\n",
    "        for y in range (0,(len(temp)-x)):\n",
    "            summing = summing + (temp[y] - mean)*(timeseries[y] - mean)\n",
    "        \n",
    "        answer.append((summing/variance)/len(timeseries))\n",
    "        summing = 0\n",
    "        \n",
    "    return answer"
   ]
  },
  {
   "cell_type": "markdown",
   "metadata": {},
   "source": [
    "## Manual Implementation of Linear Autocorrelation\n",
    "Linear Autocorrelation with the variance and the mean remain constant as the mean and variance of the entire timeseries thoughout the calculation of r(k) for all values of k"
   ]
  },
  {
   "cell_type": "code",
   "execution_count": null,
   "metadata": {},
   "outputs": [],
   "source": []
  }
 ],
 "metadata": {
  "kernelspec": {
   "display_name": "Python 3",
   "language": "python",
   "name": "python3"
  },
  "language_info": {
   "codemirror_mode": {
    "name": "ipython",
    "version": 3
   },
   "file_extension": ".py",
   "mimetype": "text/x-python",
   "name": "python",
   "nbconvert_exporter": "python",
   "pygments_lexer": "ipython3",
   "version": "3.7.3"
  }
 },
 "nbformat": 4,
 "nbformat_minor": 2
}
